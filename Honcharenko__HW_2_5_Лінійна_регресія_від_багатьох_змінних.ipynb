{
  "nbformat": 4,
  "nbformat_minor": 0,
  "metadata": {
    "colab": {
      "provenance": []
    },
    "kernelspec": {
      "name": "python3",
      "display_name": "Python 3"
    },
    "language_info": {
      "name": "python"
    }
  },
  "cells": [
    {
      "cell_type": "markdown",
      "source": [
        "В цьому домашньому завданні ми з вами побудуємо повноцінне ML-рішення реальної ML-задачі. Ви вже маєте всі знання, які для цього потрібні. Дотримуйтесь інструкцій, та користуйтесь матеріалами лекцій, аби виконувати завдання. Тут інструкції будуть детальні, а в подільших завданнях - будуть ставати все менш детальними, аби ви вже починали самостійно структурувати ML-проєкт і до кінця курсу для вас розвʼязати будь-яку ML–задачу було eazy-breezy.\n",
        "\n",
        "## Dataset\n",
        "\n",
        "Будемо працювати з набором даних `cars.csv`, який описує автомобілі і їх ціну у індійських рупіях :) Мета - передбачити ціну авто за його характеристиками. Опис набору даних:\n",
        "\n",
        "| Назва рядка            | Опис                                                                                                                                                 |\n",
        "|------------------------|--------------------------------------------------------------------------------------------------------------------------------------------------------|\n",
        "| Car_ID                 | Унікальний ідентифікатор для кожного оголошення про автомобіль.                                                                                         |\n",
        "| Brand                  | Бренд або виробник автомобіля (наприклад, Toyota, Honda, Ford тощо).                                                                                     |\n",
        "| Model                  | Модель автомобіля (наприклад, Camry, Civic, Mustang тощо).                                                                                               |\n",
        "| Year                   | Рік виготовлення автомобіля.                                                                                                                            |\n",
        "| Kilometers_Driven      | Загальний пробіг автомобіля у кілометрах.                                                                                                               |\n",
        "| Fuel_Type              | Тип палива, який використовує автомобіль (наприклад, бензин, дизель, електро тощо).                                                                      |\n",
        "| Transmission           | Тип трансмісії автомобіля (наприклад, механічна, автоматична).                                                                                           |\n",
        "| Owner_Type             | Кількість попередніх власників автомобіля (наприклад, перший, другий, третій).                                                                           |\n",
        "| Mileage                | Паливна ефективність автомобіля у кілометрах на літр.                                                                                                   |\n",
        "| Engine                 | Об'єм двигуна автомобіля в кубічних сантиметрах (CC).                                                                                                   |\n",
        "| Power                  | Максимальна потужність автомобіля в кінських силах (bhp).                                                                                               |\n",
        "| Seats                  | Кількість місць в автомобілі.                                                                                                                           |\n",
        "| Price                  | Вартість автомобіля в INR (індійські рупії), що є цільовою змінною для прогнозування.                                                                   |"
      ],
      "metadata": {
        "id": "87fwNK3xoy5K"
      }
    },
    {
      "cell_type": "markdown",
      "metadata": {
        "papermill": {
          "duration": 0.006069,
          "end_time": "2024-05-08T20:04:53.925383",
          "exception": false,
          "start_time": "2024-05-08T20:04:53.919314",
          "status": "completed"
        },
        "tags": [],
        "id": "52f35fee"
      },
      "source": [
        "# Імпорти\n",
        "\n",
        "Для зручності рекомендую всі імпорти розмістити тут нагорі, аби коли ви перезавантажували ноутбук, одразу можна було в один запуск клітинки імпортувати всі потрібні бібліотеки."
      ]
    },
    {
      "cell_type": "code",
      "execution_count": 1,
      "metadata": {
        "execution": {
          "iopub.execute_input": "2024-05-08T20:04:53.940205Z",
          "iopub.status.busy": "2024-05-08T20:04:53.939265Z",
          "iopub.status.idle": "2024-05-08T20:04:56.366812Z",
          "shell.execute_reply": "2024-05-08T20:04:56.365880Z"
        },
        "papermill": {
          "duration": 2.43769,
          "end_time": "2024-05-08T20:04:56.369349",
          "exception": false,
          "start_time": "2024-05-08T20:04:53.931659",
          "status": "completed"
        },
        "tags": [],
        "id": "0a49b1bb"
      },
      "outputs": [],
      "source": [
        "import matplotlib.pyplot as plt\n",
        "import numpy as np\n",
        "import pandas as pd\n",
        "import seaborn as sns\n",
        "from sklearn.model_selection import train_test_split\n",
        "import statsmodels.api as sm\n",
        "from sklearn import preprocessing\n",
        "from sklearn.linear_model import LinearRegression\n",
        "from sklearn.metrics import mean_squared_error\n",
        "from sklearn.preprocessing import MinMaxScaler, StandardScaler"
      ]
    },
    {
      "cell_type": "markdown",
      "source": [
        "# Знайомство з даними"
      ],
      "metadata": {
        "id": "mpKIfgg-FV98"
      }
    },
    {
      "cell_type": "markdown",
      "metadata": {
        "papermill": {
          "duration": 0.006026,
          "end_time": "2024-05-08T20:04:56.381857",
          "exception": false,
          "start_time": "2024-05-08T20:04:56.375831",
          "status": "completed"
        },
        "tags": [],
        "id": "fc07024e"
      },
      "source": [
        "**Завдання 1.** Завантажте набір даних `cars.csv` в pandas.DataFrame. Виведіть перші 5 записів."
      ]
    },
    {
      "cell_type": "code",
      "source": [
        "from google.colab import drive\n",
        "drive.mount('/content/drive')"
      ],
      "metadata": {
        "id": "lKtSXyENfJxD",
        "colab": {
          "base_uri": "https://localhost:8080/"
        },
        "outputId": "80c6b13e-84e5-453c-b645-34e29a4a49f7"
      },
      "execution_count": 2,
      "outputs": [
        {
          "output_type": "stream",
          "name": "stdout",
          "text": [
            "Drive already mounted at /content/drive; to attempt to forcibly remount, call drive.mount(\"/content/drive\", force_remount=True).\n"
          ]
        }
      ]
    },
    {
      "cell_type": "code",
      "source": [
        "cars_df = pd.read_csv('/content/drive/MyDrive/Data Science/cars.csv')"
      ],
      "metadata": {
        "id": "6tWnAVm9LBpz"
      },
      "execution_count": 3,
      "outputs": []
    },
    {
      "cell_type": "markdown",
      "source": [
        "**Завдання 2.** Виведіть типи даних колонок даних, а також дослідіть, які по факту типи даних мають записи в кожній колонці (тип `object` може містити різні типи даних) і скільки значень є в кожній категоріальній колонці.\n",
        "\n",
        "Напишіть висновок, скільки в наборі даних числових та категоріальних колонок кожного з трьох різних типів (бінарна, мільтикатегоріальна без порядку, мультикатегоріальна з порядком). Шаблон висновку\n",
        "\n",
        "```\n",
        "В наборі даних 10 числових і 10 категоріальних колонок з них\n",
        "- 2 бінарні (мають лише 2 значення)\n",
        "- 6 мультикатегоріальних (більше 2х значень) зі значеннями, для яких немає відношення порядку\n",
        "- 2 колонки, в яких можна встановити відношення порядку (наприклад Small<Medium<Large)\n",
        "```\n",
        "\n",
        "Якщо не знаєте, як це зробити з `pandas` - ось підказка, які методи можуть допомогти вам виконати це завдання\n",
        "\n",
        "- pandas.DataFrame.info()\n",
        "- pandas.DataFrame.dtypes\n",
        "- pandas.DataFrame.loc[...]\n",
        "- pandas.DataFrame.select_dtypes(...)\n",
        "- pandas.Series.unique()\n",
        "- pandas.Series.nunique()\n",
        "\n",
        "Детальніше ознайомитись з кожним ви можете в [документації](https://pandas.pydata.org/docs/reference/frame.html), або написати в окремій клітинці знак питання і назву методу (тільки приберіть це перед здачею, бо перегляд документації - не допомагає зрозуміти дані і хід думок, а Ваша робота - це як презентація замовнику зробленої задачі).\n"
      ],
      "metadata": {
        "id": "BlayjhivF7Ha"
      }
    },
    {
      "cell_type": "code",
      "source": [
        "# приклад як викликати документацію, якщо у Вас pandas імпортований як pd\n",
        "?pd.DataFrame.info"
      ],
      "metadata": {
        "id": "jRUUJd2CJW3s"
      },
      "execution_count": 4,
      "outputs": []
    },
    {
      "cell_type": "code",
      "source": [
        "cars_df.Brand.unique()"
      ],
      "metadata": {
        "colab": {
          "base_uri": "https://localhost:8080/"
        },
        "id": "7g57ZsfAMDJh",
        "outputId": "c11aede1-8693-4dfb-ad52-fa7e9fbc8c07"
      },
      "execution_count": 5,
      "outputs": [
        {
          "output_type": "execute_result",
          "data": {
            "text/plain": [
              "array(['Toyota', 'Honda', 'Ford', 'Maruti', 'Hyundai', 'Tata', 'Mahindra',\n",
              "       'Volkswagen', 'Audi', 'BMW', 'Mercedes'], dtype=object)"
            ]
          },
          "metadata": {},
          "execution_count": 5
        }
      ]
    },
    {
      "cell_type": "code",
      "source": [
        "cars_df.Model.unique()"
      ],
      "metadata": {
        "colab": {
          "base_uri": "https://localhost:8080/"
        },
        "id": "yEL7bXGxMQNd",
        "outputId": "6c42270e-985a-493c-d7ca-f7f0fcb29a12"
      },
      "execution_count": 6,
      "outputs": [
        {
          "output_type": "execute_result",
          "data": {
            "text/plain": [
              "array(['Corolla', 'Civic', 'Mustang', 'Swift', 'Sonata', 'Nexon',\n",
              "       'Scorpio', 'Polo', 'A4', 'X1', 'C-Class', 'Endeavour', 'Creta',\n",
              "       'Harrier', 'Ertiga', 'City', 'Tiguan', 'Q3', '5 Series', 'GLC',\n",
              "       'Innova', 'Figo', 'Verna', 'Altroz', 'Thar', 'Passat', 'A6', 'X3',\n",
              "       'E-Class', 'Fortuner', 'Aspire', 'Elantra', 'Safari', 'Vitara',\n",
              "       'WR-V', 'Ameo', 'A3', '7 Series', 'GLE', 'Yaris', 'Ranger',\n",
              "       'Santro', 'Tigor', 'S-Cross', 'BR-V', 'T-Roc', 'Q7', 'X5', 'GLA',\n",
              "       'Camry', 'Venue', 'Tiago', 'XUV300', 'Vento', 'A5', '3 Series',\n",
              "       'Innova Crysta', 'EcoSport'], dtype=object)"
            ]
          },
          "metadata": {},
          "execution_count": 6
        }
      ]
    },
    {
      "cell_type": "code",
      "source": [
        "cars_df.Fuel_Type.unique()"
      ],
      "metadata": {
        "colab": {
          "base_uri": "https://localhost:8080/"
        },
        "id": "cMEraklTMUrH",
        "outputId": "11a01399-2d88-44d8-9ddd-8541d5d084ab"
      },
      "execution_count": 7,
      "outputs": [
        {
          "output_type": "execute_result",
          "data": {
            "text/plain": [
              "array(['Petrol', 'Diesel'], dtype=object)"
            ]
          },
          "metadata": {},
          "execution_count": 7
        }
      ]
    },
    {
      "cell_type": "code",
      "source": [
        "cars_df.Transmission.unique()"
      ],
      "metadata": {
        "colab": {
          "base_uri": "https://localhost:8080/"
        },
        "id": "I3uLZJ2oMa54",
        "outputId": "5ce8f2f4-7323-4f44-e017-c7fd4ea8638b"
      },
      "execution_count": 8,
      "outputs": [
        {
          "output_type": "execute_result",
          "data": {
            "text/plain": [
              "array(['Manual', 'Automatic'], dtype=object)"
            ]
          },
          "metadata": {},
          "execution_count": 8
        }
      ]
    },
    {
      "cell_type": "code",
      "source": [
        "cars_df.Owner_Type.unique()"
      ],
      "metadata": {
        "colab": {
          "base_uri": "https://localhost:8080/"
        },
        "id": "H05dq-nVMeut",
        "outputId": "884d5e1d-1b4d-4ff1-8329-9a4b72d6424c"
      },
      "execution_count": 9,
      "outputs": [
        {
          "output_type": "execute_result",
          "data": {
            "text/plain": [
              "array(['First', 'Second', 'Third'], dtype=object)"
            ]
          },
          "metadata": {},
          "execution_count": 9
        }
      ]
    },
    {
      "cell_type": "code",
      "source": [
        "cars_df.info()"
      ],
      "metadata": {
        "id": "a9bTpxKtfL7H",
        "colab": {
          "base_uri": "https://localhost:8080/"
        },
        "outputId": "1bbeb858-80e4-4f73-aef3-b3189bb0179c"
      },
      "execution_count": 10,
      "outputs": [
        {
          "output_type": "stream",
          "name": "stdout",
          "text": [
            "<class 'pandas.core.frame.DataFrame'>\n",
            "RangeIndex: 100 entries, 0 to 99\n",
            "Data columns (total 13 columns):\n",
            " #   Column             Non-Null Count  Dtype \n",
            "---  ------             --------------  ----- \n",
            " 0   Car_ID             100 non-null    int64 \n",
            " 1   Brand              100 non-null    object\n",
            " 2   Model              100 non-null    object\n",
            " 3   Year               100 non-null    int64 \n",
            " 4   Kilometers_Driven  100 non-null    int64 \n",
            " 5   Fuel_Type          100 non-null    object\n",
            " 6   Transmission       100 non-null    object\n",
            " 7   Owner_Type         100 non-null    object\n",
            " 8   Mileage            100 non-null    int64 \n",
            " 9   Engine             100 non-null    int64 \n",
            " 10  Power              100 non-null    int64 \n",
            " 11  Seats              100 non-null    int64 \n",
            " 12  Price              100 non-null    int64 \n",
            "dtypes: int64(8), object(5)\n",
            "memory usage: 10.3+ KB\n"
          ]
        }
      ]
    },
    {
      "cell_type": "markdown",
      "source": [
        "**Висновок:**\n",
        "В наборі даних 13 колонок: 8 числових та 5 категоріальних:\n",
        "- колонки Fuel  та Transmission є бінарними\n",
        "- колонки Brand, Model є мультикатегоріальних  зі значеннями, для яких немає відношення порядку\n",
        "- колонка Owner Type - мультикатегоріальна з порядком"
      ],
      "metadata": {
        "id": "Xl1QvCwLLnpr"
      }
    },
    {
      "cell_type": "markdown",
      "source": [
        "**Завдання 3**. Розділіть дані на тренувальні і тест. Відведіть в тест 20%, поставте `random_state=12`. Ми будемо передбачати колонку `Price` - тож, вона є цільовою змінною. В результаті у Вас має бути 4 набори даних `X_train, X_test, y_train, y_test`.\n",
        "\n",
        "Надалі ми всюди тренуємо методи для кодування, масштабування та саму модель тільки на тренувальних даних X_train (та y_train для моделі), а на тестувальних лише використовуємо вже навчені методи для кодування, масштабування і модель викликаючи в них `transform()` (для методів обробки даних) або `predict()` (для моделі).\n",
        "\n",
        "І так само треба робити завжди."
      ],
      "metadata": {
        "id": "feZvNdSXO-tn"
      }
    },
    {
      "cell_type": "code",
      "source": [
        "X=cars_df.drop('Price', axis=1)\n",
        "Y=cars_df['Price']"
      ],
      "metadata": {
        "id": "M0v346jqP1eU"
      },
      "execution_count": 11,
      "outputs": []
    },
    {
      "cell_type": "code",
      "source": [
        "X_train, X_test, Y_train, Y_test = train_test_split(X, Y, test_size=0.2, random_state=12)"
      ],
      "metadata": {
        "id": "lkugT6mmfM2p"
      },
      "execution_count": 12,
      "outputs": []
    },
    {
      "cell_type": "markdown",
      "source": [
        "**Завдання 4**. Кодуємо категоріальні колонки.\n",
        "\n",
        "1. Закодуйте колонки з бінарними значеннями `Fuel_Type` і `Transmission` так, аби вони були у чисельному представленні і містили лише 0 так 1. Приклад був у лекції. Значення 1 нехай буде у категорії, яка містить більше значень в колонці.\n",
        "\n",
        "2. Закодуйте колонку `Brand` з використанням `sklearn.preprocessing.OneHotEncoder` аналогічно до того, як ми робили це в лекції. Увага! Ми робимо виклик методу `Encoder.fit()` на тренувальних даних `X_train`, а на тестувальних тільки викликаємо `Encoder.transform()`. Додайте закодовані значення в набори даних `X_train`, `X_test`.\n",
        "\n",
        "3. Колонку `Owner_Type` з використанням `sklearn.preprocessing.OrdinalEncoder` я закодую для вас. Проаналізуйте, що відбувається.\n",
        "\n",
        "Колонка `Model` містять забагато значень для кодування в тому вигляді, як вона є зараз, з огляду на невелику кількість даних. Якщо ви бачите, як можна згрупувати значення в цій колонці скоротивши кількість унікальних значень до 3-5, то можете виконати ще цю трансформацію, використати цю колонку в моделі і отримати додаткову практику і бал, якщо все буде зроблено правильно. А якщо неправильно - то фідбек на Вашу роботу :)"
      ],
      "metadata": {
        "id": "EvzXSbIxKBwR"
      }
    },
    {
      "cell_type": "code",
      "source": [
        "#Task 1\n",
        "cars_df.Fuel_Type.value_counts()"
      ],
      "metadata": {
        "colab": {
          "base_uri": "https://localhost:8080/"
        },
        "id": "Mx_Z1zexRQpL",
        "outputId": "950104f4-60be-44ec-f825-6ac0b82361a7"
      },
      "execution_count": 13,
      "outputs": [
        {
          "output_type": "execute_result",
          "data": {
            "text/plain": [
              "Fuel_Type\n",
              "Petrol    52\n",
              "Diesel    48\n",
              "Name: count, dtype: int64"
            ]
          },
          "metadata": {},
          "execution_count": 13
        }
      ]
    },
    {
      "cell_type": "code",
      "source": [
        "Fuel_codes = {'Diesel':0, 'Petrol': 1}\n",
        "cars_df['Fuel_code'] = cars_df.Fuel_Type.map(Fuel_codes)"
      ],
      "metadata": {
        "id": "oKrg78cYfzBh"
      },
      "execution_count": 14,
      "outputs": []
    },
    {
      "cell_type": "code",
      "source": [
        "cars_df.Transmission.value_counts()"
      ],
      "metadata": {
        "colab": {
          "base_uri": "https://localhost:8080/"
        },
        "id": "MgOuljiBRw0z",
        "outputId": "732d4aae-1f1a-47e3-e78e-2abca4279cbf"
      },
      "execution_count": 15,
      "outputs": [
        {
          "output_type": "execute_result",
          "data": {
            "text/plain": [
              "Transmission\n",
              "Automatic    57\n",
              "Manual       43\n",
              "Name: count, dtype: int64"
            ]
          },
          "metadata": {},
          "execution_count": 15
        }
      ]
    },
    {
      "cell_type": "code",
      "source": [
        "Transmission_codes = {'Manual':0, 'Automatic': 1}\n",
        "cars_df['Transmission_code'] = cars_df.Transmission.map(Transmission_codes)"
      ],
      "metadata": {
        "id": "s6KnxVclSHUV"
      },
      "execution_count": 16,
      "outputs": []
    },
    {
      "cell_type": "code",
      "source": [
        "cars_df.head()"
      ],
      "metadata": {
        "colab": {
          "base_uri": "https://localhost:8080/",
          "height": 226
        },
        "id": "lIe6lp5oSTYi",
        "outputId": "dfcc108c-aef1-4d24-893d-9b82db0761d5"
      },
      "execution_count": 17,
      "outputs": [
        {
          "output_type": "execute_result",
          "data": {
            "text/plain": [
              "   Car_ID    Brand    Model  Year  Kilometers_Driven Fuel_Type Transmission  \\\n",
              "0       1   Toyota  Corolla  2018              50000    Petrol       Manual   \n",
              "1       2    Honda    Civic  2019              40000    Petrol    Automatic   \n",
              "2       3     Ford  Mustang  2017              20000    Petrol    Automatic   \n",
              "3       4   Maruti    Swift  2020              30000    Diesel       Manual   \n",
              "4       5  Hyundai   Sonata  2016              60000    Diesel    Automatic   \n",
              "\n",
              "  Owner_Type  Mileage  Engine  Power  Seats    Price  Fuel_code  \\\n",
              "0      First       15    1498    108      5   800000          1   \n",
              "1     Second       17    1597    140      5  1000000          1   \n",
              "2      First       10    4951    395      4  2500000          1   \n",
              "3      Third       23    1248     74      5   600000          0   \n",
              "4     Second       18    1999    194      5   850000          0   \n",
              "\n",
              "   Transmission_code  \n",
              "0                  0  \n",
              "1                  1  \n",
              "2                  1  \n",
              "3                  0  \n",
              "4                  1  "
            ],
            "text/html": [
              "\n",
              "  <div id=\"df-94dd92f1-cc0c-412f-93b8-6b4958b2b388\" class=\"colab-df-container\">\n",
              "    <div>\n",
              "<style scoped>\n",
              "    .dataframe tbody tr th:only-of-type {\n",
              "        vertical-align: middle;\n",
              "    }\n",
              "\n",
              "    .dataframe tbody tr th {\n",
              "        vertical-align: top;\n",
              "    }\n",
              "\n",
              "    .dataframe thead th {\n",
              "        text-align: right;\n",
              "    }\n",
              "</style>\n",
              "<table border=\"1\" class=\"dataframe\">\n",
              "  <thead>\n",
              "    <tr style=\"text-align: right;\">\n",
              "      <th></th>\n",
              "      <th>Car_ID</th>\n",
              "      <th>Brand</th>\n",
              "      <th>Model</th>\n",
              "      <th>Year</th>\n",
              "      <th>Kilometers_Driven</th>\n",
              "      <th>Fuel_Type</th>\n",
              "      <th>Transmission</th>\n",
              "      <th>Owner_Type</th>\n",
              "      <th>Mileage</th>\n",
              "      <th>Engine</th>\n",
              "      <th>Power</th>\n",
              "      <th>Seats</th>\n",
              "      <th>Price</th>\n",
              "      <th>Fuel_code</th>\n",
              "      <th>Transmission_code</th>\n",
              "    </tr>\n",
              "  </thead>\n",
              "  <tbody>\n",
              "    <tr>\n",
              "      <th>0</th>\n",
              "      <td>1</td>\n",
              "      <td>Toyota</td>\n",
              "      <td>Corolla</td>\n",
              "      <td>2018</td>\n",
              "      <td>50000</td>\n",
              "      <td>Petrol</td>\n",
              "      <td>Manual</td>\n",
              "      <td>First</td>\n",
              "      <td>15</td>\n",
              "      <td>1498</td>\n",
              "      <td>108</td>\n",
              "      <td>5</td>\n",
              "      <td>800000</td>\n",
              "      <td>1</td>\n",
              "      <td>0</td>\n",
              "    </tr>\n",
              "    <tr>\n",
              "      <th>1</th>\n",
              "      <td>2</td>\n",
              "      <td>Honda</td>\n",
              "      <td>Civic</td>\n",
              "      <td>2019</td>\n",
              "      <td>40000</td>\n",
              "      <td>Petrol</td>\n",
              "      <td>Automatic</td>\n",
              "      <td>Second</td>\n",
              "      <td>17</td>\n",
              "      <td>1597</td>\n",
              "      <td>140</td>\n",
              "      <td>5</td>\n",
              "      <td>1000000</td>\n",
              "      <td>1</td>\n",
              "      <td>1</td>\n",
              "    </tr>\n",
              "    <tr>\n",
              "      <th>2</th>\n",
              "      <td>3</td>\n",
              "      <td>Ford</td>\n",
              "      <td>Mustang</td>\n",
              "      <td>2017</td>\n",
              "      <td>20000</td>\n",
              "      <td>Petrol</td>\n",
              "      <td>Automatic</td>\n",
              "      <td>First</td>\n",
              "      <td>10</td>\n",
              "      <td>4951</td>\n",
              "      <td>395</td>\n",
              "      <td>4</td>\n",
              "      <td>2500000</td>\n",
              "      <td>1</td>\n",
              "      <td>1</td>\n",
              "    </tr>\n",
              "    <tr>\n",
              "      <th>3</th>\n",
              "      <td>4</td>\n",
              "      <td>Maruti</td>\n",
              "      <td>Swift</td>\n",
              "      <td>2020</td>\n",
              "      <td>30000</td>\n",
              "      <td>Diesel</td>\n",
              "      <td>Manual</td>\n",
              "      <td>Third</td>\n",
              "      <td>23</td>\n",
              "      <td>1248</td>\n",
              "      <td>74</td>\n",
              "      <td>5</td>\n",
              "      <td>600000</td>\n",
              "      <td>0</td>\n",
              "      <td>0</td>\n",
              "    </tr>\n",
              "    <tr>\n",
              "      <th>4</th>\n",
              "      <td>5</td>\n",
              "      <td>Hyundai</td>\n",
              "      <td>Sonata</td>\n",
              "      <td>2016</td>\n",
              "      <td>60000</td>\n",
              "      <td>Diesel</td>\n",
              "      <td>Automatic</td>\n",
              "      <td>Second</td>\n",
              "      <td>18</td>\n",
              "      <td>1999</td>\n",
              "      <td>194</td>\n",
              "      <td>5</td>\n",
              "      <td>850000</td>\n",
              "      <td>0</td>\n",
              "      <td>1</td>\n",
              "    </tr>\n",
              "  </tbody>\n",
              "</table>\n",
              "</div>\n",
              "    <div class=\"colab-df-buttons\">\n",
              "\n",
              "  <div class=\"colab-df-container\">\n",
              "    <button class=\"colab-df-convert\" onclick=\"convertToInteractive('df-94dd92f1-cc0c-412f-93b8-6b4958b2b388')\"\n",
              "            title=\"Convert this dataframe to an interactive table.\"\n",
              "            style=\"display:none;\">\n",
              "\n",
              "  <svg xmlns=\"http://www.w3.org/2000/svg\" height=\"24px\" viewBox=\"0 -960 960 960\">\n",
              "    <path d=\"M120-120v-720h720v720H120Zm60-500h600v-160H180v160Zm220 220h160v-160H400v160Zm0 220h160v-160H400v160ZM180-400h160v-160H180v160Zm440 0h160v-160H620v160ZM180-180h160v-160H180v160Zm440 0h160v-160H620v160Z\"/>\n",
              "  </svg>\n",
              "    </button>\n",
              "\n",
              "  <style>\n",
              "    .colab-df-container {\n",
              "      display:flex;\n",
              "      gap: 12px;\n",
              "    }\n",
              "\n",
              "    .colab-df-convert {\n",
              "      background-color: #E8F0FE;\n",
              "      border: none;\n",
              "      border-radius: 50%;\n",
              "      cursor: pointer;\n",
              "      display: none;\n",
              "      fill: #1967D2;\n",
              "      height: 32px;\n",
              "      padding: 0 0 0 0;\n",
              "      width: 32px;\n",
              "    }\n",
              "\n",
              "    .colab-df-convert:hover {\n",
              "      background-color: #E2EBFA;\n",
              "      box-shadow: 0px 1px 2px rgba(60, 64, 67, 0.3), 0px 1px 3px 1px rgba(60, 64, 67, 0.15);\n",
              "      fill: #174EA6;\n",
              "    }\n",
              "\n",
              "    .colab-df-buttons div {\n",
              "      margin-bottom: 4px;\n",
              "    }\n",
              "\n",
              "    [theme=dark] .colab-df-convert {\n",
              "      background-color: #3B4455;\n",
              "      fill: #D2E3FC;\n",
              "    }\n",
              "\n",
              "    [theme=dark] .colab-df-convert:hover {\n",
              "      background-color: #434B5C;\n",
              "      box-shadow: 0px 1px 3px 1px rgba(0, 0, 0, 0.15);\n",
              "      filter: drop-shadow(0px 1px 2px rgba(0, 0, 0, 0.3));\n",
              "      fill: #FFFFFF;\n",
              "    }\n",
              "  </style>\n",
              "\n",
              "    <script>\n",
              "      const buttonEl =\n",
              "        document.querySelector('#df-94dd92f1-cc0c-412f-93b8-6b4958b2b388 button.colab-df-convert');\n",
              "      buttonEl.style.display =\n",
              "        google.colab.kernel.accessAllowed ? 'block' : 'none';\n",
              "\n",
              "      async function convertToInteractive(key) {\n",
              "        const element = document.querySelector('#df-94dd92f1-cc0c-412f-93b8-6b4958b2b388');\n",
              "        const dataTable =\n",
              "          await google.colab.kernel.invokeFunction('convertToInteractive',\n",
              "                                                    [key], {});\n",
              "        if (!dataTable) return;\n",
              "\n",
              "        const docLinkHtml = 'Like what you see? Visit the ' +\n",
              "          '<a target=\"_blank\" href=https://colab.research.google.com/notebooks/data_table.ipynb>data table notebook</a>'\n",
              "          + ' to learn more about interactive tables.';\n",
              "        element.innerHTML = '';\n",
              "        dataTable['output_type'] = 'display_data';\n",
              "        await google.colab.output.renderOutput(dataTable, element);\n",
              "        const docLink = document.createElement('div');\n",
              "        docLink.innerHTML = docLinkHtml;\n",
              "        element.appendChild(docLink);\n",
              "      }\n",
              "    </script>\n",
              "  </div>\n",
              "\n",
              "\n",
              "<div id=\"df-3dc46326-fcd5-4ab7-bd06-d3d8270651b1\">\n",
              "  <button class=\"colab-df-quickchart\" onclick=\"quickchart('df-3dc46326-fcd5-4ab7-bd06-d3d8270651b1')\"\n",
              "            title=\"Suggest charts\"\n",
              "            style=\"display:none;\">\n",
              "\n",
              "<svg xmlns=\"http://www.w3.org/2000/svg\" height=\"24px\"viewBox=\"0 0 24 24\"\n",
              "     width=\"24px\">\n",
              "    <g>\n",
              "        <path d=\"M19 3H5c-1.1 0-2 .9-2 2v14c0 1.1.9 2 2 2h14c1.1 0 2-.9 2-2V5c0-1.1-.9-2-2-2zM9 17H7v-7h2v7zm4 0h-2V7h2v10zm4 0h-2v-4h2v4z\"/>\n",
              "    </g>\n",
              "</svg>\n",
              "  </button>\n",
              "\n",
              "<style>\n",
              "  .colab-df-quickchart {\n",
              "      --bg-color: #E8F0FE;\n",
              "      --fill-color: #1967D2;\n",
              "      --hover-bg-color: #E2EBFA;\n",
              "      --hover-fill-color: #174EA6;\n",
              "      --disabled-fill-color: #AAA;\n",
              "      --disabled-bg-color: #DDD;\n",
              "  }\n",
              "\n",
              "  [theme=dark] .colab-df-quickchart {\n",
              "      --bg-color: #3B4455;\n",
              "      --fill-color: #D2E3FC;\n",
              "      --hover-bg-color: #434B5C;\n",
              "      --hover-fill-color: #FFFFFF;\n",
              "      --disabled-bg-color: #3B4455;\n",
              "      --disabled-fill-color: #666;\n",
              "  }\n",
              "\n",
              "  .colab-df-quickchart {\n",
              "    background-color: var(--bg-color);\n",
              "    border: none;\n",
              "    border-radius: 50%;\n",
              "    cursor: pointer;\n",
              "    display: none;\n",
              "    fill: var(--fill-color);\n",
              "    height: 32px;\n",
              "    padding: 0;\n",
              "    width: 32px;\n",
              "  }\n",
              "\n",
              "  .colab-df-quickchart:hover {\n",
              "    background-color: var(--hover-bg-color);\n",
              "    box-shadow: 0 1px 2px rgba(60, 64, 67, 0.3), 0 1px 3px 1px rgba(60, 64, 67, 0.15);\n",
              "    fill: var(--button-hover-fill-color);\n",
              "  }\n",
              "\n",
              "  .colab-df-quickchart-complete:disabled,\n",
              "  .colab-df-quickchart-complete:disabled:hover {\n",
              "    background-color: var(--disabled-bg-color);\n",
              "    fill: var(--disabled-fill-color);\n",
              "    box-shadow: none;\n",
              "  }\n",
              "\n",
              "  .colab-df-spinner {\n",
              "    border: 2px solid var(--fill-color);\n",
              "    border-color: transparent;\n",
              "    border-bottom-color: var(--fill-color);\n",
              "    animation:\n",
              "      spin 1s steps(1) infinite;\n",
              "  }\n",
              "\n",
              "  @keyframes spin {\n",
              "    0% {\n",
              "      border-color: transparent;\n",
              "      border-bottom-color: var(--fill-color);\n",
              "      border-left-color: var(--fill-color);\n",
              "    }\n",
              "    20% {\n",
              "      border-color: transparent;\n",
              "      border-left-color: var(--fill-color);\n",
              "      border-top-color: var(--fill-color);\n",
              "    }\n",
              "    30% {\n",
              "      border-color: transparent;\n",
              "      border-left-color: var(--fill-color);\n",
              "      border-top-color: var(--fill-color);\n",
              "      border-right-color: var(--fill-color);\n",
              "    }\n",
              "    40% {\n",
              "      border-color: transparent;\n",
              "      border-right-color: var(--fill-color);\n",
              "      border-top-color: var(--fill-color);\n",
              "    }\n",
              "    60% {\n",
              "      border-color: transparent;\n",
              "      border-right-color: var(--fill-color);\n",
              "    }\n",
              "    80% {\n",
              "      border-color: transparent;\n",
              "      border-right-color: var(--fill-color);\n",
              "      border-bottom-color: var(--fill-color);\n",
              "    }\n",
              "    90% {\n",
              "      border-color: transparent;\n",
              "      border-bottom-color: var(--fill-color);\n",
              "    }\n",
              "  }\n",
              "</style>\n",
              "\n",
              "  <script>\n",
              "    async function quickchart(key) {\n",
              "      const quickchartButtonEl =\n",
              "        document.querySelector('#' + key + ' button');\n",
              "      quickchartButtonEl.disabled = true;  // To prevent multiple clicks.\n",
              "      quickchartButtonEl.classList.add('colab-df-spinner');\n",
              "      try {\n",
              "        const charts = await google.colab.kernel.invokeFunction(\n",
              "            'suggestCharts', [key], {});\n",
              "      } catch (error) {\n",
              "        console.error('Error during call to suggestCharts:', error);\n",
              "      }\n",
              "      quickchartButtonEl.classList.remove('colab-df-spinner');\n",
              "      quickchartButtonEl.classList.add('colab-df-quickchart-complete');\n",
              "    }\n",
              "    (() => {\n",
              "      let quickchartButtonEl =\n",
              "        document.querySelector('#df-3dc46326-fcd5-4ab7-bd06-d3d8270651b1 button');\n",
              "      quickchartButtonEl.style.display =\n",
              "        google.colab.kernel.accessAllowed ? 'block' : 'none';\n",
              "    })();\n",
              "  </script>\n",
              "</div>\n",
              "    </div>\n",
              "  </div>\n"
            ],
            "application/vnd.google.colaboratory.intrinsic+json": {
              "type": "dataframe",
              "variable_name": "cars_df",
              "summary": "{\n  \"name\": \"cars_df\",\n  \"rows\": 100,\n  \"fields\": [\n    {\n      \"column\": \"Car_ID\",\n      \"properties\": {\n        \"dtype\": \"number\",\n        \"std\": 29,\n        \"min\": 1,\n        \"max\": 100,\n        \"num_unique_values\": 100,\n        \"samples\": [\n          84,\n          54,\n          71\n        ],\n        \"semantic_type\": \"\",\n        \"description\": \"\"\n      }\n    },\n    {\n      \"column\": \"Brand\",\n      \"properties\": {\n        \"dtype\": \"category\",\n        \"num_unique_values\": 11,\n        \"samples\": [\n          \"Tata\",\n          \"Toyota\",\n          \"BMW\"\n        ],\n        \"semantic_type\": \"\",\n        \"description\": \"\"\n      }\n    },\n    {\n      \"column\": \"Model\",\n      \"properties\": {\n        \"dtype\": \"string\",\n        \"num_unique_values\": 58,\n        \"samples\": [\n          \"Corolla\",\n          \"Nexon\",\n          \"WR-V\"\n        ],\n        \"semantic_type\": \"\",\n        \"description\": \"\"\n      }\n    },\n    {\n      \"column\": \"Year\",\n      \"properties\": {\n        \"dtype\": \"number\",\n        \"std\": 1,\n        \"min\": 2016,\n        \"max\": 2021,\n        \"num_unique_values\": 6,\n        \"samples\": [\n          2018,\n          2019,\n          2021\n        ],\n        \"semantic_type\": \"\",\n        \"description\": \"\"\n      }\n    },\n    {\n      \"column\": \"Kilometers_Driven\",\n      \"properties\": {\n        \"dtype\": \"number\",\n        \"std\": 9121,\n        \"min\": 10000,\n        \"max\": 60000,\n        \"num_unique_values\": 18,\n        \"samples\": [\n          50000,\n          40000,\n          28000\n        ],\n        \"semantic_type\": \"\",\n        \"description\": \"\"\n      }\n    },\n    {\n      \"column\": \"Fuel_Type\",\n      \"properties\": {\n        \"dtype\": \"category\",\n        \"num_unique_values\": 2,\n        \"samples\": [\n          \"Diesel\",\n          \"Petrol\"\n        ],\n        \"semantic_type\": \"\",\n        \"description\": \"\"\n      }\n    },\n    {\n      \"column\": \"Transmission\",\n      \"properties\": {\n        \"dtype\": \"category\",\n        \"num_unique_values\": 2,\n        \"samples\": [\n          \"Automatic\",\n          \"Manual\"\n        ],\n        \"semantic_type\": \"\",\n        \"description\": \"\"\n      }\n    },\n    {\n      \"column\": \"Owner_Type\",\n      \"properties\": {\n        \"dtype\": \"category\",\n        \"num_unique_values\": 3,\n        \"samples\": [\n          \"First\",\n          \"Second\"\n        ],\n        \"semantic_type\": \"\",\n        \"description\": \"\"\n      }\n    },\n    {\n      \"column\": \"Mileage\",\n      \"properties\": {\n        \"dtype\": \"number\",\n        \"std\": 3,\n        \"min\": 10,\n        \"max\": 25,\n        \"num_unique_values\": 15,\n        \"samples\": [\n          25,\n          24\n        ],\n        \"semantic_type\": \"\",\n        \"description\": \"\"\n      }\n    },\n    {\n      \"column\": \"Engine\",\n      \"properties\": {\n        \"dtype\": \"number\",\n        \"std\": 631,\n        \"min\": 999,\n        \"max\": 4951,\n        \"num_unique_values\": 36,\n        \"samples\": [\n          1998,\n          1956\n        ],\n        \"semantic_type\": \"\",\n        \"description\": \"\"\n      }\n    },\n    {\n      \"column\": \"Power\",\n      \"properties\": {\n        \"dtype\": \"number\",\n        \"std\": 76,\n        \"min\": 68,\n        \"max\": 396,\n        \"num_unique_values\": 40,\n        \"samples\": [\n          126,\n          241\n        ],\n        \"semantic_type\": \"\",\n        \"description\": \"\"\n      }\n    },\n    {\n      \"column\": \"Seats\",\n      \"properties\": {\n        \"dtype\": \"number\",\n        \"std\": 0,\n        \"min\": 4,\n        \"max\": 7,\n        \"num_unique_values\": 3,\n        \"samples\": [\n          5,\n          4\n        ],\n        \"semantic_type\": \"\",\n        \"description\": \"\"\n      }\n    },\n    {\n      \"column\": \"Price\",\n      \"properties\": {\n        \"dtype\": \"number\",\n        \"std\": 1000264,\n        \"min\": 450000,\n        \"max\": 4000000,\n        \"num_unique_values\": 31,\n        \"samples\": [\n          450000,\n          3000000\n        ],\n        \"semantic_type\": \"\",\n        \"description\": \"\"\n      }\n    },\n    {\n      \"column\": \"Fuel_code\",\n      \"properties\": {\n        \"dtype\": \"number\",\n        \"std\": 0,\n        \"min\": 0,\n        \"max\": 1,\n        \"num_unique_values\": 2,\n        \"samples\": [\n          0,\n          1\n        ],\n        \"semantic_type\": \"\",\n        \"description\": \"\"\n      }\n    },\n    {\n      \"column\": \"Transmission_code\",\n      \"properties\": {\n        \"dtype\": \"number\",\n        \"std\": 0,\n        \"min\": 0,\n        \"max\": 1,\n        \"num_unique_values\": 2,\n        \"samples\": [\n          1,\n          0\n        ],\n        \"semantic_type\": \"\",\n        \"description\": \"\"\n      }\n    }\n  ]\n}"
            }
          },
          "metadata": {},
          "execution_count": 17
        }
      ]
    },
    {
      "cell_type": "code",
      "source": [
        "#Task 2\n",
        "enc = preprocessing.OneHotEncoder()\n",
        "X_train_encoded = enc.fit(X_train[['Brand']])\n",
        "\n"
      ],
      "metadata": {
        "id": "paH3TMMHS-xb"
      },
      "execution_count": 18,
      "outputs": []
    },
    {
      "cell_type": "code",
      "source": [
        "X_train_encoded = enc.transform(X_train[['Brand']]).toarray()\n",
        "X_test_encoded = enc.transform(X_test[['Brand']]).toarray()\n",
        "enc.categories_"
      ],
      "metadata": {
        "colab": {
          "base_uri": "https://localhost:8080/"
        },
        "id": "bUcmRxEYYYnH",
        "outputId": "c310925d-13e3-4ea3-94c6-52b51a0ee029"
      },
      "execution_count": 19,
      "outputs": [
        {
          "output_type": "execute_result",
          "data": {
            "text/plain": [
              "[array(['Audi', 'BMW', 'Ford', 'Honda', 'Hyundai', 'Mahindra', 'Maruti',\n",
              "        'Mercedes', 'Tata', 'Toyota', 'Volkswagen'], dtype=object)]"
            ]
          },
          "metadata": {},
          "execution_count": 19
        }
      ]
    },
    {
      "cell_type": "code",
      "source": [
        "column_names = enc.get_feature_names_out(['Brand'])"
      ],
      "metadata": {
        "id": "L3e5oTfiWlyn"
      },
      "execution_count": 20,
      "outputs": []
    },
    {
      "cell_type": "code",
      "source": [
        "X_train[column_names] = X_train_encoded\n",
        "X_test[column_names] = X_test_encoded"
      ],
      "metadata": {
        "id": "filRLGX2XyYN"
      },
      "execution_count": 21,
      "outputs": []
    },
    {
      "cell_type": "code",
      "source": [
        "#Task 3\n",
        "from sklearn.preprocessing import OrdinalEncoder\n",
        "\n",
        "ordenc = OrdinalEncoder(categories=[['First', 'Second', 'Third']])\n",
        "ordenc.fit(X_train[['Owner_Type']])\n",
        "\n",
        "X_train['Owner_Type_Codes'] = ordenc.transform(X_train[['Owner_Type']])\n",
        "X_test['Owner_Type_Codes'] = ordenc.transform(X_test[['Owner_Type']])"
      ],
      "metadata": {
        "id": "tU3uA6kNOkzb"
      },
      "execution_count": 22,
      "outputs": []
    },
    {
      "cell_type": "markdown",
      "source": [
        "Очікуваний результат після трансформацій:"
      ],
      "metadata": {
        "id": "P-woc2oUSZu4"
      }
    },
    {
      "cell_type": "code",
      "source": [
        "pd.set_option('display.max_columns', 100)\n",
        "display(X_train.head()), display(X_test.head())"
      ],
      "metadata": {
        "colab": {
          "base_uri": "https://localhost:8080/",
          "height": 433
        },
        "id": "brxPGShISEhz",
        "outputId": "c347116b-3d60-42fa-9562-2c81e5e76dae"
      },
      "execution_count": 23,
      "outputs": [
        {
          "output_type": "display_data",
          "data": {
            "text/plain": [
              "    Car_ID       Brand  Model  Year  Kilometers_Driven Fuel_Type Transmission  \\\n",
              "83      84  Volkswagen  T-Roc  2019              22000    Petrol    Automatic   \n",
              "55      56        Audi     A5  2018              28000    Diesel    Automatic   \n",
              "26      27        Audi     A6  2018              28000    Petrol    Automatic   \n",
              "54      55  Volkswagen  Vento  2017              32000    Petrol       Manual   \n",
              "19      20    Mercedes    GLC  2017              26000    Petrol    Automatic   \n",
              "\n",
              "   Owner_Type  Mileage  Engine  Power  Seats  Brand_Audi  Brand_BMW  \\\n",
              "83     Second       18    1498    148      5         0.0        0.0   \n",
              "55      First       17    1968    187      5         1.0        0.0   \n",
              "26      First       15    1984    241      5         1.0        0.0   \n",
              "54     Second       18    1598    103      5         0.0        0.0   \n",
              "19     Second       12    1991    241      5         0.0        0.0   \n",
              "\n",
              "    Brand_Ford  Brand_Honda  Brand_Hyundai  Brand_Mahindra  Brand_Maruti  \\\n",
              "83         0.0          0.0            0.0             0.0           0.0   \n",
              "55         0.0          0.0            0.0             0.0           0.0   \n",
              "26         0.0          0.0            0.0             0.0           0.0   \n",
              "54         0.0          0.0            0.0             0.0           0.0   \n",
              "19         0.0          0.0            0.0             0.0           0.0   \n",
              "\n",
              "    Brand_Mercedes  Brand_Tata  Brand_Toyota  Brand_Volkswagen  \\\n",
              "83             0.0         0.0           0.0               1.0   \n",
              "55             0.0         0.0           0.0               0.0   \n",
              "26             0.0         0.0           0.0               0.0   \n",
              "54             0.0         0.0           0.0               1.0   \n",
              "19             1.0         0.0           0.0               0.0   \n",
              "\n",
              "    Owner_Type_Codes  \n",
              "83               1.0  \n",
              "55               0.0  \n",
              "26               0.0  \n",
              "54               1.0  \n",
              "19               1.0  "
            ],
            "text/html": [
              "\n",
              "  <div id=\"df-9f34b0dc-bb51-4aa2-8eea-3043ae4e6587\" class=\"colab-df-container\">\n",
              "    <div>\n",
              "<style scoped>\n",
              "    .dataframe tbody tr th:only-of-type {\n",
              "        vertical-align: middle;\n",
              "    }\n",
              "\n",
              "    .dataframe tbody tr th {\n",
              "        vertical-align: top;\n",
              "    }\n",
              "\n",
              "    .dataframe thead th {\n",
              "        text-align: right;\n",
              "    }\n",
              "</style>\n",
              "<table border=\"1\" class=\"dataframe\">\n",
              "  <thead>\n",
              "    <tr style=\"text-align: right;\">\n",
              "      <th></th>\n",
              "      <th>Car_ID</th>\n",
              "      <th>Brand</th>\n",
              "      <th>Model</th>\n",
              "      <th>Year</th>\n",
              "      <th>Kilometers_Driven</th>\n",
              "      <th>Fuel_Type</th>\n",
              "      <th>Transmission</th>\n",
              "      <th>Owner_Type</th>\n",
              "      <th>Mileage</th>\n",
              "      <th>Engine</th>\n",
              "      <th>Power</th>\n",
              "      <th>Seats</th>\n",
              "      <th>Brand_Audi</th>\n",
              "      <th>Brand_BMW</th>\n",
              "      <th>Brand_Ford</th>\n",
              "      <th>Brand_Honda</th>\n",
              "      <th>Brand_Hyundai</th>\n",
              "      <th>Brand_Mahindra</th>\n",
              "      <th>Brand_Maruti</th>\n",
              "      <th>Brand_Mercedes</th>\n",
              "      <th>Brand_Tata</th>\n",
              "      <th>Brand_Toyota</th>\n",
              "      <th>Brand_Volkswagen</th>\n",
              "      <th>Owner_Type_Codes</th>\n",
              "    </tr>\n",
              "  </thead>\n",
              "  <tbody>\n",
              "    <tr>\n",
              "      <th>83</th>\n",
              "      <td>84</td>\n",
              "      <td>Volkswagen</td>\n",
              "      <td>T-Roc</td>\n",
              "      <td>2019</td>\n",
              "      <td>22000</td>\n",
              "      <td>Petrol</td>\n",
              "      <td>Automatic</td>\n",
              "      <td>Second</td>\n",
              "      <td>18</td>\n",
              "      <td>1498</td>\n",
              "      <td>148</td>\n",
              "      <td>5</td>\n",
              "      <td>0.0</td>\n",
              "      <td>0.0</td>\n",
              "      <td>0.0</td>\n",
              "      <td>0.0</td>\n",
              "      <td>0.0</td>\n",
              "      <td>0.0</td>\n",
              "      <td>0.0</td>\n",
              "      <td>0.0</td>\n",
              "      <td>0.0</td>\n",
              "      <td>0.0</td>\n",
              "      <td>1.0</td>\n",
              "      <td>1.0</td>\n",
              "    </tr>\n",
              "    <tr>\n",
              "      <th>55</th>\n",
              "      <td>56</td>\n",
              "      <td>Audi</td>\n",
              "      <td>A5</td>\n",
              "      <td>2018</td>\n",
              "      <td>28000</td>\n",
              "      <td>Diesel</td>\n",
              "      <td>Automatic</td>\n",
              "      <td>First</td>\n",
              "      <td>17</td>\n",
              "      <td>1968</td>\n",
              "      <td>187</td>\n",
              "      <td>5</td>\n",
              "      <td>1.0</td>\n",
              "      <td>0.0</td>\n",
              "      <td>0.0</td>\n",
              "      <td>0.0</td>\n",
              "      <td>0.0</td>\n",
              "      <td>0.0</td>\n",
              "      <td>0.0</td>\n",
              "      <td>0.0</td>\n",
              "      <td>0.0</td>\n",
              "      <td>0.0</td>\n",
              "      <td>0.0</td>\n",
              "      <td>0.0</td>\n",
              "    </tr>\n",
              "    <tr>\n",
              "      <th>26</th>\n",
              "      <td>27</td>\n",
              "      <td>Audi</td>\n",
              "      <td>A6</td>\n",
              "      <td>2018</td>\n",
              "      <td>28000</td>\n",
              "      <td>Petrol</td>\n",
              "      <td>Automatic</td>\n",
              "      <td>First</td>\n",
              "      <td>15</td>\n",
              "      <td>1984</td>\n",
              "      <td>241</td>\n",
              "      <td>5</td>\n",
              "      <td>1.0</td>\n",
              "      <td>0.0</td>\n",
              "      <td>0.0</td>\n",
              "      <td>0.0</td>\n",
              "      <td>0.0</td>\n",
              "      <td>0.0</td>\n",
              "      <td>0.0</td>\n",
              "      <td>0.0</td>\n",
              "      <td>0.0</td>\n",
              "      <td>0.0</td>\n",
              "      <td>0.0</td>\n",
              "      <td>0.0</td>\n",
              "    </tr>\n",
              "    <tr>\n",
              "      <th>54</th>\n",
              "      <td>55</td>\n",
              "      <td>Volkswagen</td>\n",
              "      <td>Vento</td>\n",
              "      <td>2017</td>\n",
              "      <td>32000</td>\n",
              "      <td>Petrol</td>\n",
              "      <td>Manual</td>\n",
              "      <td>Second</td>\n",
              "      <td>18</td>\n",
              "      <td>1598</td>\n",
              "      <td>103</td>\n",
              "      <td>5</td>\n",
              "      <td>0.0</td>\n",
              "      <td>0.0</td>\n",
              "      <td>0.0</td>\n",
              "      <td>0.0</td>\n",
              "      <td>0.0</td>\n",
              "      <td>0.0</td>\n",
              "      <td>0.0</td>\n",
              "      <td>0.0</td>\n",
              "      <td>0.0</td>\n",
              "      <td>0.0</td>\n",
              "      <td>1.0</td>\n",
              "      <td>1.0</td>\n",
              "    </tr>\n",
              "    <tr>\n",
              "      <th>19</th>\n",
              "      <td>20</td>\n",
              "      <td>Mercedes</td>\n",
              "      <td>GLC</td>\n",
              "      <td>2017</td>\n",
              "      <td>26000</td>\n",
              "      <td>Petrol</td>\n",
              "      <td>Automatic</td>\n",
              "      <td>Second</td>\n",
              "      <td>12</td>\n",
              "      <td>1991</td>\n",
              "      <td>241</td>\n",
              "      <td>5</td>\n",
              "      <td>0.0</td>\n",
              "      <td>0.0</td>\n",
              "      <td>0.0</td>\n",
              "      <td>0.0</td>\n",
              "      <td>0.0</td>\n",
              "      <td>0.0</td>\n",
              "      <td>0.0</td>\n",
              "      <td>1.0</td>\n",
              "      <td>0.0</td>\n",
              "      <td>0.0</td>\n",
              "      <td>0.0</td>\n",
              "      <td>1.0</td>\n",
              "    </tr>\n",
              "  </tbody>\n",
              "</table>\n",
              "</div>\n",
              "    <div class=\"colab-df-buttons\">\n",
              "\n",
              "  <div class=\"colab-df-container\">\n",
              "    <button class=\"colab-df-convert\" onclick=\"convertToInteractive('df-9f34b0dc-bb51-4aa2-8eea-3043ae4e6587')\"\n",
              "            title=\"Convert this dataframe to an interactive table.\"\n",
              "            style=\"display:none;\">\n",
              "\n",
              "  <svg xmlns=\"http://www.w3.org/2000/svg\" height=\"24px\" viewBox=\"0 -960 960 960\">\n",
              "    <path d=\"M120-120v-720h720v720H120Zm60-500h600v-160H180v160Zm220 220h160v-160H400v160Zm0 220h160v-160H400v160ZM180-400h160v-160H180v160Zm440 0h160v-160H620v160ZM180-180h160v-160H180v160Zm440 0h160v-160H620v160Z\"/>\n",
              "  </svg>\n",
              "    </button>\n",
              "\n",
              "  <style>\n",
              "    .colab-df-container {\n",
              "      display:flex;\n",
              "      gap: 12px;\n",
              "    }\n",
              "\n",
              "    .colab-df-convert {\n",
              "      background-color: #E8F0FE;\n",
              "      border: none;\n",
              "      border-radius: 50%;\n",
              "      cursor: pointer;\n",
              "      display: none;\n",
              "      fill: #1967D2;\n",
              "      height: 32px;\n",
              "      padding: 0 0 0 0;\n",
              "      width: 32px;\n",
              "    }\n",
              "\n",
              "    .colab-df-convert:hover {\n",
              "      background-color: #E2EBFA;\n",
              "      box-shadow: 0px 1px 2px rgba(60, 64, 67, 0.3), 0px 1px 3px 1px rgba(60, 64, 67, 0.15);\n",
              "      fill: #174EA6;\n",
              "    }\n",
              "\n",
              "    .colab-df-buttons div {\n",
              "      margin-bottom: 4px;\n",
              "    }\n",
              "\n",
              "    [theme=dark] .colab-df-convert {\n",
              "      background-color: #3B4455;\n",
              "      fill: #D2E3FC;\n",
              "    }\n",
              "\n",
              "    [theme=dark] .colab-df-convert:hover {\n",
              "      background-color: #434B5C;\n",
              "      box-shadow: 0px 1px 3px 1px rgba(0, 0, 0, 0.15);\n",
              "      filter: drop-shadow(0px 1px 2px rgba(0, 0, 0, 0.3));\n",
              "      fill: #FFFFFF;\n",
              "    }\n",
              "  </style>\n",
              "\n",
              "    <script>\n",
              "      const buttonEl =\n",
              "        document.querySelector('#df-9f34b0dc-bb51-4aa2-8eea-3043ae4e6587 button.colab-df-convert');\n",
              "      buttonEl.style.display =\n",
              "        google.colab.kernel.accessAllowed ? 'block' : 'none';\n",
              "\n",
              "      async function convertToInteractive(key) {\n",
              "        const element = document.querySelector('#df-9f34b0dc-bb51-4aa2-8eea-3043ae4e6587');\n",
              "        const dataTable =\n",
              "          await google.colab.kernel.invokeFunction('convertToInteractive',\n",
              "                                                    [key], {});\n",
              "        if (!dataTable) return;\n",
              "\n",
              "        const docLinkHtml = 'Like what you see? Visit the ' +\n",
              "          '<a target=\"_blank\" href=https://colab.research.google.com/notebooks/data_table.ipynb>data table notebook</a>'\n",
              "          + ' to learn more about interactive tables.';\n",
              "        element.innerHTML = '';\n",
              "        dataTable['output_type'] = 'display_data';\n",
              "        await google.colab.output.renderOutput(dataTable, element);\n",
              "        const docLink = document.createElement('div');\n",
              "        docLink.innerHTML = docLinkHtml;\n",
              "        element.appendChild(docLink);\n",
              "      }\n",
              "    </script>\n",
              "  </div>\n",
              "\n",
              "\n",
              "<div id=\"df-9f48363f-c341-4e0b-b9ac-41c61c363575\">\n",
              "  <button class=\"colab-df-quickchart\" onclick=\"quickchart('df-9f48363f-c341-4e0b-b9ac-41c61c363575')\"\n",
              "            title=\"Suggest charts\"\n",
              "            style=\"display:none;\">\n",
              "\n",
              "<svg xmlns=\"http://www.w3.org/2000/svg\" height=\"24px\"viewBox=\"0 0 24 24\"\n",
              "     width=\"24px\">\n",
              "    <g>\n",
              "        <path d=\"M19 3H5c-1.1 0-2 .9-2 2v14c0 1.1.9 2 2 2h14c1.1 0 2-.9 2-2V5c0-1.1-.9-2-2-2zM9 17H7v-7h2v7zm4 0h-2V7h2v10zm4 0h-2v-4h2v4z\"/>\n",
              "    </g>\n",
              "</svg>\n",
              "  </button>\n",
              "\n",
              "<style>\n",
              "  .colab-df-quickchart {\n",
              "      --bg-color: #E8F0FE;\n",
              "      --fill-color: #1967D2;\n",
              "      --hover-bg-color: #E2EBFA;\n",
              "      --hover-fill-color: #174EA6;\n",
              "      --disabled-fill-color: #AAA;\n",
              "      --disabled-bg-color: #DDD;\n",
              "  }\n",
              "\n",
              "  [theme=dark] .colab-df-quickchart {\n",
              "      --bg-color: #3B4455;\n",
              "      --fill-color: #D2E3FC;\n",
              "      --hover-bg-color: #434B5C;\n",
              "      --hover-fill-color: #FFFFFF;\n",
              "      --disabled-bg-color: #3B4455;\n",
              "      --disabled-fill-color: #666;\n",
              "  }\n",
              "\n",
              "  .colab-df-quickchart {\n",
              "    background-color: var(--bg-color);\n",
              "    border: none;\n",
              "    border-radius: 50%;\n",
              "    cursor: pointer;\n",
              "    display: none;\n",
              "    fill: var(--fill-color);\n",
              "    height: 32px;\n",
              "    padding: 0;\n",
              "    width: 32px;\n",
              "  }\n",
              "\n",
              "  .colab-df-quickchart:hover {\n",
              "    background-color: var(--hover-bg-color);\n",
              "    box-shadow: 0 1px 2px rgba(60, 64, 67, 0.3), 0 1px 3px 1px rgba(60, 64, 67, 0.15);\n",
              "    fill: var(--button-hover-fill-color);\n",
              "  }\n",
              "\n",
              "  .colab-df-quickchart-complete:disabled,\n",
              "  .colab-df-quickchart-complete:disabled:hover {\n",
              "    background-color: var(--disabled-bg-color);\n",
              "    fill: var(--disabled-fill-color);\n",
              "    box-shadow: none;\n",
              "  }\n",
              "\n",
              "  .colab-df-spinner {\n",
              "    border: 2px solid var(--fill-color);\n",
              "    border-color: transparent;\n",
              "    border-bottom-color: var(--fill-color);\n",
              "    animation:\n",
              "      spin 1s steps(1) infinite;\n",
              "  }\n",
              "\n",
              "  @keyframes spin {\n",
              "    0% {\n",
              "      border-color: transparent;\n",
              "      border-bottom-color: var(--fill-color);\n",
              "      border-left-color: var(--fill-color);\n",
              "    }\n",
              "    20% {\n",
              "      border-color: transparent;\n",
              "      border-left-color: var(--fill-color);\n",
              "      border-top-color: var(--fill-color);\n",
              "    }\n",
              "    30% {\n",
              "      border-color: transparent;\n",
              "      border-left-color: var(--fill-color);\n",
              "      border-top-color: var(--fill-color);\n",
              "      border-right-color: var(--fill-color);\n",
              "    }\n",
              "    40% {\n",
              "      border-color: transparent;\n",
              "      border-right-color: var(--fill-color);\n",
              "      border-top-color: var(--fill-color);\n",
              "    }\n",
              "    60% {\n",
              "      border-color: transparent;\n",
              "      border-right-color: var(--fill-color);\n",
              "    }\n",
              "    80% {\n",
              "      border-color: transparent;\n",
              "      border-right-color: var(--fill-color);\n",
              "      border-bottom-color: var(--fill-color);\n",
              "    }\n",
              "    90% {\n",
              "      border-color: transparent;\n",
              "      border-bottom-color: var(--fill-color);\n",
              "    }\n",
              "  }\n",
              "</style>\n",
              "\n",
              "  <script>\n",
              "    async function quickchart(key) {\n",
              "      const quickchartButtonEl =\n",
              "        document.querySelector('#' + key + ' button');\n",
              "      quickchartButtonEl.disabled = true;  // To prevent multiple clicks.\n",
              "      quickchartButtonEl.classList.add('colab-df-spinner');\n",
              "      try {\n",
              "        const charts = await google.colab.kernel.invokeFunction(\n",
              "            'suggestCharts', [key], {});\n",
              "      } catch (error) {\n",
              "        console.error('Error during call to suggestCharts:', error);\n",
              "      }\n",
              "      quickchartButtonEl.classList.remove('colab-df-spinner');\n",
              "      quickchartButtonEl.classList.add('colab-df-quickchart-complete');\n",
              "    }\n",
              "    (() => {\n",
              "      let quickchartButtonEl =\n",
              "        document.querySelector('#df-9f48363f-c341-4e0b-b9ac-41c61c363575 button');\n",
              "      quickchartButtonEl.style.display =\n",
              "        google.colab.kernel.accessAllowed ? 'block' : 'none';\n",
              "    })();\n",
              "  </script>\n",
              "</div>\n",
              "    </div>\n",
              "  </div>\n"
            ],
            "application/vnd.google.colaboratory.intrinsic+json": {
              "type": "dataframe"
            }
          },
          "metadata": {}
        },
        {
          "output_type": "display_data",
          "data": {
            "text/plain": [
              "    Car_ID       Brand   Model  Year  Kilometers_Driven Fuel_Type  \\\n",
              "17      18        Audi      Q3  2016              38000    Petrol   \n",
              "41      42     Hyundai  Santro  2019              26000    Petrol   \n",
              "92      93  Volkswagen   Vento  2017              32000    Petrol   \n",
              "14      15      Maruti  Ertiga  2020              18000    Petrol   \n",
              "68      69        Ford  Aspire  2019              26000    Petrol   \n",
              "\n",
              "   Transmission Owner_Type  Mileage  Engine  Power  Seats  Brand_Audi  \\\n",
              "17    Automatic     Second       15    1395    148      5         1.0   \n",
              "41       Manual      Third       20    1086     68      5         0.0   \n",
              "92       Manual     Second       18    1598    103      5         0.0   \n",
              "14       Manual      First       19    1462    103      7         0.0   \n",
              "68       Manual      Third       20    1194     94      5         0.0   \n",
              "\n",
              "    Brand_BMW  Brand_Ford  Brand_Honda  Brand_Hyundai  Brand_Mahindra  \\\n",
              "17        0.0         0.0          0.0            0.0             0.0   \n",
              "41        0.0         0.0          0.0            1.0             0.0   \n",
              "92        0.0         0.0          0.0            0.0             0.0   \n",
              "14        0.0         0.0          0.0            0.0             0.0   \n",
              "68        0.0         1.0          0.0            0.0             0.0   \n",
              "\n",
              "    Brand_Maruti  Brand_Mercedes  Brand_Tata  Brand_Toyota  Brand_Volkswagen  \\\n",
              "17           0.0             0.0         0.0           0.0               0.0   \n",
              "41           0.0             0.0         0.0           0.0               0.0   \n",
              "92           0.0             0.0         0.0           0.0               1.0   \n",
              "14           1.0             0.0         0.0           0.0               0.0   \n",
              "68           0.0             0.0         0.0           0.0               0.0   \n",
              "\n",
              "    Owner_Type_Codes  \n",
              "17               1.0  \n",
              "41               2.0  \n",
              "92               1.0  \n",
              "14               0.0  \n",
              "68               2.0  "
            ],
            "text/html": [
              "\n",
              "  <div id=\"df-ebb7a905-afde-45b4-9584-38c2a06fd45f\" class=\"colab-df-container\">\n",
              "    <div>\n",
              "<style scoped>\n",
              "    .dataframe tbody tr th:only-of-type {\n",
              "        vertical-align: middle;\n",
              "    }\n",
              "\n",
              "    .dataframe tbody tr th {\n",
              "        vertical-align: top;\n",
              "    }\n",
              "\n",
              "    .dataframe thead th {\n",
              "        text-align: right;\n",
              "    }\n",
              "</style>\n",
              "<table border=\"1\" class=\"dataframe\">\n",
              "  <thead>\n",
              "    <tr style=\"text-align: right;\">\n",
              "      <th></th>\n",
              "      <th>Car_ID</th>\n",
              "      <th>Brand</th>\n",
              "      <th>Model</th>\n",
              "      <th>Year</th>\n",
              "      <th>Kilometers_Driven</th>\n",
              "      <th>Fuel_Type</th>\n",
              "      <th>Transmission</th>\n",
              "      <th>Owner_Type</th>\n",
              "      <th>Mileage</th>\n",
              "      <th>Engine</th>\n",
              "      <th>Power</th>\n",
              "      <th>Seats</th>\n",
              "      <th>Brand_Audi</th>\n",
              "      <th>Brand_BMW</th>\n",
              "      <th>Brand_Ford</th>\n",
              "      <th>Brand_Honda</th>\n",
              "      <th>Brand_Hyundai</th>\n",
              "      <th>Brand_Mahindra</th>\n",
              "      <th>Brand_Maruti</th>\n",
              "      <th>Brand_Mercedes</th>\n",
              "      <th>Brand_Tata</th>\n",
              "      <th>Brand_Toyota</th>\n",
              "      <th>Brand_Volkswagen</th>\n",
              "      <th>Owner_Type_Codes</th>\n",
              "    </tr>\n",
              "  </thead>\n",
              "  <tbody>\n",
              "    <tr>\n",
              "      <th>17</th>\n",
              "      <td>18</td>\n",
              "      <td>Audi</td>\n",
              "      <td>Q3</td>\n",
              "      <td>2016</td>\n",
              "      <td>38000</td>\n",
              "      <td>Petrol</td>\n",
              "      <td>Automatic</td>\n",
              "      <td>Second</td>\n",
              "      <td>15</td>\n",
              "      <td>1395</td>\n",
              "      <td>148</td>\n",
              "      <td>5</td>\n",
              "      <td>1.0</td>\n",
              "      <td>0.0</td>\n",
              "      <td>0.0</td>\n",
              "      <td>0.0</td>\n",
              "      <td>0.0</td>\n",
              "      <td>0.0</td>\n",
              "      <td>0.0</td>\n",
              "      <td>0.0</td>\n",
              "      <td>0.0</td>\n",
              "      <td>0.0</td>\n",
              "      <td>0.0</td>\n",
              "      <td>1.0</td>\n",
              "    </tr>\n",
              "    <tr>\n",
              "      <th>41</th>\n",
              "      <td>42</td>\n",
              "      <td>Hyundai</td>\n",
              "      <td>Santro</td>\n",
              "      <td>2019</td>\n",
              "      <td>26000</td>\n",
              "      <td>Petrol</td>\n",
              "      <td>Manual</td>\n",
              "      <td>Third</td>\n",
              "      <td>20</td>\n",
              "      <td>1086</td>\n",
              "      <td>68</td>\n",
              "      <td>5</td>\n",
              "      <td>0.0</td>\n",
              "      <td>0.0</td>\n",
              "      <td>0.0</td>\n",
              "      <td>0.0</td>\n",
              "      <td>1.0</td>\n",
              "      <td>0.0</td>\n",
              "      <td>0.0</td>\n",
              "      <td>0.0</td>\n",
              "      <td>0.0</td>\n",
              "      <td>0.0</td>\n",
              "      <td>0.0</td>\n",
              "      <td>2.0</td>\n",
              "    </tr>\n",
              "    <tr>\n",
              "      <th>92</th>\n",
              "      <td>93</td>\n",
              "      <td>Volkswagen</td>\n",
              "      <td>Vento</td>\n",
              "      <td>2017</td>\n",
              "      <td>32000</td>\n",
              "      <td>Petrol</td>\n",
              "      <td>Manual</td>\n",
              "      <td>Second</td>\n",
              "      <td>18</td>\n",
              "      <td>1598</td>\n",
              "      <td>103</td>\n",
              "      <td>5</td>\n",
              "      <td>0.0</td>\n",
              "      <td>0.0</td>\n",
              "      <td>0.0</td>\n",
              "      <td>0.0</td>\n",
              "      <td>0.0</td>\n",
              "      <td>0.0</td>\n",
              "      <td>0.0</td>\n",
              "      <td>0.0</td>\n",
              "      <td>0.0</td>\n",
              "      <td>0.0</td>\n",
              "      <td>1.0</td>\n",
              "      <td>1.0</td>\n",
              "    </tr>\n",
              "    <tr>\n",
              "      <th>14</th>\n",
              "      <td>15</td>\n",
              "      <td>Maruti</td>\n",
              "      <td>Ertiga</td>\n",
              "      <td>2020</td>\n",
              "      <td>18000</td>\n",
              "      <td>Petrol</td>\n",
              "      <td>Manual</td>\n",
              "      <td>First</td>\n",
              "      <td>19</td>\n",
              "      <td>1462</td>\n",
              "      <td>103</td>\n",
              "      <td>7</td>\n",
              "      <td>0.0</td>\n",
              "      <td>0.0</td>\n",
              "      <td>0.0</td>\n",
              "      <td>0.0</td>\n",
              "      <td>0.0</td>\n",
              "      <td>0.0</td>\n",
              "      <td>1.0</td>\n",
              "      <td>0.0</td>\n",
              "      <td>0.0</td>\n",
              "      <td>0.0</td>\n",
              "      <td>0.0</td>\n",
              "      <td>0.0</td>\n",
              "    </tr>\n",
              "    <tr>\n",
              "      <th>68</th>\n",
              "      <td>69</td>\n",
              "      <td>Ford</td>\n",
              "      <td>Aspire</td>\n",
              "      <td>2019</td>\n",
              "      <td>26000</td>\n",
              "      <td>Petrol</td>\n",
              "      <td>Manual</td>\n",
              "      <td>Third</td>\n",
              "      <td>20</td>\n",
              "      <td>1194</td>\n",
              "      <td>94</td>\n",
              "      <td>5</td>\n",
              "      <td>0.0</td>\n",
              "      <td>0.0</td>\n",
              "      <td>1.0</td>\n",
              "      <td>0.0</td>\n",
              "      <td>0.0</td>\n",
              "      <td>0.0</td>\n",
              "      <td>0.0</td>\n",
              "      <td>0.0</td>\n",
              "      <td>0.0</td>\n",
              "      <td>0.0</td>\n",
              "      <td>0.0</td>\n",
              "      <td>2.0</td>\n",
              "    </tr>\n",
              "  </tbody>\n",
              "</table>\n",
              "</div>\n",
              "    <div class=\"colab-df-buttons\">\n",
              "\n",
              "  <div class=\"colab-df-container\">\n",
              "    <button class=\"colab-df-convert\" onclick=\"convertToInteractive('df-ebb7a905-afde-45b4-9584-38c2a06fd45f')\"\n",
              "            title=\"Convert this dataframe to an interactive table.\"\n",
              "            style=\"display:none;\">\n",
              "\n",
              "  <svg xmlns=\"http://www.w3.org/2000/svg\" height=\"24px\" viewBox=\"0 -960 960 960\">\n",
              "    <path d=\"M120-120v-720h720v720H120Zm60-500h600v-160H180v160Zm220 220h160v-160H400v160Zm0 220h160v-160H400v160ZM180-400h160v-160H180v160Zm440 0h160v-160H620v160ZM180-180h160v-160H180v160Zm440 0h160v-160H620v160Z\"/>\n",
              "  </svg>\n",
              "    </button>\n",
              "\n",
              "  <style>\n",
              "    .colab-df-container {\n",
              "      display:flex;\n",
              "      gap: 12px;\n",
              "    }\n",
              "\n",
              "    .colab-df-convert {\n",
              "      background-color: #E8F0FE;\n",
              "      border: none;\n",
              "      border-radius: 50%;\n",
              "      cursor: pointer;\n",
              "      display: none;\n",
              "      fill: #1967D2;\n",
              "      height: 32px;\n",
              "      padding: 0 0 0 0;\n",
              "      width: 32px;\n",
              "    }\n",
              "\n",
              "    .colab-df-convert:hover {\n",
              "      background-color: #E2EBFA;\n",
              "      box-shadow: 0px 1px 2px rgba(60, 64, 67, 0.3), 0px 1px 3px 1px rgba(60, 64, 67, 0.15);\n",
              "      fill: #174EA6;\n",
              "    }\n",
              "\n",
              "    .colab-df-buttons div {\n",
              "      margin-bottom: 4px;\n",
              "    }\n",
              "\n",
              "    [theme=dark] .colab-df-convert {\n",
              "      background-color: #3B4455;\n",
              "      fill: #D2E3FC;\n",
              "    }\n",
              "\n",
              "    [theme=dark] .colab-df-convert:hover {\n",
              "      background-color: #434B5C;\n",
              "      box-shadow: 0px 1px 3px 1px rgba(0, 0, 0, 0.15);\n",
              "      filter: drop-shadow(0px 1px 2px rgba(0, 0, 0, 0.3));\n",
              "      fill: #FFFFFF;\n",
              "    }\n",
              "  </style>\n",
              "\n",
              "    <script>\n",
              "      const buttonEl =\n",
              "        document.querySelector('#df-ebb7a905-afde-45b4-9584-38c2a06fd45f button.colab-df-convert');\n",
              "      buttonEl.style.display =\n",
              "        google.colab.kernel.accessAllowed ? 'block' : 'none';\n",
              "\n",
              "      async function convertToInteractive(key) {\n",
              "        const element = document.querySelector('#df-ebb7a905-afde-45b4-9584-38c2a06fd45f');\n",
              "        const dataTable =\n",
              "          await google.colab.kernel.invokeFunction('convertToInteractive',\n",
              "                                                    [key], {});\n",
              "        if (!dataTable) return;\n",
              "\n",
              "        const docLinkHtml = 'Like what you see? Visit the ' +\n",
              "          '<a target=\"_blank\" href=https://colab.research.google.com/notebooks/data_table.ipynb>data table notebook</a>'\n",
              "          + ' to learn more about interactive tables.';\n",
              "        element.innerHTML = '';\n",
              "        dataTable['output_type'] = 'display_data';\n",
              "        await google.colab.output.renderOutput(dataTable, element);\n",
              "        const docLink = document.createElement('div');\n",
              "        docLink.innerHTML = docLinkHtml;\n",
              "        element.appendChild(docLink);\n",
              "      }\n",
              "    </script>\n",
              "  </div>\n",
              "\n",
              "\n",
              "<div id=\"df-3d859fad-19b6-483d-a6d1-8655eb919360\">\n",
              "  <button class=\"colab-df-quickchart\" onclick=\"quickchart('df-3d859fad-19b6-483d-a6d1-8655eb919360')\"\n",
              "            title=\"Suggest charts\"\n",
              "            style=\"display:none;\">\n",
              "\n",
              "<svg xmlns=\"http://www.w3.org/2000/svg\" height=\"24px\"viewBox=\"0 0 24 24\"\n",
              "     width=\"24px\">\n",
              "    <g>\n",
              "        <path d=\"M19 3H5c-1.1 0-2 .9-2 2v14c0 1.1.9 2 2 2h14c1.1 0 2-.9 2-2V5c0-1.1-.9-2-2-2zM9 17H7v-7h2v7zm4 0h-2V7h2v10zm4 0h-2v-4h2v4z\"/>\n",
              "    </g>\n",
              "</svg>\n",
              "  </button>\n",
              "\n",
              "<style>\n",
              "  .colab-df-quickchart {\n",
              "      --bg-color: #E8F0FE;\n",
              "      --fill-color: #1967D2;\n",
              "      --hover-bg-color: #E2EBFA;\n",
              "      --hover-fill-color: #174EA6;\n",
              "      --disabled-fill-color: #AAA;\n",
              "      --disabled-bg-color: #DDD;\n",
              "  }\n",
              "\n",
              "  [theme=dark] .colab-df-quickchart {\n",
              "      --bg-color: #3B4455;\n",
              "      --fill-color: #D2E3FC;\n",
              "      --hover-bg-color: #434B5C;\n",
              "      --hover-fill-color: #FFFFFF;\n",
              "      --disabled-bg-color: #3B4455;\n",
              "      --disabled-fill-color: #666;\n",
              "  }\n",
              "\n",
              "  .colab-df-quickchart {\n",
              "    background-color: var(--bg-color);\n",
              "    border: none;\n",
              "    border-radius: 50%;\n",
              "    cursor: pointer;\n",
              "    display: none;\n",
              "    fill: var(--fill-color);\n",
              "    height: 32px;\n",
              "    padding: 0;\n",
              "    width: 32px;\n",
              "  }\n",
              "\n",
              "  .colab-df-quickchart:hover {\n",
              "    background-color: var(--hover-bg-color);\n",
              "    box-shadow: 0 1px 2px rgba(60, 64, 67, 0.3), 0 1px 3px 1px rgba(60, 64, 67, 0.15);\n",
              "    fill: var(--button-hover-fill-color);\n",
              "  }\n",
              "\n",
              "  .colab-df-quickchart-complete:disabled,\n",
              "  .colab-df-quickchart-complete:disabled:hover {\n",
              "    background-color: var(--disabled-bg-color);\n",
              "    fill: var(--disabled-fill-color);\n",
              "    box-shadow: none;\n",
              "  }\n",
              "\n",
              "  .colab-df-spinner {\n",
              "    border: 2px solid var(--fill-color);\n",
              "    border-color: transparent;\n",
              "    border-bottom-color: var(--fill-color);\n",
              "    animation:\n",
              "      spin 1s steps(1) infinite;\n",
              "  }\n",
              "\n",
              "  @keyframes spin {\n",
              "    0% {\n",
              "      border-color: transparent;\n",
              "      border-bottom-color: var(--fill-color);\n",
              "      border-left-color: var(--fill-color);\n",
              "    }\n",
              "    20% {\n",
              "      border-color: transparent;\n",
              "      border-left-color: var(--fill-color);\n",
              "      border-top-color: var(--fill-color);\n",
              "    }\n",
              "    30% {\n",
              "      border-color: transparent;\n",
              "      border-left-color: var(--fill-color);\n",
              "      border-top-color: var(--fill-color);\n",
              "      border-right-color: var(--fill-color);\n",
              "    }\n",
              "    40% {\n",
              "      border-color: transparent;\n",
              "      border-right-color: var(--fill-color);\n",
              "      border-top-color: var(--fill-color);\n",
              "    }\n",
              "    60% {\n",
              "      border-color: transparent;\n",
              "      border-right-color: var(--fill-color);\n",
              "    }\n",
              "    80% {\n",
              "      border-color: transparent;\n",
              "      border-right-color: var(--fill-color);\n",
              "      border-bottom-color: var(--fill-color);\n",
              "    }\n",
              "    90% {\n",
              "      border-color: transparent;\n",
              "      border-bottom-color: var(--fill-color);\n",
              "    }\n",
              "  }\n",
              "</style>\n",
              "\n",
              "  <script>\n",
              "    async function quickchart(key) {\n",
              "      const quickchartButtonEl =\n",
              "        document.querySelector('#' + key + ' button');\n",
              "      quickchartButtonEl.disabled = true;  // To prevent multiple clicks.\n",
              "      quickchartButtonEl.classList.add('colab-df-spinner');\n",
              "      try {\n",
              "        const charts = await google.colab.kernel.invokeFunction(\n",
              "            'suggestCharts', [key], {});\n",
              "      } catch (error) {\n",
              "        console.error('Error during call to suggestCharts:', error);\n",
              "      }\n",
              "      quickchartButtonEl.classList.remove('colab-df-spinner');\n",
              "      quickchartButtonEl.classList.add('colab-df-quickchart-complete');\n",
              "    }\n",
              "    (() => {\n",
              "      let quickchartButtonEl =\n",
              "        document.querySelector('#df-3d859fad-19b6-483d-a6d1-8655eb919360 button');\n",
              "      quickchartButtonEl.style.display =\n",
              "        google.colab.kernel.accessAllowed ? 'block' : 'none';\n",
              "    })();\n",
              "  </script>\n",
              "</div>\n",
              "    </div>\n",
              "  </div>\n"
            ],
            "application/vnd.google.colaboratory.intrinsic+json": {
              "type": "dataframe"
            }
          },
          "metadata": {}
        },
        {
          "output_type": "execute_result",
          "data": {
            "text/plain": [
              "(None, None)"
            ]
          },
          "metadata": {},
          "execution_count": 23
        }
      ]
    },
    {
      "cell_type": "code",
      "source": [
        "# Task \"Model\" column transformation\n",
        "cars_df.Model.unique()"
      ],
      "metadata": {
        "id": "0EIv0cVVf05Z",
        "colab": {
          "base_uri": "https://localhost:8080/"
        },
        "outputId": "6d4801ae-de59-4f1e-a7a2-6a929d43eb59"
      },
      "execution_count": 24,
      "outputs": [
        {
          "output_type": "execute_result",
          "data": {
            "text/plain": [
              "array(['Corolla', 'Civic', 'Mustang', 'Swift', 'Sonata', 'Nexon',\n",
              "       'Scorpio', 'Polo', 'A4', 'X1', 'C-Class', 'Endeavour', 'Creta',\n",
              "       'Harrier', 'Ertiga', 'City', 'Tiguan', 'Q3', '5 Series', 'GLC',\n",
              "       'Innova', 'Figo', 'Verna', 'Altroz', 'Thar', 'Passat', 'A6', 'X3',\n",
              "       'E-Class', 'Fortuner', 'Aspire', 'Elantra', 'Safari', 'Vitara',\n",
              "       'WR-V', 'Ameo', 'A3', '7 Series', 'GLE', 'Yaris', 'Ranger',\n",
              "       'Santro', 'Tigor', 'S-Cross', 'BR-V', 'T-Roc', 'Q7', 'X5', 'GLA',\n",
              "       'Camry', 'Venue', 'Tiago', 'XUV300', 'Vento', 'A5', '3 Series',\n",
              "       'Innova Crysta', 'EcoSport'], dtype=object)"
            ]
          },
          "metadata": {},
          "execution_count": 24
        }
      ]
    },
    {
      "cell_type": "code",
      "source": [
        "model_groups = {\n",
        "    'Sedan': ['Corolla', 'Civic', 'Sonata', 'Polo', 'A4', 'C-Class', 'City', 'Q3', '5 Series', 'E-Class', 'Passat', 'A6', 'A3', '7 Series', 'Yaris', 'Ameo', 'A5', '3 Series', 'Camry', 'Vento', 'Verna', 'Elantra'],\n",
        "    'Crossover': ['Nexon', 'Creta', 'Tiguan', 'Harrier', 'X1', 'X3', 'Q7', 'X5', 'GLA', 'T-Roc', 'GLC', 'GLE', 'Venue', 'Innova Crysta', 'Vitara', 'S-Cross', 'WR-V'],\n",
        "    'SUV': ['Scorpio', 'Endeavour', 'Innova', 'Thar', 'Fortuner', 'Safari', 'Ranger', 'BR-V', 'XUV300', 'Ertiga', 'EcoSport'],\n",
        "    'Hatchback': ['Swift', 'Figo', 'Altroz', 'Santro', 'Tigor', 'Tiago']\n",
        "}"
      ],
      "metadata": {
        "id": "jAk61Mo4c2U4"
      },
      "execution_count": 25,
      "outputs": []
    },
    {
      "cell_type": "code",
      "source": [
        "def model_to_group(model):\n",
        "    for group, models in model_groups.items():\n",
        "        if model in models:\n",
        "            return group\n",
        "    return 'Other'"
      ],
      "metadata": {
        "id": "1h-HxTFUc7ZN"
      },
      "execution_count": 26,
      "outputs": []
    },
    {
      "cell_type": "code",
      "source": [
        "X_train['Body_Type'] = X_train['Model'].apply(model_to_group)\n",
        "X_test['Body_Type'] = X_test['Model'].apply(model_to_group)\n",
        "\n",
        "# Не змогла придумати як далі закодувати ці групи на треін та тест даних,\n",
        "#отримувала помилку що деякі дані в X_test не розпізнані,оскільки модель на них не була тренована."
      ],
      "metadata": {
        "id": "5mgR43UUdR_v"
      },
      "execution_count": 27,
      "outputs": []
    },
    {
      "cell_type": "markdown",
      "source": [
        "**Завдання 5.** Оберіть лише числові колонки з `X_train` (можна для цього використати `pandas.select_dtypes(...)` або видалити всі НЕчислові дані, вони нам вже не потрібні), обʼєднайте ці дані з `y_train` (зручно з `pandas.concat([df1, df2], axis=1)`), побудуйте для цих даних матрицю кореляції і проаналізуйте її. Напишіть висновок, які колонки корелюють з цільовою змінною на більш ніж 0.5 за модулем (може бути як позитивна, так і негативна кореляція)."
      ],
      "metadata": {
        "id": "wHDyZp9QSnsF"
      }
    },
    {
      "cell_type": "code",
      "source": [
        "X_train= X_train.select_dtypes(include=[np.number])"
      ],
      "metadata": {
        "id": "tlwjk_H9hssB"
      },
      "execution_count": 28,
      "outputs": []
    },
    {
      "cell_type": "code",
      "source": [
        "train_data = pd.concat([X_train, Y_train.reset_index(drop=True)], axis=1)"
      ],
      "metadata": {
        "id": "-mp831QDiOMD"
      },
      "execution_count": 29,
      "outputs": []
    },
    {
      "cell_type": "code",
      "source": [
        "correlation_matrix = train_data.corr()\n",
        "correlation_matrix"
      ],
      "metadata": {
        "colab": {
          "base_uri": "https://localhost:8080/",
          "height": 696
        },
        "id": "AyNh3WUuiU3n",
        "outputId": "9e1a11c1-de21-4157-dc4a-e3ca5ea785c1"
      },
      "execution_count": 30,
      "outputs": [
        {
          "output_type": "execute_result",
          "data": {
            "text/plain": [
              "                     Car_ID      Year  Kilometers_Driven   Mileage    Engine  \\\n",
              "Car_ID             1.000000  0.137027          -0.356614  0.100891 -0.089284   \n",
              "Year               0.137027  1.000000          -0.708525  0.278559 -0.392764   \n",
              "Kilometers_Driven -0.356614 -0.708525           1.000000 -0.126621  0.101219   \n",
              "Mileage            0.100891  0.278559          -0.126621  1.000000 -0.710516   \n",
              "Engine            -0.089284 -0.392764           0.101219 -0.710516  1.000000   \n",
              "Power             -0.006319 -0.248442          -0.060803 -0.684705  0.801638   \n",
              "Seats             -0.063793 -0.278755           0.403656 -0.178619  0.167326   \n",
              "Brand_Audi         0.089473 -0.256523           0.095879 -0.152701  0.085153   \n",
              "Brand_BMW          0.048335  0.202517          -0.247042 -0.134105  0.287119   \n",
              "Brand_Ford        -0.020240 -0.150454          -0.009761 -0.296480  0.184231   \n",
              "Brand_Honda       -0.050809 -0.037437           0.057372  0.358630 -0.154491   \n",
              "Brand_Hyundai      0.016831 -0.092099           0.154362  0.217406 -0.182213   \n",
              "Brand_Mahindra     0.006797  0.181669          -0.040344  0.029427 -0.024973   \n",
              "Brand_Maruti      -0.054463  0.285094          -0.190420  0.116389 -0.193257   \n",
              "Brand_Mercedes    -0.045431 -0.115157          -0.091731 -0.238489  0.163871   \n",
              "Brand_Tata        -0.032926  0.248715           0.030399  0.347678 -0.340051   \n",
              "Brand_Toyota       0.011350 -0.219346           0.368519 -0.201565  0.234889   \n",
              "Brand_Volkswagen   0.020129  0.018255          -0.137675  0.085114 -0.165115   \n",
              "Owner_Type_Codes   0.038923 -0.014499          -0.001772  0.026624 -0.196106   \n",
              "Price             -0.013220 -0.057246           0.121312 -0.061016  0.041865   \n",
              "\n",
              "                      Power     Seats  Brand_Audi  Brand_BMW  Brand_Ford  \\\n",
              "Car_ID            -0.006319 -0.063793    0.089473   0.048335   -0.020240   \n",
              "Year              -0.248442 -0.278755   -0.256523   0.202517   -0.150454   \n",
              "Kilometers_Driven -0.060803  0.403656    0.095879  -0.247042   -0.009761   \n",
              "Mileage           -0.684705 -0.178619   -0.152701  -0.134105   -0.296480   \n",
              "Engine             0.801638  0.167326    0.085153   0.287119    0.184231   \n",
              "Power              1.000000 -0.139388    0.157050   0.372652    0.240501   \n",
              "Seats             -0.139388  1.000000    0.123674  -0.108079   -0.161451   \n",
              "Brand_Audi         0.157050  0.123674    1.000000  -0.118678   -0.118678   \n",
              "Brand_BMW          0.372652 -0.108079   -0.118678   1.000000   -0.126761   \n",
              "Brand_Ford         0.240501 -0.161451   -0.118678  -0.126761    1.000000   \n",
              "Brand_Honda       -0.191810  0.200303   -0.086066  -0.091928   -0.091928   \n",
              "Brand_Hyundai     -0.170966 -0.086439   -0.094916  -0.101380   -0.101380   \n",
              "Brand_Mahindra    -0.118021  0.007738   -0.076472  -0.081680   -0.081680   \n",
              "Brand_Maruti      -0.220984 -0.078379   -0.086066  -0.091928   -0.091928   \n",
              "Brand_Mercedes     0.280827 -0.108079   -0.118678  -0.126761   -0.126761   \n",
              "Brand_Tata        -0.316989 -0.012748   -0.125988  -0.134568   -0.134568   \n",
              "Brand_Toyota      -0.040478  0.348535   -0.111111  -0.118678   -0.118678   \n",
              "Brand_Volkswagen  -0.148437 -0.094002   -0.103221  -0.110250   -0.110250   \n",
              "Owner_Type_Codes  -0.204309 -0.043849   -0.203925   0.009076    0.190586   \n",
              "Price             -0.091369  0.181523    0.086245  -0.157757    0.182092   \n",
              "\n",
              "                   Brand_Honda  Brand_Hyundai  Brand_Mahindra  Brand_Maruti  \\\n",
              "Car_ID               -0.050809       0.016831        0.006797     -0.054463   \n",
              "Year                 -0.037437      -0.092099        0.181669      0.285094   \n",
              "Kilometers_Driven     0.057372       0.154362       -0.040344     -0.190420   \n",
              "Mileage               0.358630       0.217406        0.029427      0.116389   \n",
              "Engine               -0.154491      -0.182213       -0.024973     -0.193257   \n",
              "Power                -0.191810      -0.170966       -0.118021     -0.220984   \n",
              "Seats                 0.200303      -0.086439        0.007738     -0.078379   \n",
              "Brand_Audi           -0.086066      -0.094916       -0.076472     -0.086066   \n",
              "Brand_BMW            -0.091928      -0.101380       -0.081680     -0.091928   \n",
              "Brand_Ford           -0.091928      -0.101380       -0.081680     -0.091928   \n",
              "Brand_Honda           1.000000      -0.073521       -0.059235     -0.066667   \n",
              "Brand_Hyundai        -0.073521       1.000000       -0.065326     -0.073521   \n",
              "Brand_Mahindra       -0.059235      -0.065326        1.000000     -0.059235   \n",
              "Brand_Maruti         -0.066667      -0.073521       -0.059235      1.000000   \n",
              "Brand_Mercedes       -0.091928      -0.101380       -0.081680     -0.091928   \n",
              "Brand_Tata           -0.097590      -0.107624       -0.086711     -0.097590   \n",
              "Brand_Toyota         -0.086066      -0.094916       -0.076472     -0.086066   \n",
              "Brand_Volkswagen     -0.079954      -0.088175       -0.071041     -0.079954   \n",
              "Owner_Type_Codes     -0.177705       0.297594        0.035088      0.217195   \n",
              "Price                 0.117881       0.154146        0.252620     -0.232518   \n",
              "\n",
              "                   Brand_Mercedes  Brand_Tata  Brand_Toyota  Brand_Volkswagen  \\\n",
              "Car_ID                  -0.045431   -0.032926      0.011350          0.020129   \n",
              "Year                    -0.115157    0.248715     -0.219346          0.018255   \n",
              "Kilometers_Driven       -0.091731    0.030399      0.368519         -0.137675   \n",
              "Mileage                 -0.238489    0.347678     -0.201565          0.085114   \n",
              "Engine                   0.163871   -0.340051      0.234889         -0.165115   \n",
              "Power                    0.280827   -0.316989     -0.040478         -0.148437   \n",
              "Seats                   -0.108079   -0.012748      0.348535         -0.094002   \n",
              "Brand_Audi              -0.118678   -0.125988     -0.111111         -0.103221   \n",
              "Brand_BMW               -0.126761   -0.134568     -0.118678         -0.110250   \n",
              "Brand_Ford              -0.126761   -0.134568     -0.118678         -0.110250   \n",
              "Brand_Honda             -0.091928   -0.097590     -0.086066         -0.079954   \n",
              "Brand_Hyundai           -0.101380   -0.107624     -0.094916         -0.088175   \n",
              "Brand_Mahindra          -0.081680   -0.086711     -0.076472         -0.071041   \n",
              "Brand_Maruti            -0.091928   -0.097590     -0.086066         -0.079954   \n",
              "Brand_Mercedes           1.000000   -0.134568     -0.118678         -0.110250   \n",
              "Brand_Tata              -0.134568    1.000000     -0.125988         -0.117041   \n",
              "Brand_Toyota            -0.118678   -0.125988      1.000000         -0.103221   \n",
              "Brand_Volkswagen        -0.110250   -0.117041     -0.103221          1.000000   \n",
              "Owner_Type_Codes        -0.172435   -0.375748     -0.012745          0.301080   \n",
              "Price                   -0.224148   -0.004196     -0.137453          0.053903   \n",
              "\n",
              "                   Owner_Type_Codes     Price  \n",
              "Car_ID                     0.038923 -0.013220  \n",
              "Year                      -0.014499 -0.057246  \n",
              "Kilometers_Driven         -0.001772  0.121312  \n",
              "Mileage                    0.026624 -0.061016  \n",
              "Engine                    -0.196106  0.041865  \n",
              "Power                     -0.204309 -0.091369  \n",
              "Seats                     -0.043849  0.181523  \n",
              "Brand_Audi                -0.203925  0.086245  \n",
              "Brand_BMW                  0.009076 -0.157757  \n",
              "Brand_Ford                 0.190586  0.182092  \n",
              "Brand_Honda               -0.177705  0.117881  \n",
              "Brand_Hyundai              0.297594  0.154146  \n",
              "Brand_Mahindra             0.035088  0.252620  \n",
              "Brand_Maruti               0.217195 -0.232518  \n",
              "Brand_Mercedes            -0.172435 -0.224148  \n",
              "Brand_Tata                -0.375748 -0.004196  \n",
              "Brand_Toyota              -0.012745 -0.137453  \n",
              "Brand_Volkswagen           0.301080  0.053903  \n",
              "Owner_Type_Codes           1.000000  0.130539  \n",
              "Price                      0.130539  1.000000  "
            ],
            "text/html": [
              "\n",
              "  <div id=\"df-909c6722-0be1-49b0-9205-31bbbee5c1c3\" class=\"colab-df-container\">\n",
              "    <div>\n",
              "<style scoped>\n",
              "    .dataframe tbody tr th:only-of-type {\n",
              "        vertical-align: middle;\n",
              "    }\n",
              "\n",
              "    .dataframe tbody tr th {\n",
              "        vertical-align: top;\n",
              "    }\n",
              "\n",
              "    .dataframe thead th {\n",
              "        text-align: right;\n",
              "    }\n",
              "</style>\n",
              "<table border=\"1\" class=\"dataframe\">\n",
              "  <thead>\n",
              "    <tr style=\"text-align: right;\">\n",
              "      <th></th>\n",
              "      <th>Car_ID</th>\n",
              "      <th>Year</th>\n",
              "      <th>Kilometers_Driven</th>\n",
              "      <th>Mileage</th>\n",
              "      <th>Engine</th>\n",
              "      <th>Power</th>\n",
              "      <th>Seats</th>\n",
              "      <th>Brand_Audi</th>\n",
              "      <th>Brand_BMW</th>\n",
              "      <th>Brand_Ford</th>\n",
              "      <th>Brand_Honda</th>\n",
              "      <th>Brand_Hyundai</th>\n",
              "      <th>Brand_Mahindra</th>\n",
              "      <th>Brand_Maruti</th>\n",
              "      <th>Brand_Mercedes</th>\n",
              "      <th>Brand_Tata</th>\n",
              "      <th>Brand_Toyota</th>\n",
              "      <th>Brand_Volkswagen</th>\n",
              "      <th>Owner_Type_Codes</th>\n",
              "      <th>Price</th>\n",
              "    </tr>\n",
              "  </thead>\n",
              "  <tbody>\n",
              "    <tr>\n",
              "      <th>Car_ID</th>\n",
              "      <td>1.000000</td>\n",
              "      <td>0.137027</td>\n",
              "      <td>-0.356614</td>\n",
              "      <td>0.100891</td>\n",
              "      <td>-0.089284</td>\n",
              "      <td>-0.006319</td>\n",
              "      <td>-0.063793</td>\n",
              "      <td>0.089473</td>\n",
              "      <td>0.048335</td>\n",
              "      <td>-0.020240</td>\n",
              "      <td>-0.050809</td>\n",
              "      <td>0.016831</td>\n",
              "      <td>0.006797</td>\n",
              "      <td>-0.054463</td>\n",
              "      <td>-0.045431</td>\n",
              "      <td>-0.032926</td>\n",
              "      <td>0.011350</td>\n",
              "      <td>0.020129</td>\n",
              "      <td>0.038923</td>\n",
              "      <td>-0.013220</td>\n",
              "    </tr>\n",
              "    <tr>\n",
              "      <th>Year</th>\n",
              "      <td>0.137027</td>\n",
              "      <td>1.000000</td>\n",
              "      <td>-0.708525</td>\n",
              "      <td>0.278559</td>\n",
              "      <td>-0.392764</td>\n",
              "      <td>-0.248442</td>\n",
              "      <td>-0.278755</td>\n",
              "      <td>-0.256523</td>\n",
              "      <td>0.202517</td>\n",
              "      <td>-0.150454</td>\n",
              "      <td>-0.037437</td>\n",
              "      <td>-0.092099</td>\n",
              "      <td>0.181669</td>\n",
              "      <td>0.285094</td>\n",
              "      <td>-0.115157</td>\n",
              "      <td>0.248715</td>\n",
              "      <td>-0.219346</td>\n",
              "      <td>0.018255</td>\n",
              "      <td>-0.014499</td>\n",
              "      <td>-0.057246</td>\n",
              "    </tr>\n",
              "    <tr>\n",
              "      <th>Kilometers_Driven</th>\n",
              "      <td>-0.356614</td>\n",
              "      <td>-0.708525</td>\n",
              "      <td>1.000000</td>\n",
              "      <td>-0.126621</td>\n",
              "      <td>0.101219</td>\n",
              "      <td>-0.060803</td>\n",
              "      <td>0.403656</td>\n",
              "      <td>0.095879</td>\n",
              "      <td>-0.247042</td>\n",
              "      <td>-0.009761</td>\n",
              "      <td>0.057372</td>\n",
              "      <td>0.154362</td>\n",
              "      <td>-0.040344</td>\n",
              "      <td>-0.190420</td>\n",
              "      <td>-0.091731</td>\n",
              "      <td>0.030399</td>\n",
              "      <td>0.368519</td>\n",
              "      <td>-0.137675</td>\n",
              "      <td>-0.001772</td>\n",
              "      <td>0.121312</td>\n",
              "    </tr>\n",
              "    <tr>\n",
              "      <th>Mileage</th>\n",
              "      <td>0.100891</td>\n",
              "      <td>0.278559</td>\n",
              "      <td>-0.126621</td>\n",
              "      <td>1.000000</td>\n",
              "      <td>-0.710516</td>\n",
              "      <td>-0.684705</td>\n",
              "      <td>-0.178619</td>\n",
              "      <td>-0.152701</td>\n",
              "      <td>-0.134105</td>\n",
              "      <td>-0.296480</td>\n",
              "      <td>0.358630</td>\n",
              "      <td>0.217406</td>\n",
              "      <td>0.029427</td>\n",
              "      <td>0.116389</td>\n",
              "      <td>-0.238489</td>\n",
              "      <td>0.347678</td>\n",
              "      <td>-0.201565</td>\n",
              "      <td>0.085114</td>\n",
              "      <td>0.026624</td>\n",
              "      <td>-0.061016</td>\n",
              "    </tr>\n",
              "    <tr>\n",
              "      <th>Engine</th>\n",
              "      <td>-0.089284</td>\n",
              "      <td>-0.392764</td>\n",
              "      <td>0.101219</td>\n",
              "      <td>-0.710516</td>\n",
              "      <td>1.000000</td>\n",
              "      <td>0.801638</td>\n",
              "      <td>0.167326</td>\n",
              "      <td>0.085153</td>\n",
              "      <td>0.287119</td>\n",
              "      <td>0.184231</td>\n",
              "      <td>-0.154491</td>\n",
              "      <td>-0.182213</td>\n",
              "      <td>-0.024973</td>\n",
              "      <td>-0.193257</td>\n",
              "      <td>0.163871</td>\n",
              "      <td>-0.340051</td>\n",
              "      <td>0.234889</td>\n",
              "      <td>-0.165115</td>\n",
              "      <td>-0.196106</td>\n",
              "      <td>0.041865</td>\n",
              "    </tr>\n",
              "    <tr>\n",
              "      <th>Power</th>\n",
              "      <td>-0.006319</td>\n",
              "      <td>-0.248442</td>\n",
              "      <td>-0.060803</td>\n",
              "      <td>-0.684705</td>\n",
              "      <td>0.801638</td>\n",
              "      <td>1.000000</td>\n",
              "      <td>-0.139388</td>\n",
              "      <td>0.157050</td>\n",
              "      <td>0.372652</td>\n",
              "      <td>0.240501</td>\n",
              "      <td>-0.191810</td>\n",
              "      <td>-0.170966</td>\n",
              "      <td>-0.118021</td>\n",
              "      <td>-0.220984</td>\n",
              "      <td>0.280827</td>\n",
              "      <td>-0.316989</td>\n",
              "      <td>-0.040478</td>\n",
              "      <td>-0.148437</td>\n",
              "      <td>-0.204309</td>\n",
              "      <td>-0.091369</td>\n",
              "    </tr>\n",
              "    <tr>\n",
              "      <th>Seats</th>\n",
              "      <td>-0.063793</td>\n",
              "      <td>-0.278755</td>\n",
              "      <td>0.403656</td>\n",
              "      <td>-0.178619</td>\n",
              "      <td>0.167326</td>\n",
              "      <td>-0.139388</td>\n",
              "      <td>1.000000</td>\n",
              "      <td>0.123674</td>\n",
              "      <td>-0.108079</td>\n",
              "      <td>-0.161451</td>\n",
              "      <td>0.200303</td>\n",
              "      <td>-0.086439</td>\n",
              "      <td>0.007738</td>\n",
              "      <td>-0.078379</td>\n",
              "      <td>-0.108079</td>\n",
              "      <td>-0.012748</td>\n",
              "      <td>0.348535</td>\n",
              "      <td>-0.094002</td>\n",
              "      <td>-0.043849</td>\n",
              "      <td>0.181523</td>\n",
              "    </tr>\n",
              "    <tr>\n",
              "      <th>Brand_Audi</th>\n",
              "      <td>0.089473</td>\n",
              "      <td>-0.256523</td>\n",
              "      <td>0.095879</td>\n",
              "      <td>-0.152701</td>\n",
              "      <td>0.085153</td>\n",
              "      <td>0.157050</td>\n",
              "      <td>0.123674</td>\n",
              "      <td>1.000000</td>\n",
              "      <td>-0.118678</td>\n",
              "      <td>-0.118678</td>\n",
              "      <td>-0.086066</td>\n",
              "      <td>-0.094916</td>\n",
              "      <td>-0.076472</td>\n",
              "      <td>-0.086066</td>\n",
              "      <td>-0.118678</td>\n",
              "      <td>-0.125988</td>\n",
              "      <td>-0.111111</td>\n",
              "      <td>-0.103221</td>\n",
              "      <td>-0.203925</td>\n",
              "      <td>0.086245</td>\n",
              "    </tr>\n",
              "    <tr>\n",
              "      <th>Brand_BMW</th>\n",
              "      <td>0.048335</td>\n",
              "      <td>0.202517</td>\n",
              "      <td>-0.247042</td>\n",
              "      <td>-0.134105</td>\n",
              "      <td>0.287119</td>\n",
              "      <td>0.372652</td>\n",
              "      <td>-0.108079</td>\n",
              "      <td>-0.118678</td>\n",
              "      <td>1.000000</td>\n",
              "      <td>-0.126761</td>\n",
              "      <td>-0.091928</td>\n",
              "      <td>-0.101380</td>\n",
              "      <td>-0.081680</td>\n",
              "      <td>-0.091928</td>\n",
              "      <td>-0.126761</td>\n",
              "      <td>-0.134568</td>\n",
              "      <td>-0.118678</td>\n",
              "      <td>-0.110250</td>\n",
              "      <td>0.009076</td>\n",
              "      <td>-0.157757</td>\n",
              "    </tr>\n",
              "    <tr>\n",
              "      <th>Brand_Ford</th>\n",
              "      <td>-0.020240</td>\n",
              "      <td>-0.150454</td>\n",
              "      <td>-0.009761</td>\n",
              "      <td>-0.296480</td>\n",
              "      <td>0.184231</td>\n",
              "      <td>0.240501</td>\n",
              "      <td>-0.161451</td>\n",
              "      <td>-0.118678</td>\n",
              "      <td>-0.126761</td>\n",
              "      <td>1.000000</td>\n",
              "      <td>-0.091928</td>\n",
              "      <td>-0.101380</td>\n",
              "      <td>-0.081680</td>\n",
              "      <td>-0.091928</td>\n",
              "      <td>-0.126761</td>\n",
              "      <td>-0.134568</td>\n",
              "      <td>-0.118678</td>\n",
              "      <td>-0.110250</td>\n",
              "      <td>0.190586</td>\n",
              "      <td>0.182092</td>\n",
              "    </tr>\n",
              "    <tr>\n",
              "      <th>Brand_Honda</th>\n",
              "      <td>-0.050809</td>\n",
              "      <td>-0.037437</td>\n",
              "      <td>0.057372</td>\n",
              "      <td>0.358630</td>\n",
              "      <td>-0.154491</td>\n",
              "      <td>-0.191810</td>\n",
              "      <td>0.200303</td>\n",
              "      <td>-0.086066</td>\n",
              "      <td>-0.091928</td>\n",
              "      <td>-0.091928</td>\n",
              "      <td>1.000000</td>\n",
              "      <td>-0.073521</td>\n",
              "      <td>-0.059235</td>\n",
              "      <td>-0.066667</td>\n",
              "      <td>-0.091928</td>\n",
              "      <td>-0.097590</td>\n",
              "      <td>-0.086066</td>\n",
              "      <td>-0.079954</td>\n",
              "      <td>-0.177705</td>\n",
              "      <td>0.117881</td>\n",
              "    </tr>\n",
              "    <tr>\n",
              "      <th>Brand_Hyundai</th>\n",
              "      <td>0.016831</td>\n",
              "      <td>-0.092099</td>\n",
              "      <td>0.154362</td>\n",
              "      <td>0.217406</td>\n",
              "      <td>-0.182213</td>\n",
              "      <td>-0.170966</td>\n",
              "      <td>-0.086439</td>\n",
              "      <td>-0.094916</td>\n",
              "      <td>-0.101380</td>\n",
              "      <td>-0.101380</td>\n",
              "      <td>-0.073521</td>\n",
              "      <td>1.000000</td>\n",
              "      <td>-0.065326</td>\n",
              "      <td>-0.073521</td>\n",
              "      <td>-0.101380</td>\n",
              "      <td>-0.107624</td>\n",
              "      <td>-0.094916</td>\n",
              "      <td>-0.088175</td>\n",
              "      <td>0.297594</td>\n",
              "      <td>0.154146</td>\n",
              "    </tr>\n",
              "    <tr>\n",
              "      <th>Brand_Mahindra</th>\n",
              "      <td>0.006797</td>\n",
              "      <td>0.181669</td>\n",
              "      <td>-0.040344</td>\n",
              "      <td>0.029427</td>\n",
              "      <td>-0.024973</td>\n",
              "      <td>-0.118021</td>\n",
              "      <td>0.007738</td>\n",
              "      <td>-0.076472</td>\n",
              "      <td>-0.081680</td>\n",
              "      <td>-0.081680</td>\n",
              "      <td>-0.059235</td>\n",
              "      <td>-0.065326</td>\n",
              "      <td>1.000000</td>\n",
              "      <td>-0.059235</td>\n",
              "      <td>-0.081680</td>\n",
              "      <td>-0.086711</td>\n",
              "      <td>-0.076472</td>\n",
              "      <td>-0.071041</td>\n",
              "      <td>0.035088</td>\n",
              "      <td>0.252620</td>\n",
              "    </tr>\n",
              "    <tr>\n",
              "      <th>Brand_Maruti</th>\n",
              "      <td>-0.054463</td>\n",
              "      <td>0.285094</td>\n",
              "      <td>-0.190420</td>\n",
              "      <td>0.116389</td>\n",
              "      <td>-0.193257</td>\n",
              "      <td>-0.220984</td>\n",
              "      <td>-0.078379</td>\n",
              "      <td>-0.086066</td>\n",
              "      <td>-0.091928</td>\n",
              "      <td>-0.091928</td>\n",
              "      <td>-0.066667</td>\n",
              "      <td>-0.073521</td>\n",
              "      <td>-0.059235</td>\n",
              "      <td>1.000000</td>\n",
              "      <td>-0.091928</td>\n",
              "      <td>-0.097590</td>\n",
              "      <td>-0.086066</td>\n",
              "      <td>-0.079954</td>\n",
              "      <td>0.217195</td>\n",
              "      <td>-0.232518</td>\n",
              "    </tr>\n",
              "    <tr>\n",
              "      <th>Brand_Mercedes</th>\n",
              "      <td>-0.045431</td>\n",
              "      <td>-0.115157</td>\n",
              "      <td>-0.091731</td>\n",
              "      <td>-0.238489</td>\n",
              "      <td>0.163871</td>\n",
              "      <td>0.280827</td>\n",
              "      <td>-0.108079</td>\n",
              "      <td>-0.118678</td>\n",
              "      <td>-0.126761</td>\n",
              "      <td>-0.126761</td>\n",
              "      <td>-0.091928</td>\n",
              "      <td>-0.101380</td>\n",
              "      <td>-0.081680</td>\n",
              "      <td>-0.091928</td>\n",
              "      <td>1.000000</td>\n",
              "      <td>-0.134568</td>\n",
              "      <td>-0.118678</td>\n",
              "      <td>-0.110250</td>\n",
              "      <td>-0.172435</td>\n",
              "      <td>-0.224148</td>\n",
              "    </tr>\n",
              "    <tr>\n",
              "      <th>Brand_Tata</th>\n",
              "      <td>-0.032926</td>\n",
              "      <td>0.248715</td>\n",
              "      <td>0.030399</td>\n",
              "      <td>0.347678</td>\n",
              "      <td>-0.340051</td>\n",
              "      <td>-0.316989</td>\n",
              "      <td>-0.012748</td>\n",
              "      <td>-0.125988</td>\n",
              "      <td>-0.134568</td>\n",
              "      <td>-0.134568</td>\n",
              "      <td>-0.097590</td>\n",
              "      <td>-0.107624</td>\n",
              "      <td>-0.086711</td>\n",
              "      <td>-0.097590</td>\n",
              "      <td>-0.134568</td>\n",
              "      <td>1.000000</td>\n",
              "      <td>-0.125988</td>\n",
              "      <td>-0.117041</td>\n",
              "      <td>-0.375748</td>\n",
              "      <td>-0.004196</td>\n",
              "    </tr>\n",
              "    <tr>\n",
              "      <th>Brand_Toyota</th>\n",
              "      <td>0.011350</td>\n",
              "      <td>-0.219346</td>\n",
              "      <td>0.368519</td>\n",
              "      <td>-0.201565</td>\n",
              "      <td>0.234889</td>\n",
              "      <td>-0.040478</td>\n",
              "      <td>0.348535</td>\n",
              "      <td>-0.111111</td>\n",
              "      <td>-0.118678</td>\n",
              "      <td>-0.118678</td>\n",
              "      <td>-0.086066</td>\n",
              "      <td>-0.094916</td>\n",
              "      <td>-0.076472</td>\n",
              "      <td>-0.086066</td>\n",
              "      <td>-0.118678</td>\n",
              "      <td>-0.125988</td>\n",
              "      <td>1.000000</td>\n",
              "      <td>-0.103221</td>\n",
              "      <td>-0.012745</td>\n",
              "      <td>-0.137453</td>\n",
              "    </tr>\n",
              "    <tr>\n",
              "      <th>Brand_Volkswagen</th>\n",
              "      <td>0.020129</td>\n",
              "      <td>0.018255</td>\n",
              "      <td>-0.137675</td>\n",
              "      <td>0.085114</td>\n",
              "      <td>-0.165115</td>\n",
              "      <td>-0.148437</td>\n",
              "      <td>-0.094002</td>\n",
              "      <td>-0.103221</td>\n",
              "      <td>-0.110250</td>\n",
              "      <td>-0.110250</td>\n",
              "      <td>-0.079954</td>\n",
              "      <td>-0.088175</td>\n",
              "      <td>-0.071041</td>\n",
              "      <td>-0.079954</td>\n",
              "      <td>-0.110250</td>\n",
              "      <td>-0.117041</td>\n",
              "      <td>-0.103221</td>\n",
              "      <td>1.000000</td>\n",
              "      <td>0.301080</td>\n",
              "      <td>0.053903</td>\n",
              "    </tr>\n",
              "    <tr>\n",
              "      <th>Owner_Type_Codes</th>\n",
              "      <td>0.038923</td>\n",
              "      <td>-0.014499</td>\n",
              "      <td>-0.001772</td>\n",
              "      <td>0.026624</td>\n",
              "      <td>-0.196106</td>\n",
              "      <td>-0.204309</td>\n",
              "      <td>-0.043849</td>\n",
              "      <td>-0.203925</td>\n",
              "      <td>0.009076</td>\n",
              "      <td>0.190586</td>\n",
              "      <td>-0.177705</td>\n",
              "      <td>0.297594</td>\n",
              "      <td>0.035088</td>\n",
              "      <td>0.217195</td>\n",
              "      <td>-0.172435</td>\n",
              "      <td>-0.375748</td>\n",
              "      <td>-0.012745</td>\n",
              "      <td>0.301080</td>\n",
              "      <td>1.000000</td>\n",
              "      <td>0.130539</td>\n",
              "    </tr>\n",
              "    <tr>\n",
              "      <th>Price</th>\n",
              "      <td>-0.013220</td>\n",
              "      <td>-0.057246</td>\n",
              "      <td>0.121312</td>\n",
              "      <td>-0.061016</td>\n",
              "      <td>0.041865</td>\n",
              "      <td>-0.091369</td>\n",
              "      <td>0.181523</td>\n",
              "      <td>0.086245</td>\n",
              "      <td>-0.157757</td>\n",
              "      <td>0.182092</td>\n",
              "      <td>0.117881</td>\n",
              "      <td>0.154146</td>\n",
              "      <td>0.252620</td>\n",
              "      <td>-0.232518</td>\n",
              "      <td>-0.224148</td>\n",
              "      <td>-0.004196</td>\n",
              "      <td>-0.137453</td>\n",
              "      <td>0.053903</td>\n",
              "      <td>0.130539</td>\n",
              "      <td>1.000000</td>\n",
              "    </tr>\n",
              "  </tbody>\n",
              "</table>\n",
              "</div>\n",
              "    <div class=\"colab-df-buttons\">\n",
              "\n",
              "  <div class=\"colab-df-container\">\n",
              "    <button class=\"colab-df-convert\" onclick=\"convertToInteractive('df-909c6722-0be1-49b0-9205-31bbbee5c1c3')\"\n",
              "            title=\"Convert this dataframe to an interactive table.\"\n",
              "            style=\"display:none;\">\n",
              "\n",
              "  <svg xmlns=\"http://www.w3.org/2000/svg\" height=\"24px\" viewBox=\"0 -960 960 960\">\n",
              "    <path d=\"M120-120v-720h720v720H120Zm60-500h600v-160H180v160Zm220 220h160v-160H400v160Zm0 220h160v-160H400v160ZM180-400h160v-160H180v160Zm440 0h160v-160H620v160ZM180-180h160v-160H180v160Zm440 0h160v-160H620v160Z\"/>\n",
              "  </svg>\n",
              "    </button>\n",
              "\n",
              "  <style>\n",
              "    .colab-df-container {\n",
              "      display:flex;\n",
              "      gap: 12px;\n",
              "    }\n",
              "\n",
              "    .colab-df-convert {\n",
              "      background-color: #E8F0FE;\n",
              "      border: none;\n",
              "      border-radius: 50%;\n",
              "      cursor: pointer;\n",
              "      display: none;\n",
              "      fill: #1967D2;\n",
              "      height: 32px;\n",
              "      padding: 0 0 0 0;\n",
              "      width: 32px;\n",
              "    }\n",
              "\n",
              "    .colab-df-convert:hover {\n",
              "      background-color: #E2EBFA;\n",
              "      box-shadow: 0px 1px 2px rgba(60, 64, 67, 0.3), 0px 1px 3px 1px rgba(60, 64, 67, 0.15);\n",
              "      fill: #174EA6;\n",
              "    }\n",
              "\n",
              "    .colab-df-buttons div {\n",
              "      margin-bottom: 4px;\n",
              "    }\n",
              "\n",
              "    [theme=dark] .colab-df-convert {\n",
              "      background-color: #3B4455;\n",
              "      fill: #D2E3FC;\n",
              "    }\n",
              "\n",
              "    [theme=dark] .colab-df-convert:hover {\n",
              "      background-color: #434B5C;\n",
              "      box-shadow: 0px 1px 3px 1px rgba(0, 0, 0, 0.15);\n",
              "      filter: drop-shadow(0px 1px 2px rgba(0, 0, 0, 0.3));\n",
              "      fill: #FFFFFF;\n",
              "    }\n",
              "  </style>\n",
              "\n",
              "    <script>\n",
              "      const buttonEl =\n",
              "        document.querySelector('#df-909c6722-0be1-49b0-9205-31bbbee5c1c3 button.colab-df-convert');\n",
              "      buttonEl.style.display =\n",
              "        google.colab.kernel.accessAllowed ? 'block' : 'none';\n",
              "\n",
              "      async function convertToInteractive(key) {\n",
              "        const element = document.querySelector('#df-909c6722-0be1-49b0-9205-31bbbee5c1c3');\n",
              "        const dataTable =\n",
              "          await google.colab.kernel.invokeFunction('convertToInteractive',\n",
              "                                                    [key], {});\n",
              "        if (!dataTable) return;\n",
              "\n",
              "        const docLinkHtml = 'Like what you see? Visit the ' +\n",
              "          '<a target=\"_blank\" href=https://colab.research.google.com/notebooks/data_table.ipynb>data table notebook</a>'\n",
              "          + ' to learn more about interactive tables.';\n",
              "        element.innerHTML = '';\n",
              "        dataTable['output_type'] = 'display_data';\n",
              "        await google.colab.output.renderOutput(dataTable, element);\n",
              "        const docLink = document.createElement('div');\n",
              "        docLink.innerHTML = docLinkHtml;\n",
              "        element.appendChild(docLink);\n",
              "      }\n",
              "    </script>\n",
              "  </div>\n",
              "\n",
              "\n",
              "<div id=\"df-5ec60004-17f9-47ba-8dc9-b57799b8c63a\">\n",
              "  <button class=\"colab-df-quickchart\" onclick=\"quickchart('df-5ec60004-17f9-47ba-8dc9-b57799b8c63a')\"\n",
              "            title=\"Suggest charts\"\n",
              "            style=\"display:none;\">\n",
              "\n",
              "<svg xmlns=\"http://www.w3.org/2000/svg\" height=\"24px\"viewBox=\"0 0 24 24\"\n",
              "     width=\"24px\">\n",
              "    <g>\n",
              "        <path d=\"M19 3H5c-1.1 0-2 .9-2 2v14c0 1.1.9 2 2 2h14c1.1 0 2-.9 2-2V5c0-1.1-.9-2-2-2zM9 17H7v-7h2v7zm4 0h-2V7h2v10zm4 0h-2v-4h2v4z\"/>\n",
              "    </g>\n",
              "</svg>\n",
              "  </button>\n",
              "\n",
              "<style>\n",
              "  .colab-df-quickchart {\n",
              "      --bg-color: #E8F0FE;\n",
              "      --fill-color: #1967D2;\n",
              "      --hover-bg-color: #E2EBFA;\n",
              "      --hover-fill-color: #174EA6;\n",
              "      --disabled-fill-color: #AAA;\n",
              "      --disabled-bg-color: #DDD;\n",
              "  }\n",
              "\n",
              "  [theme=dark] .colab-df-quickchart {\n",
              "      --bg-color: #3B4455;\n",
              "      --fill-color: #D2E3FC;\n",
              "      --hover-bg-color: #434B5C;\n",
              "      --hover-fill-color: #FFFFFF;\n",
              "      --disabled-bg-color: #3B4455;\n",
              "      --disabled-fill-color: #666;\n",
              "  }\n",
              "\n",
              "  .colab-df-quickchart {\n",
              "    background-color: var(--bg-color);\n",
              "    border: none;\n",
              "    border-radius: 50%;\n",
              "    cursor: pointer;\n",
              "    display: none;\n",
              "    fill: var(--fill-color);\n",
              "    height: 32px;\n",
              "    padding: 0;\n",
              "    width: 32px;\n",
              "  }\n",
              "\n",
              "  .colab-df-quickchart:hover {\n",
              "    background-color: var(--hover-bg-color);\n",
              "    box-shadow: 0 1px 2px rgba(60, 64, 67, 0.3), 0 1px 3px 1px rgba(60, 64, 67, 0.15);\n",
              "    fill: var(--button-hover-fill-color);\n",
              "  }\n",
              "\n",
              "  .colab-df-quickchart-complete:disabled,\n",
              "  .colab-df-quickchart-complete:disabled:hover {\n",
              "    background-color: var(--disabled-bg-color);\n",
              "    fill: var(--disabled-fill-color);\n",
              "    box-shadow: none;\n",
              "  }\n",
              "\n",
              "  .colab-df-spinner {\n",
              "    border: 2px solid var(--fill-color);\n",
              "    border-color: transparent;\n",
              "    border-bottom-color: var(--fill-color);\n",
              "    animation:\n",
              "      spin 1s steps(1) infinite;\n",
              "  }\n",
              "\n",
              "  @keyframes spin {\n",
              "    0% {\n",
              "      border-color: transparent;\n",
              "      border-bottom-color: var(--fill-color);\n",
              "      border-left-color: var(--fill-color);\n",
              "    }\n",
              "    20% {\n",
              "      border-color: transparent;\n",
              "      border-left-color: var(--fill-color);\n",
              "      border-top-color: var(--fill-color);\n",
              "    }\n",
              "    30% {\n",
              "      border-color: transparent;\n",
              "      border-left-color: var(--fill-color);\n",
              "      border-top-color: var(--fill-color);\n",
              "      border-right-color: var(--fill-color);\n",
              "    }\n",
              "    40% {\n",
              "      border-color: transparent;\n",
              "      border-right-color: var(--fill-color);\n",
              "      border-top-color: var(--fill-color);\n",
              "    }\n",
              "    60% {\n",
              "      border-color: transparent;\n",
              "      border-right-color: var(--fill-color);\n",
              "    }\n",
              "    80% {\n",
              "      border-color: transparent;\n",
              "      border-right-color: var(--fill-color);\n",
              "      border-bottom-color: var(--fill-color);\n",
              "    }\n",
              "    90% {\n",
              "      border-color: transparent;\n",
              "      border-bottom-color: var(--fill-color);\n",
              "    }\n",
              "  }\n",
              "</style>\n",
              "\n",
              "  <script>\n",
              "    async function quickchart(key) {\n",
              "      const quickchartButtonEl =\n",
              "        document.querySelector('#' + key + ' button');\n",
              "      quickchartButtonEl.disabled = true;  // To prevent multiple clicks.\n",
              "      quickchartButtonEl.classList.add('colab-df-spinner');\n",
              "      try {\n",
              "        const charts = await google.colab.kernel.invokeFunction(\n",
              "            'suggestCharts', [key], {});\n",
              "      } catch (error) {\n",
              "        console.error('Error during call to suggestCharts:', error);\n",
              "      }\n",
              "      quickchartButtonEl.classList.remove('colab-df-spinner');\n",
              "      quickchartButtonEl.classList.add('colab-df-quickchart-complete');\n",
              "    }\n",
              "    (() => {\n",
              "      let quickchartButtonEl =\n",
              "        document.querySelector('#df-5ec60004-17f9-47ba-8dc9-b57799b8c63a button');\n",
              "      quickchartButtonEl.style.display =\n",
              "        google.colab.kernel.accessAllowed ? 'block' : 'none';\n",
              "    })();\n",
              "  </script>\n",
              "</div>\n",
              "    </div>\n",
              "  </div>\n"
            ],
            "application/vnd.google.colaboratory.intrinsic+json": {
              "type": "dataframe",
              "variable_name": "correlation_matrix",
              "summary": "{\n  \"name\": \"correlation_matrix\",\n  \"rows\": 20,\n  \"fields\": [\n    {\n      \"column\": \"Car_ID\",\n      \"properties\": {\n        \"dtype\": \"number\",\n        \"std\": 0.2474158688082388,\n        \"min\": -0.35661444579623575,\n        \"max\": 1.0,\n        \"num_unique_values\": 20,\n        \"samples\": [\n          1.0,\n          0.020129442128704503,\n          -0.032926382605388084\n        ],\n        \"semantic_type\": \"\",\n        \"description\": \"\"\n      }\n    },\n    {\n      \"column\": \"Year\",\n      \"properties\": {\n        \"dtype\": \"number\",\n        \"std\": 0.34567530004989805,\n        \"min\": -0.7085248040699978,\n        \"max\": 1.0,\n        \"num_unique_values\": 20,\n        \"samples\": [\n          0.13702661798030108,\n          0.01825535402728653,\n          0.24871499939678246\n        ],\n        \"semantic_type\": \"\",\n        \"description\": \"\"\n      }\n    },\n    {\n      \"column\": \"Kilometers_Driven\",\n      \"properties\": {\n        \"dtype\": \"number\",\n        \"std\": 0.334798251161182,\n        \"min\": -0.7085248040699978,\n        \"max\": 1.0,\n        \"num_unique_values\": 20,\n        \"samples\": [\n          -0.35661444579623575,\n          -0.13767538454380682,\n          0.03039931715709101\n        ],\n        \"semantic_type\": \"\",\n        \"description\": \"\"\n      }\n    },\n    {\n      \"column\": \"Mileage\",\n      \"properties\": {\n        \"dtype\": \"number\",\n        \"std\": 0.37391331194301,\n        \"min\": -0.7105159928001485,\n        \"max\": 1.0,\n        \"num_unique_values\": 20,\n        \"samples\": [\n          0.10089139285277027,\n          0.08511417997992868,\n          0.3476784457229783\n        ],\n        \"semantic_type\": \"\",\n        \"description\": \"\"\n      }\n    },\n    {\n      \"column\": \"Engine\",\n      \"properties\": {\n        \"dtype\": \"number\",\n        \"std\": 0.3847494797603763,\n        \"min\": -0.7105159928001485,\n        \"max\": 1.0,\n        \"num_unique_values\": 20,\n        \"samples\": [\n          -0.08928419004410923,\n          -0.16511513406331418,\n          -0.34005115917043566\n        ],\n        \"semantic_type\": \"\",\n        \"description\": \"\"\n      }\n    },\n    {\n      \"column\": \"Power\",\n      \"properties\": {\n        \"dtype\": \"number\",\n        \"std\": 0.383707791798142,\n        \"min\": -0.6847046891235612,\n        \"max\": 1.0,\n        \"num_unique_values\": 20,\n        \"samples\": [\n          -0.006319149472177202,\n          -0.14843678669606566,\n          -0.3169885845739546\n        ],\n        \"semantic_type\": \"\",\n        \"description\": \"\"\n      }\n    },\n    {\n      \"column\": \"Seats\",\n      \"properties\": {\n        \"dtype\": \"number\",\n        \"std\": 0.285590916790958,\n        \"min\": -0.27875505782450105,\n        \"max\": 1.0,\n        \"num_unique_values\": 20,\n        \"samples\": [\n          -0.06379279446115704,\n          -0.09400169005616021,\n          -0.012748425268349278\n        ],\n        \"semantic_type\": \"\",\n        \"description\": \"\"\n      }\n    },\n    {\n      \"column\": \"Brand_Audi\",\n      \"properties\": {\n        \"dtype\": \"number\",\n        \"std\": 0.26291290988362975,\n        \"min\": -0.25652330206643337,\n        \"max\": 1.0,\n        \"num_unique_values\": 19,\n        \"samples\": [\n          0.08947346380324818,\n          0.15704968723838858,\n          -0.07647191129018724\n        ],\n        \"semantic_type\": \"\",\n        \"description\": \"\"\n      }\n    },\n    {\n      \"column\": \"Brand_BMW\",\n      \"properties\": {\n        \"dtype\": \"number\",\n        \"std\": 0.2812840904174612,\n        \"min\": -0.2470419458690163,\n        \"max\": 1.0,\n        \"num_unique_values\": 20,\n        \"samples\": [\n          0.04833450442021194,\n          -0.11025027218069545,\n          -0.13456839120487699\n        ],\n        \"semantic_type\": \"\",\n        \"description\": \"\"\n      }\n    },\n    {\n      \"column\": \"Brand_Ford\",\n      \"properties\": {\n        \"dtype\": \"number\",\n        \"std\": 0.2736336458168586,\n        \"min\": -0.2964803736305782,\n        \"max\": 1.0,\n        \"num_unique_values\": 20,\n        \"samples\": [\n          -0.020239964391670327,\n          -0.11025027218069537,\n          -0.13456839120487687\n        ],\n        \"semantic_type\": \"\",\n        \"description\": \"\"\n      }\n    },\n    {\n      \"column\": \"Brand_Honda\",\n      \"properties\": {\n        \"dtype\": \"number\",\n        \"std\": 0.2662779568410752,\n        \"min\": -0.19181008364101632,\n        \"max\": 1.0,\n        \"num_unique_values\": 19,\n        \"samples\": [\n          -0.0508090641451978,\n          -0.19181008364101632,\n          -0.0735214622093808\n        ],\n        \"semantic_type\": \"\",\n        \"description\": \"\"\n      }\n    },\n    {\n      \"column\": \"Brand_Hyundai\",\n      \"properties\": {\n        \"dtype\": \"number\",\n        \"std\": 0.26528145439646655,\n        \"min\": -0.18221318408637605,\n        \"max\": 1.0,\n        \"num_unique_values\": 20,\n        \"samples\": [\n          0.016830991376039457,\n          -0.0881753831058141,\n          -0.10762440050012628\n        ],\n        \"semantic_type\": \"\",\n        \"description\": \"\"\n      }\n    },\n    {\n      \"column\": \"Brand_Mahindra\",\n      \"properties\": {\n        \"dtype\": \"number\",\n        \"std\": 0.2463771847593509,\n        \"min\": -0.11802094004226908,\n        \"max\": 1.0,\n        \"num_unique_values\": 20,\n        \"samples\": [\n          0.006797118109444963,\n          -0.07104128190481337,\n          -0.086710996952412\n        ],\n        \"semantic_type\": \"\",\n        \"description\": \"\"\n      }\n    },\n    {\n      \"column\": \"Brand_Maruti\",\n      \"properties\": {\n        \"dtype\": \"number\",\n        \"std\": 0.2710121649665166,\n        \"min\": -0.23251814729172304,\n        \"max\": 1.0,\n        \"num_unique_values\": 19,\n        \"samples\": [\n          -0.05446274965676259,\n          -0.22098392566618427,\n          -0.07352146220938081\n        ],\n        \"semantic_type\": \"\",\n        \"description\": \"\"\n      }\n    },\n    {\n      \"column\": \"Brand_Mercedes\",\n      \"properties\": {\n        \"dtype\": \"number\",\n        \"std\": 0.2696065064237371,\n        \"min\": -0.2384891025047927,\n        \"max\": 1.0,\n        \"num_unique_values\": 20,\n        \"samples\": [\n          -0.045430585587872004,\n          -0.11025027218069544,\n          -0.134568391204877\n        ],\n        \"semantic_type\": \"\",\n        \"description\": \"\"\n      }\n    },\n    {\n      \"column\": \"Brand_Tata\",\n      \"properties\": {\n        \"dtype\": \"number\",\n        \"std\": 0.2956748005312565,\n        \"min\": -0.37574765346045186,\n        \"max\": 1.0,\n        \"num_unique_values\": 20,\n        \"samples\": [\n          -0.032926382605388084,\n          -0.11704114719613058,\n          1.0\n        ],\n        \"semantic_type\": \"\",\n        \"description\": \"\"\n      }\n    },\n    {\n      \"column\": \"Brand_Toyota\",\n      \"properties\": {\n        \"dtype\": \"number\",\n        \"std\": 0.28358201557774204,\n        \"min\": -0.21934601191188602,\n        \"max\": 1.0,\n        \"num_unique_values\": 19,\n        \"samples\": [\n          0.011350011059061143,\n          -0.04047777862677272,\n          -0.0764719112901873\n        ],\n        \"semantic_type\": \"\",\n        \"description\": \"\"\n      }\n    },\n    {\n      \"column\": \"Brand_Volkswagen\",\n      \"properties\": {\n        \"dtype\": \"number\",\n        \"std\": 0.25911026126051834,\n        \"min\": -0.16511513406331418,\n        \"max\": 1.0,\n        \"num_unique_values\": 20,\n        \"samples\": [\n          0.020129442128704503,\n          1.0,\n          -0.11704114719613058\n        ],\n        \"semantic_type\": \"\",\n        \"description\": \"\"\n      }\n    },\n    {\n      \"column\": \"Owner_Type_Codes\",\n      \"properties\": {\n        \"dtype\": \"number\",\n        \"std\": 0.28784908274047427,\n        \"min\": -0.37574765346045186,\n        \"max\": 1.0,\n        \"num_unique_values\": 20,\n        \"samples\": [\n          0.03892280071627381,\n          0.3010797185489708,\n          -0.37574765346045186\n        ],\n        \"semantic_type\": \"\",\n        \"description\": \"\"\n      }\n    },\n    {\n      \"column\": \"Price\",\n      \"properties\": {\n        \"dtype\": \"number\",\n        \"std\": 0.260045947216359,\n        \"min\": -0.23251814729172304,\n        \"max\": 1.0,\n        \"num_unique_values\": 20,\n        \"samples\": [\n          -0.01321988443175403,\n          0.05390295730516774,\n          -0.004195670422343059\n        ],\n        \"semantic_type\": \"\",\n        \"description\": \"\"\n      }\n    }\n  ]\n}"
            }
          },
          "metadata": {},
          "execution_count": 30
        }
      ]
    },
    {
      "cell_type": "code",
      "source": [
        "plt.figure(figsize=(15,10))\n",
        "sns.heatmap(train_data.corr(),cmap='coolwarm', annot=True)\n",
        "plt.show()\n"
      ],
      "metadata": {
        "colab": {
          "base_uri": "https://localhost:8080/",
          "height": 956
        },
        "id": "U09DbO4Ni203",
        "outputId": "d6b27bb8-c9c7-45f3-e84e-558066d6f35e"
      },
      "execution_count": 31,
      "outputs": [
        {
          "output_type": "display_data",
          "data": {
            "text/plain": [
              "<Figure size 1500x1000 with 2 Axes>"
            ],
            "image/png": "[encoded data removed]"
          },
          "metadata": {}
        }
      ]
    },
    {
      "cell_type": "markdown",
      "source": [
        "**Висновок**: На жаль, я не побачила змінних,які б корелювали на більше ніж 0.5"
      ],
      "metadata": {
        "id": "chQimdTfyjkD"
      }
    },
    {
      "cell_type": "markdown",
      "source": [
        "**Завдання 6**. Тренуємо лінійну регресію.\n",
        "0. Видаліть усі НЕчислові колонки з `X_train`, `X_test`, якщо ще цього не зробили.\n",
        "1. Натренуйте лінійну регресую з `sklearn` на усіх числових даних тренувального набору `X_train`.\n",
        "2. Зробіть передбачення на  `X_train`, `X_test`. Знайдіть і виведіть root mean squared error відхилення передбачення від справжніх значень цільової змінної.\n",
        "3. Побудуйте графік розсіювання передбачень проти реальних даних цільової змінної для тренувального і тестувального наборів даних. Що можете сказати про якість моделі?"
      ],
      "metadata": {
        "id": "G7BZ3pD-USgU"
      }
    },
    {
      "cell_type": "code",
      "source": [
        "X_test= X_test.select_dtypes(include=[np.number])\n",
        "X_train= X_train.select_dtypes(include=[np.number])"
      ],
      "metadata": {
        "id": "JAzbuSzwLUEN"
      },
      "execution_count": 32,
      "outputs": []
    },
    {
      "cell_type": "code",
      "source": [
        "inputs, targets = X_train, Y_train\n"
      ],
      "metadata": {
        "id": "0vXJgz_bi20Y"
      },
      "execution_count": 33,
      "outputs": []
    },
    {
      "cell_type": "code",
      "source": [
        "model = LinearRegression().fit(inputs, targets)\n",
        "train_predictions = model.predict(X_train)\n",
        "test_predictions = model.predict(X_test)\n"
      ],
      "metadata": {
        "id": "SElx21B4f3VY"
      },
      "execution_count": 34,
      "outputs": []
    },
    {
      "cell_type": "code",
      "source": [
        "train_rmse = mean_squared_error(Y_train, train_predictions, squared=False)\n",
        "test_rmse = mean_squared_error(Y_test, test_predictions, squared=False)\n",
        "print('Train RMSE:', train_rmse)\n",
        "print('Test RMSE:', test_rmse)"
      ],
      "metadata": {
        "colab": {
          "base_uri": "https://localhost:8080/"
        },
        "id": "bVrpOyUVImw1",
        "outputId": "6c5942c7-307d-4ae6-a682-b1ac17f583d4"
      },
      "execution_count": 35,
      "outputs": [
        {
          "output_type": "stream",
          "name": "stdout",
          "text": [
            "Train RMSE: 252657.27724736722\n",
            "Test RMSE: 248249.61361454346\n"
          ]
        }
      ]
    },
    {
      "cell_type": "code",
      "source": [
        "plt.figure(figsize=(12, 6))\n",
        "plt.scatter(Y_train, train_predictions, color='blue', label='Train')\n",
        "plt.scatter(Y_test, test_predictions, color='green', label='Test')\n",
        "plt.xlabel('Реальні значення')\n",
        "plt.ylabel('Передбачення')\n",
        "plt.title('Графік розсіювання для тренувального і тестового наборів')\n",
        "plt.legend()\n",
        "plt.show()"
      ],
      "metadata": {
        "colab": {
          "base_uri": "https://localhost:8080/",
          "height": 564
        },
        "id": "VAOUbwf6LkF4",
        "outputId": "da449fca-a5d0-40c5-e871-068f9d74b906"
      },
      "execution_count": 36,
      "outputs": [
        {
          "output_type": "display_data",
          "data": {
            "text/plain": [
              "<Figure size 1200x600 with 1 Axes>"
            ],
            "image/png": "[encoded data removed]"
          },
          "metadata": {}
        }
      ]
    },
    {
      "cell_type": "markdown",
      "source": [
        "**Висновок**: візуально мені здається що модель непогано передбачила таргетну змінну, проте показник RMSE  на мою думку занадто високий."
      ],
      "metadata": {
        "id": "jsNHFHRMowZ4"
      }
    },
    {
      "cell_type": "markdown",
      "source": [
        "**Завдання 7**. Ми хочемо проаналізувати як впливає кожен чинник на цілову змінну. Для цього давайте промасштабуємо наші дані.\n",
        "1. Зробіть масштабування незалежних змінних використовуючи `StandardScaler`. Тренуємо на тренувальних даних, а на тестувальних лише викликаємо `transform`.\n",
        "\n",
        "2. Натренуйте модель на відмасштабованих даних і перегляньте коефіцієнти моделі. Які колонки є найвпливовішими на формування передбачення з точки зору коефіцієнтів? Проаналізуйте напрям дії найважливіших коефіцієнтів. Чи це логічно з точки зору значення відповідних змінних, що вони впливають на цільову змінну саме в напрямі збільшення / зменшення?"
      ],
      "metadata": {
        "id": "0LcACfQ3W3VP"
      }
    },
    {
      "cell_type": "code",
      "source": [
        "numeric_col=['Year','Kilometers_Driven', 'Mileage', 'Engine', 'Power', 'Seats' ]"
      ],
      "metadata": {
        "id": "zrte3zAXePv8"
      },
      "execution_count": 37,
      "outputs": []
    },
    {
      "cell_type": "code",
      "source": [
        "cat_col=['Brand_Audi', 'Brand_BMW', 'Brand_Ford', 'Brand_Honda', 'Brand_Hyundai', 'Brand_Mahindra', 'Brand_Maruti', 'Brand_Mercedes','Brand_Tata', 'Brand_Toyota', 'Brand_Volkswagen', 'Owner_Type_Codes']\n",
        "cat_data_train=X_train[cat_col].values\n",
        "cat_data_test=X_test[cat_col].values"
      ],
      "metadata": {
        "id": "I5zXJ_B7fSj3"
      },
      "execution_count": 38,
      "outputs": []
    },
    {
      "cell_type": "code",
      "source": [
        "scaler = StandardScaler()\n",
        "X_train_scaled = pd.DataFrame(scaler.fit_transform(X_train[numeric_col]))\n",
        "X_test_scaled = pd.DataFrame(scaler.transform(X_test[numeric_col]))\n"
      ],
      "metadata": {
        "id": "HA-l3vUWf6Af"
      },
      "execution_count": 39,
      "outputs": []
    },
    {
      "cell_type": "code",
      "source": [
        "inputs_train =np.concatenate((X_train_scaled,cat_data_train), axis=1)\n",
        "inputs_test =np.concatenate((X_test_scaled,cat_data_test), axis=1)"
      ],
      "metadata": {
        "id": "ynDaFs9sVaqC"
      },
      "execution_count": 40,
      "outputs": []
    },
    {
      "cell_type": "code",
      "source": [
        "columns_names=numeric_col+cat_col"
      ],
      "metadata": {
        "id": "tGxW6QGBY9xt"
      },
      "execution_count": 41,
      "outputs": []
    },
    {
      "cell_type": "code",
      "source": [
        "inputs_df_train=pd.DataFrame(inputs_train, columns=columns_names)\n",
        "inputs_df_test=pd.DataFrame(inputs_test, columns=columns_names)\n"
      ],
      "metadata": {
        "id": "ScOLnovVZTnJ"
      },
      "execution_count": 42,
      "outputs": []
    },
    {
      "cell_type": "code",
      "source": [
        "model = LinearRegression().fit(inputs_df_train, Y_train)\n"
      ],
      "metadata": {
        "id": "M590Up1kSIaz"
      },
      "execution_count": 43,
      "outputs": []
    },
    {
      "cell_type": "code",
      "source": [
        "train_predictions = model.predict(inputs_df_train)\n",
        "test_predictions = model.predict(inputs_df_test)\n",
        "train_rmse = mean_squared_error(Y_train, train_predictions, squared=False)\n",
        "test_rmse = mean_squared_error(Y_test, test_predictions, squared=False)\n",
        "print('Train RMSE:', train_rmse)\n",
        "print('Test RMSE:', test_rmse)\n"
      ],
      "metadata": {
        "colab": {
          "base_uri": "https://localhost:8080/"
        },
        "id": "Xqr-U8sYSUjs",
        "outputId": "6f663c8c-0f1e-4a71-b1d3-43e981ec0ae7"
      },
      "execution_count": 44,
      "outputs": [
        {
          "output_type": "stream",
          "name": "stdout",
          "text": [
            "Train RMSE: 252808.49663965995\n",
            "Test RMSE: 249429.03130771397\n"
          ]
        }
      ]
    },
    {
      "cell_type": "code",
      "source": [
        "model.coef_\n"
      ],
      "metadata": {
        "colab": {
          "base_uri": "https://localhost:8080/"
        },
        "id": "UYt-Lu5QTMwa",
        "outputId": "adfc571c-6b82-49e0-930d-deea1cb217ef"
      },
      "execution_count": 45,
      "outputs": [
        {
          "output_type": "execute_result",
          "data": {
            "text/plain": [
              "array([  24577.81128388,   -2501.99851916,  -27590.85970344,\n",
              "         89881.0498274 ,  463572.32747412,   78718.85625966,\n",
              "        803281.75750807,  904873.78796805, -246838.32174284,\n",
              "       -417352.03555945, -436776.52609784, -491392.50705238,\n",
              "       -410512.32212755,  912150.23957675, -425167.52655331,\n",
              "        -85859.16923601, -106407.37668348,  -74990.27438305])"
            ]
          },
          "metadata": {},
          "execution_count": 45
        }
      ]
    },
    {
      "cell_type": "code",
      "source": [
        "model.intercept_"
      ],
      "metadata": {
        "colab": {
          "base_uri": "https://localhost:8080/"
        },
        "id": "IkhvNFshTQaB",
        "outputId": "55d2dd04-6a0c-437f-ee33-3120b02ab4f8"
      },
      "execution_count": 46,
      "outputs": [
        {
          "output_type": "execute_result",
          "data": {
            "text/plain": [
              "1651881.5010634193"
            ]
          },
          "metadata": {},
          "execution_count": 46
        }
      ]
    },
    {
      "cell_type": "code",
      "source": [
        "Y = Y_train\n",
        "X = inputs_df_train\n",
        "X = sm.add_constant(X)\n",
        "model = sm.OLS(Y_train.values,X)\n",
        "results = model.fit()\n",
        "print(round(results.params))"
      ],
      "metadata": {
        "colab": {
          "base_uri": "https://localhost:8080/"
        },
        "id": "B8OZsqJsjdDP",
        "outputId": "928e7a3b-f2d8-4474-eddd-8814b057ae51"
      },
      "execution_count": 47,
      "outputs": [
        {
          "output_type": "stream",
          "name": "stdout",
          "text": [
            "const                1514225.0\n",
            "Year                   24578.0\n",
            "Kilometers_Driven      -2502.0\n",
            "Mileage               -27591.0\n",
            "Engine                 89881.0\n",
            "Power                 463572.0\n",
            "Seats                  78719.0\n",
            "Brand_Audi            940939.0\n",
            "Brand_BMW            1042531.0\n",
            "Brand_Ford           -109182.0\n",
            "Brand_Honda          -279695.0\n",
            "Brand_Hyundai        -299120.0\n",
            "Brand_Mahindra       -353736.0\n",
            "Brand_Maruti         -272856.0\n",
            "Brand_Mercedes       1049807.0\n",
            "Brand_Tata           -287511.0\n",
            "Brand_Toyota           51798.0\n",
            "Brand_Volkswagen       31249.0\n",
            "Owner_Type_Codes      -74990.0\n",
            "dtype: float64\n"
          ]
        }
      ]
    },
    {
      "cell_type": "markdown",
      "source": [
        "**Висновок**: найбільший позитивний вплив мають такі колонки:Y = targets:\n",
        "Brand_Mercedes,Brand_BMW, Brand_Audi, Power\n",
        "найбільш негативнй впли вна ціну мають: Brand_Mahindra, Brand_Hyundai,Brand_Tata, Brand_Honda.  Мені здається що марка машини і справді є вирішальним в ціноутворенні, тому і не дивно що саме марки мають найбіьший вплив на ціну."
      ],
      "metadata": {
        "id": "y2JsAN1HmPB9"
      }
    },
    {
      "cell_type": "markdown",
      "source": [
        "**Завдання 8.** На тих самих відмасштабованих даних натренуйте модель з `statsmodels`. Виведіть звіт і проаналізуйте p-value коефіцієнтів. Які ознаки є стат значущими на рівні значущості 0.05? Напишіть їх список."
      ],
      "metadata": {
        "id": "WNNkfnrHr7wL"
      }
    },
    {
      "cell_type": "code",
      "source": [
        "Y = Y_train\n",
        "X = inputs_df_train\n",
        "X = sm.add_constant(X)\n",
        "model = sm.OLS(Y_train.values,X)\n",
        "results = model.fit()\n",
        "print(round(results.params))"
      ],
      "metadata": {
        "id": "2uE1DqiCf85H",
        "colab": {
          "base_uri": "https://localhost:8080/"
        },
        "outputId": "707e9c31-139b-45bd-ba5b-83dfcf6f8cc1"
      },
      "execution_count": 50,
      "outputs": [
        {
          "output_type": "stream",
          "name": "stdout",
          "text": [
            "const                1514225.0\n",
            "Year                   24578.0\n",
            "Kilometers_Driven      -2502.0\n",
            "Mileage               -27591.0\n",
            "Engine                 89881.0\n",
            "Power                 463572.0\n",
            "Seats                  78719.0\n",
            "Brand_Audi            940939.0\n",
            "Brand_BMW            1042531.0\n",
            "Brand_Ford           -109182.0\n",
            "Brand_Honda          -279695.0\n",
            "Brand_Hyundai        -299120.0\n",
            "Brand_Mahindra       -353736.0\n",
            "Brand_Maruti         -272856.0\n",
            "Brand_Mercedes       1049807.0\n",
            "Brand_Tata           -287511.0\n",
            "Brand_Toyota           51798.0\n",
            "Brand_Volkswagen       31249.0\n",
            "Owner_Type_Codes      -74990.0\n",
            "dtype: float64\n"
          ]
        }
      ]
    },
    {
      "cell_type": "code",
      "source": [
        "print(results.summary())"
      ],
      "metadata": {
        "id": "hcYoViyff7zE",
        "colab": {
          "base_uri": "https://localhost:8080/"
        },
        "outputId": "5614fc85-eea4-4881-e00b-2d0a1cdfe8bd"
      },
      "execution_count": 51,
      "outputs": [
        {
          "output_type": "stream",
          "name": "stdout",
          "text": [
            "                            OLS Regression Results                            \n",
            "==============================================================================\n",
            "Dep. Variable:                      y   R-squared:                       0.940\n",
            "Model:                            OLS   Adj. R-squared:                  0.924\n",
            "Method:                 Least Squares   F-statistic:                     57.35\n",
            "Date:                Mon, 03 Jun 2024   Prob (F-statistic):           2.15e-31\n",
            "Time:                        19:50:11   Log-Likelihood:                -1108.7\n",
            "No. Observations:                  80   AIC:                             2253.\n",
            "Df Residuals:                      62   BIC:                             2296.\n",
            "Df Model:                          17                                         \n",
            "Covariance Type:            nonrobust                                         \n",
            "=====================================================================================\n",
            "                        coef    std err          t      P>|t|      [0.025      0.975]\n",
            "-------------------------------------------------------------------------------------\n",
            "const              1.514e+06   5.53e+04     27.398      0.000     1.4e+06    1.62e+06\n",
            "Year               2.458e+04    6.8e+04      0.361      0.719   -1.11e+05    1.61e+05\n",
            "Kilometers_Driven -2501.9985   6.15e+04     -0.041      0.968   -1.25e+05     1.2e+05\n",
            "Mileage           -2.759e+04   6.29e+04     -0.438      0.663   -1.53e+05    9.82e+04\n",
            "Engine             8.988e+04   7.67e+04      1.171      0.246   -6.35e+04    2.43e+05\n",
            "Power              4.636e+05    7.7e+04      6.020      0.000     3.1e+05    6.17e+05\n",
            "Seats              7.872e+04   4.46e+04      1.766      0.082   -1.04e+04    1.68e+05\n",
            "Brand_Audi         9.409e+05   1.16e+05      8.085      0.000    7.08e+05    1.17e+06\n",
            "Brand_BMW          1.043e+06   1.14e+05      9.132      0.000    8.14e+05    1.27e+06\n",
            "Brand_Ford        -1.092e+05   1.18e+05     -0.923      0.359   -3.46e+05    1.27e+05\n",
            "Brand_Honda       -2.797e+05   1.53e+05     -1.828      0.072   -5.86e+05    2.62e+04\n",
            "Brand_Hyundai     -2.991e+05   1.26e+05     -2.372      0.021   -5.51e+05   -4.71e+04\n",
            "Brand_Mahindra    -3.537e+05   1.45e+05     -2.435      0.018   -6.44e+05   -6.34e+04\n",
            "Brand_Maruti      -2.729e+05   1.37e+05     -1.994      0.051   -5.46e+05     645.091\n",
            "Brand_Mercedes      1.05e+06   1.12e+05      9.370      0.000    8.26e+05    1.27e+06\n",
            "Brand_Tata        -2.875e+05    1.2e+05     -2.389      0.020   -5.28e+05   -4.69e+04\n",
            "Brand_Toyota        5.18e+04   1.18e+05      0.441      0.661   -1.83e+05    2.87e+05\n",
            "Brand_Volkswagen   3.125e+04   1.18e+05      0.265      0.792   -2.05e+05    2.67e+05\n",
            "Owner_Type_Codes  -7.499e+04   7.35e+04     -1.020      0.312   -2.22e+05     7.2e+04\n",
            "==============================================================================\n",
            "Omnibus:                        0.030   Durbin-Watson:                   1.958\n",
            "Prob(Omnibus):                  0.985   Jarque-Bera (JB):                0.160\n",
            "Skew:                           0.036   Prob(JB):                        0.923\n",
            "Kurtosis:                       2.793   Cond. No.                     2.35e+16\n",
            "==============================================================================\n",
            "\n",
            "Notes:\n",
            "[1] Standard Errors assume that the covariance matrix of the errors is correctly specified.\n",
            "[2] The smallest eigenvalue is 4.07e-31. This might indicate that there are\n",
            "strong multicollinearity problems or that the design matrix is singular.\n"
          ]
        }
      ]
    },
    {
      "cell_type": "markdown",
      "source": [
        "**Висновок**: статистично значимі ознаки є:\n",
        "- Power\n",
        "-Brand Audi\n",
        "- Brand BMW\n",
        "- Brand Mahindra\n",
        "- Brand Tata\n",
        "- Brand Hyindai\n",
        "- Brand Mercedes"
      ],
      "metadata": {
        "id": "YZxRTCpJp67c"
      }
    },
    {
      "cell_type": "markdown",
      "source": [
        "**Завдання 9**. Натренуйте лінійну регресію з `statsmodels` тільки на ознаках, які виявлись стат. значущими в попередньому завданні. Проаналізуйте показники моделі. Чи значно змінились R2 і Adj. R-squared?"
      ],
      "metadata": {
        "id": "pvOdCEVccfcM"
      }
    },
    {
      "cell_type": "code",
      "source": [
        "Y = Y_train\n",
        "X = inputs_df_train[['Brand_Audi', 'Brand_BMW', 'Brand_Mahindra', 'Brand_Tata', 'Brand_Hyundai', 'Brand_Mercedes', 'Power']]\n",
        "X = sm.add_constant(X)\n",
        "model = sm.OLS(Y_train.values,X)\n",
        "results = model.fit()\n",
        "print(round(results.params))"
      ],
      "metadata": {
        "colab": {
          "base_uri": "https://localhost:8080/"
        },
        "id": "rzR_PRy_q6q3",
        "outputId": "d5070557-b6af-4e71-fd9a-cee55cfaf004"
      },
      "execution_count": 53,
      "outputs": [
        {
          "output_type": "stream",
          "name": "stdout",
          "text": [
            "const             1383014.0\n",
            "Brand_Audi        1051071.0\n",
            "Brand_BMW         1092914.0\n",
            "Brand_Mahindra    -217665.0\n",
            "Brand_Tata        -164670.0\n",
            "Brand_Hyundai     -319144.0\n",
            "Brand_Mercedes    1105145.0\n",
            "Power              564396.0\n",
            "dtype: float64\n"
          ]
        }
      ]
    },
    {
      "cell_type": "code",
      "source": [
        "print(results.summary())"
      ],
      "metadata": {
        "colab": {
          "base_uri": "https://localhost:8080/"
        },
        "id": "3YS486e_r7SA",
        "outputId": "c2dcc36e-103c-4ab4-edfb-0d120584ab25"
      },
      "execution_count": 54,
      "outputs": [
        {
          "output_type": "stream",
          "name": "stdout",
          "text": [
            "                            OLS Regression Results                            \n",
            "==============================================================================\n",
            "Dep. Variable:                      y   R-squared:                       0.917\n",
            "Model:                            OLS   Adj. R-squared:                  0.909\n",
            "Method:                 Least Squares   F-statistic:                     113.2\n",
            "Date:                Mon, 03 Jun 2024   Prob (F-statistic):           2.95e-36\n",
            "Time:                        19:59:48   Log-Likelihood:                -1122.0\n",
            "No. Observations:                  80   AIC:                             2260.\n",
            "Df Residuals:                      72   BIC:                             2279.\n",
            "Df Model:                           7                                         \n",
            "Covariance Type:            nonrobust                                         \n",
            "==================================================================================\n",
            "                     coef    std err          t      P>|t|      [0.025      0.975]\n",
            "----------------------------------------------------------------------------------\n",
            "const           1.383e+06   5.45e+04     25.359      0.000    1.27e+06    1.49e+06\n",
            "Brand_Audi      1.051e+06   1.27e+05      8.284      0.000    7.98e+05     1.3e+06\n",
            "Brand_BMW       1.093e+06    1.3e+05      8.428      0.000    8.34e+05    1.35e+06\n",
            "Brand_Mahindra -2.177e+05   1.67e+05     -1.304      0.196    -5.5e+05    1.15e+05\n",
            "Brand_Tata     -1.647e+05   1.17e+05     -1.411      0.163   -3.97e+05     6.8e+04\n",
            "Brand_Hyundai  -3.191e+05    1.4e+05     -2.272      0.026   -5.99e+05   -3.91e+04\n",
            "Brand_Mercedes  1.105e+06   1.25e+05      8.814      0.000    8.55e+05    1.36e+06\n",
            "Power           5.644e+05   4.39e+04     12.861      0.000    4.77e+05    6.52e+05\n",
            "==============================================================================\n",
            "Omnibus:                       21.885   Durbin-Watson:                   1.936\n",
            "Prob(Omnibus):                  0.000   Jarque-Bera (JB):               33.281\n",
            "Skew:                           1.120   Prob(JB):                     5.93e-08\n",
            "Kurtosis:                       5.229   Cond. No.                         5.53\n",
            "==============================================================================\n",
            "\n",
            "Notes:\n",
            "[1] Standard Errors assume that the covariance matrix of the errors is correctly specified.\n"
          ]
        }
      ]
    },
    {
      "cell_type": "markdown",
      "source": [
        "**Висновок**: після використання лише значущих змінних показники R2 і Adj незначно зменшились. Загалом по даним тесту F-statistcs, R squared, p-value- модель добре працює."
      ],
      "metadata": {
        "id": "6FGLWCB1tL9t"
      }
    },
    {
      "cell_type": "markdown",
      "source": [
        "**Завдання 10**. Натренуйте лінійну регресію з `statsmodels` на усіх ознаках з масштабованого `X_train`, у яких p_value в завданні 7 менше за `0.25`. Ми таким чином помʼякшили критерій відбору ознак. Проаналізуйте показники моделі. Чи значно змінились R2 і Adj. R-squared порівняно з завданням 7? Яку модель з останніх 3х завдань ви б лишили для використання?"
      ],
      "metadata": {
        "id": "q-AJSrlxdx-p"
      }
    },
    {
      "cell_type": "code",
      "source": [
        "Y = Y_train\n",
        "X = inputs_df_train[['Brand_Audi', 'Brand_BMW', 'Brand_Mahindra', 'Brand_Tata', 'Brand_Hyundai', 'Brand_Mercedes', 'Power', 'Engine', 'Seats', 'Brand_Honda','Brand_Maruti']]\n",
        "X = sm.add_constant(X)\n",
        "model = sm.OLS(Y_train.values,X)\n",
        "results = model.fit()\n",
        "print(round(results.params))"
      ],
      "metadata": {
        "id": "nBVF4b-bgAdz",
        "colab": {
          "base_uri": "https://localhost:8080/"
        },
        "outputId": "aab49882-0c9f-4bb8-b2cd-84ab76ecbbc9"
      },
      "execution_count": 55,
      "outputs": [
        {
          "output_type": "stream",
          "name": "stdout",
          "text": [
            "const             1424604.0\n",
            "Brand_Audi        1000291.0\n",
            "Brand_BMW         1099760.0\n",
            "Brand_Mahindra    -305093.0\n",
            "Brand_Tata        -193648.0\n",
            "Brand_Hyundai     -328564.0\n",
            "Brand_Mercedes    1122677.0\n",
            "Power              457438.0\n",
            "Engine             110556.0\n",
            "Seats               84473.0\n",
            "Brand_Honda       -244165.0\n",
            "Brand_Maruti      -244706.0\n",
            "dtype: float64\n"
          ]
        }
      ]
    },
    {
      "cell_type": "code",
      "source": [
        "print(results.summary())"
      ],
      "metadata": {
        "colab": {
          "base_uri": "https://localhost:8080/"
        },
        "id": "VDQhicLLvDoP",
        "outputId": "8c3456e0-4fe6-4321-d8d5-859ce6d2222e"
      },
      "execution_count": 56,
      "outputs": [
        {
          "output_type": "stream",
          "name": "stdout",
          "text": [
            "                            OLS Regression Results                            \n",
            "==============================================================================\n",
            "Dep. Variable:                      y   R-squared:                       0.937\n",
            "Model:                            OLS   Adj. R-squared:                  0.927\n",
            "Method:                 Least Squares   F-statistic:                     91.61\n",
            "Date:                Mon, 03 Jun 2024   Prob (F-statistic):           2.68e-36\n",
            "Time:                        20:13:33   Log-Likelihood:                -1111.0\n",
            "No. Observations:                  80   AIC:                             2246.\n",
            "Df Residuals:                      68   BIC:                             2275.\n",
            "Df Model:                          11                                         \n",
            "Covariance Type:            nonrobust                                         \n",
            "==================================================================================\n",
            "                     coef    std err          t      P>|t|      [0.025      0.975]\n",
            "----------------------------------------------------------------------------------\n",
            "const           1.425e+06   5.89e+04     24.179      0.000    1.31e+06    1.54e+06\n",
            "Brand_Audi          1e+06    1.2e+05      8.333      0.000    7.61e+05    1.24e+06\n",
            "Brand_BMW         1.1e+06   1.18e+05      9.308      0.000    8.64e+05    1.34e+06\n",
            "Brand_Mahindra -3.051e+05   1.55e+05     -1.975      0.052   -6.13e+05    3221.571\n",
            "Brand_Tata     -1.936e+05   1.15e+05     -1.677      0.098   -4.24e+05    3.68e+04\n",
            "Brand_Hyundai  -3.286e+05   1.34e+05     -2.460      0.016   -5.95e+05    -6.2e+04\n",
            "Brand_Mercedes  1.123e+06   1.16e+05      9.673      0.000    8.91e+05    1.35e+06\n",
            "Power           4.574e+05   6.76e+04      6.765      0.000    3.23e+05    5.92e+05\n",
            "Engine          1.106e+05   6.33e+04      1.746      0.085   -1.58e+04    2.37e+05\n",
            "Seats           8.447e+04   3.81e+04      2.216      0.030    8413.310    1.61e+05\n",
            "Brand_Honda    -2.442e+05   1.46e+05     -1.673      0.099   -5.35e+05    4.71e+04\n",
            "Brand_Maruti   -2.447e+05   1.45e+05     -1.685      0.097   -5.35e+05    4.51e+04\n",
            "==============================================================================\n",
            "Omnibus:                        0.576   Durbin-Watson:                   1.946\n",
            "Prob(Omnibus):                  0.750   Jarque-Bera (JB):                0.574\n",
            "Skew:                           0.194   Prob(JB):                        0.751\n",
            "Kurtosis:                       2.853   Cond. No.                         9.17\n",
            "==============================================================================\n",
            "\n",
            "Notes:\n",
            "[1] Standard Errors assume that the covariance matrix of the errors is correctly specified.\n"
          ]
        }
      ]
    },
    {
      "cell_type": "markdown",
      "source": [
        "**Висновок:**\n",
        "На мою думку остання модель є кращою,\n",
        "вона має найвищіпоказники R squerad  та Adjusted R squared,\n",
        "значення F-statistacs високе та значуще, що свідчить про загальну значущість моделі,  AIC та BIC найнижчі що також свідчить про кращу модель з урахуванням її складності"
      ],
      "metadata": {
        "id": "5EtAVgCYw39z"
      }
    }
  ]
}