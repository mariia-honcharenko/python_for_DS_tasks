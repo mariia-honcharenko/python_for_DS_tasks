{
  "nbformat": 4,
  "nbformat_minor": 0,
  "metadata": {
    "colab": {
      "provenance": []
    },
    "kernelspec": {
      "name": "python3",
      "display_name": "Python 3"
    },
    "language_info": {
      "name": "python"
    }
  },
  "cells": [
    {
      "cell_type": "markdown",
      "source": [
        "# Домашнє завдання: Побудова класифікатора сентименту на основі набору даних Tweet Sentiment Extraction\n",
        "\n",
        "**Мета:** Провести аналіз набору даних, виконати векторизацію текстових даних за допомогою методів bag-of-words та TF-IDF, порівняти їх, побудувати класифікатор та провести аналіз помилок.\n",
        "\n",
        "**Набір даних:**\n",
        "Дані беремо з цього змагання на Kaggle: https://www.kaggle.com/competitions/tweet-sentiment-extraction/data?select=train.csv\n",
        "\n",
        "Оригінальне змагання має дещо іншу задачу, але ми будемо поки будувати саме класифікатор.\n",
        "\n",
        "### Завдання 1. Завантаження та ознайомлення з набором даних\n",
        "\n",
        "- Завантажте набір даних `train.csv` з посилання та ознайомтеся з його структурою.\n",
        "- Виведіть перші 5 рядків та основну статистику: кількість записів, типи колонок, кількість пропущених значень.\n",
        "- Видаліть записи, в яких є пропущені значення.\n",
        "\n"
      ],
      "metadata": {
        "id": "Zl1UHn4aRLMg"
      }
    },
    {
      "cell_type": "code",
      "source": [
        "from google.colab import drive\n",
        "drive.mount('/content/drive')"
      ],
      "metadata": {
        "colab": {
          "base_uri": "https://localhost:8080/"
        },
        "id": "pgyHzMYDDilF",
        "outputId": "e399ef20-b07b-419a-b35b-36efdbf7a164"
      },
      "execution_count": 1,
      "outputs": [
        {
          "output_type": "stream",
          "name": "stdout",
          "text": [
            "Drive already mounted at /content/drive; to attempt to forcibly remount, call drive.mount(\"/content/drive\", force_remount=True).\n"
          ]
        }
      ]
    },
    {
      "cell_type": "code",
      "source": [
        "import pandas as pd\n",
        "import matplotlib.pyplot as plt\n",
        "import seaborn as sns\n",
        "from nltk.corpus import stopwords\n",
        "from nltk.stem.snowball import SnowballStemmer\n",
        "from nltk.tokenize import word_tokenize\n",
        "from sklearn.feature_extraction.text import CountVectorizer\n",
        "import string\n",
        "import nltk\n",
        "nltk.download('punkt')\n",
        "nltk.download('stopwords')\n",
        "from sklearn.model_selection import train_test_split\n",
        "from sklearn.linear_model import LogisticRegression\n",
        "from sklearn.tree import DecisionTreeClassifier\n",
        "from sklearn.ensemble import GradientBoostingClassifier\n",
        "from sklearn.metrics import classification_report, accuracy_score\n",
        "from sklearn.feature_extraction.text import TfidfVectorizer"
      ],
      "metadata": {
        "id": "OCU_-SzRDy-H",
        "colab": {
          "base_uri": "https://localhost:8080/"
        },
        "outputId": "3ec4f933-532c-4a68-e640-d8f27e3b36eb"
      },
      "execution_count": 2,
      "outputs": [
        {
          "output_type": "stream",
          "name": "stderr",
          "text": [
            "[nltk_data] Downloading package punkt to /root/nltk_data...\n",
            "[nltk_data]   Package punkt is already up-to-date!\n",
            "[nltk_data] Downloading package stopwords to /root/nltk_data...\n",
            "[nltk_data]   Package stopwords is already up-to-date!\n"
          ]
        }
      ]
    },
    {
      "cell_type": "code",
      "source": [
        "raw_df = pd.read_csv('/content/drive/MyDrive/Data Science/train_nlp.csv', index_col=0)"
      ],
      "metadata": {
        "id": "z9PAZcZgddHT"
      },
      "execution_count": 3,
      "outputs": []
    },
    {
      "cell_type": "code",
      "source": [
        "raw_df.info()"
      ],
      "metadata": {
        "colab": {
          "base_uri": "https://localhost:8080/"
        },
        "id": "sim7rYTwFPnZ",
        "outputId": "26e57081-6261-4a29-e80e-d9545c2d8e54"
      },
      "execution_count": 4,
      "outputs": [
        {
          "output_type": "stream",
          "name": "stdout",
          "text": [
            "<class 'pandas.core.frame.DataFrame'>\n",
            "Index: 27481 entries, cb774db0d1 to 6f7127d9d7\n",
            "Data columns (total 3 columns):\n",
            " #   Column         Non-Null Count  Dtype \n",
            "---  ------         --------------  ----- \n",
            " 0   text           27480 non-null  object\n",
            " 1   selected_text  27480 non-null  object\n",
            " 2   sentiment      27481 non-null  object\n",
            "dtypes: object(3)\n",
            "memory usage: 858.8+ KB\n"
          ]
        }
      ]
    },
    {
      "cell_type": "code",
      "source": [
        "raw_df.describe()"
      ],
      "metadata": {
        "colab": {
          "base_uri": "https://localhost:8080/",
          "height": 175
        },
        "id": "X-sc1kIwHPXO",
        "outputId": "698badf9-69f2-4835-ef6c-d525276fb290"
      },
      "execution_count": 5,
      "outputs": [
        {
          "output_type": "execute_result",
          "data": {
            "text/plain": [
              "                                        text selected_text sentiment\n",
              "count                                  27480         27480     27481\n",
              "unique                                 27480         22463         3\n",
              "top      I`d have responded, if I were going          good   neutral\n",
              "freq                                       1           199     11118"
            ],
            "text/html": [
              "\n",
              "  <div id=\"df-15d4f7a0-fe1c-4e5a-b580-fa4de43e4253\" class=\"colab-df-container\">\n",
              "    <div>\n",
              "<style scoped>\n",
              "    .dataframe tbody tr th:only-of-type {\n",
              "        vertical-align: middle;\n",
              "    }\n",
              "\n",
              "    .dataframe tbody tr th {\n",
              "        vertical-align: top;\n",
              "    }\n",
              "\n",
              "    .dataframe thead th {\n",
              "        text-align: right;\n",
              "    }\n",
              "</style>\n",
              "<table border=\"1\" class=\"dataframe\">\n",
              "  <thead>\n",
              "    <tr style=\"text-align: right;\">\n",
              "      <th></th>\n",
              "      <th>text</th>\n",
              "      <th>selected_text</th>\n",
              "      <th>sentiment</th>\n",
              "    </tr>\n",
              "  </thead>\n",
              "  <tbody>\n",
              "    <tr>\n",
              "      <th>count</th>\n",
              "      <td>27480</td>\n",
              "      <td>27480</td>\n",
              "      <td>27481</td>\n",
              "    </tr>\n",
              "    <tr>\n",
              "      <th>unique</th>\n",
              "      <td>27480</td>\n",
              "      <td>22463</td>\n",
              "      <td>3</td>\n",
              "    </tr>\n",
              "    <tr>\n",
              "      <th>top</th>\n",
              "      <td>I`d have responded, if I were going</td>\n",
              "      <td>good</td>\n",
              "      <td>neutral</td>\n",
              "    </tr>\n",
              "    <tr>\n",
              "      <th>freq</th>\n",
              "      <td>1</td>\n",
              "      <td>199</td>\n",
              "      <td>11118</td>\n",
              "    </tr>\n",
              "  </tbody>\n",
              "</table>\n",
              "</div>\n",
              "    <div class=\"colab-df-buttons\">\n",
              "\n",
              "  <div class=\"colab-df-container\">\n",
              "    <button class=\"colab-df-convert\" onclick=\"convertToInteractive('df-15d4f7a0-fe1c-4e5a-b580-fa4de43e4253')\"\n",
              "            title=\"Convert this dataframe to an interactive table.\"\n",
              "            style=\"display:none;\">\n",
              "\n",
              "  <svg xmlns=\"http://www.w3.org/2000/svg\" height=\"24px\" viewBox=\"0 -960 960 960\">\n",
              "    <path d=\"M120-120v-720h720v720H120Zm60-500h600v-160H180v160Zm220 220h160v-160H400v160Zm0 220h160v-160H400v160ZM180-400h160v-160H180v160Zm440 0h160v-160H620v160ZM180-180h160v-160H180v160Zm440 0h160v-160H620v160Z\"/>\n",
              "  </svg>\n",
              "    </button>\n",
              "\n",
              "  <style>\n",
              "    .colab-df-container {\n",
              "      display:flex;\n",
              "      gap: 12px;\n",
              "    }\n",
              "\n",
              "    .colab-df-convert {\n",
              "      background-color: #E8F0FE;\n",
              "      border: none;\n",
              "      border-radius: 50%;\n",
              "      cursor: pointer;\n",
              "      display: none;\n",
              "      fill: #1967D2;\n",
              "      height: 32px;\n",
              "      padding: 0 0 0 0;\n",
              "      width: 32px;\n",
              "    }\n",
              "\n",
              "    .colab-df-convert:hover {\n",
              "      background-color: #E2EBFA;\n",
              "      box-shadow: 0px 1px 2px rgba(60, 64, 67, 0.3), 0px 1px 3px 1px rgba(60, 64, 67, 0.15);\n",
              "      fill: #174EA6;\n",
              "    }\n",
              "\n",
              "    .colab-df-buttons div {\n",
              "      margin-bottom: 4px;\n",
              "    }\n",
              "\n",
              "    [theme=dark] .colab-df-convert {\n",
              "      background-color: #3B4455;\n",
              "      fill: #D2E3FC;\n",
              "    }\n",
              "\n",
              "    [theme=dark] .colab-df-convert:hover {\n",
              "      background-color: #434B5C;\n",
              "      box-shadow: 0px 1px 3px 1px rgba(0, 0, 0, 0.15);\n",
              "      filter: drop-shadow(0px 1px 2px rgba(0, 0, 0, 0.3));\n",
              "      fill: #FFFFFF;\n",
              "    }\n",
              "  </style>\n",
              "\n",
              "    <script>\n",
              "      const buttonEl =\n",
              "        document.querySelector('#df-15d4f7a0-fe1c-4e5a-b580-fa4de43e4253 button.colab-df-convert');\n",
              "      buttonEl.style.display =\n",
              "        google.colab.kernel.accessAllowed ? 'block' : 'none';\n",
              "\n",
              "      async function convertToInteractive(key) {\n",
              "        const element = document.querySelector('#df-15d4f7a0-fe1c-4e5a-b580-fa4de43e4253');\n",
              "        const dataTable =\n",
              "          await google.colab.kernel.invokeFunction('convertToInteractive',\n",
              "                                                    [key], {});\n",
              "        if (!dataTable) return;\n",
              "\n",
              "        const docLinkHtml = 'Like what you see? Visit the ' +\n",
              "          '<a target=\"_blank\" href=https://colab.research.google.com/notebooks/data_table.ipynb>data table notebook</a>'\n",
              "          + ' to learn more about interactive tables.';\n",
              "        element.innerHTML = '';\n",
              "        dataTable['output_type'] = 'display_data';\n",
              "        await google.colab.output.renderOutput(dataTable, element);\n",
              "        const docLink = document.createElement('div');\n",
              "        docLink.innerHTML = docLinkHtml;\n",
              "        element.appendChild(docLink);\n",
              "      }\n",
              "    </script>\n",
              "  </div>\n",
              "\n",
              "\n",
              "<div id=\"df-5bf0229f-688f-4a91-8f56-4be114f8b556\">\n",
              "  <button class=\"colab-df-quickchart\" onclick=\"quickchart('df-5bf0229f-688f-4a91-8f56-4be114f8b556')\"\n",
              "            title=\"Suggest charts\"\n",
              "            style=\"display:none;\">\n",
              "\n",
              "<svg xmlns=\"http://www.w3.org/2000/svg\" height=\"24px\"viewBox=\"0 0 24 24\"\n",
              "     width=\"24px\">\n",
              "    <g>\n",
              "        <path d=\"M19 3H5c-1.1 0-2 .9-2 2v14c0 1.1.9 2 2 2h14c1.1 0 2-.9 2-2V5c0-1.1-.9-2-2-2zM9 17H7v-7h2v7zm4 0h-2V7h2v10zm4 0h-2v-4h2v4z\"/>\n",
              "    </g>\n",
              "</svg>\n",
              "  </button>\n",
              "\n",
              "<style>\n",
              "  .colab-df-quickchart {\n",
              "      --bg-color: #E8F0FE;\n",
              "      --fill-color: #1967D2;\n",
              "      --hover-bg-color: #E2EBFA;\n",
              "      --hover-fill-color: #174EA6;\n",
              "      --disabled-fill-color: #AAA;\n",
              "      --disabled-bg-color: #DDD;\n",
              "  }\n",
              "\n",
              "  [theme=dark] .colab-df-quickchart {\n",
              "      --bg-color: #3B4455;\n",
              "      --fill-color: #D2E3FC;\n",
              "      --hover-bg-color: #434B5C;\n",
              "      --hover-fill-color: #FFFFFF;\n",
              "      --disabled-bg-color: #3B4455;\n",
              "      --disabled-fill-color: #666;\n",
              "  }\n",
              "\n",
              "  .colab-df-quickchart {\n",
              "    background-color: var(--bg-color);\n",
              "    border: none;\n",
              "    border-radius: 50%;\n",
              "    cursor: pointer;\n",
              "    display: none;\n",
              "    fill: var(--fill-color);\n",
              "    height: 32px;\n",
              "    padding: 0;\n",
              "    width: 32px;\n",
              "  }\n",
              "\n",
              "  .colab-df-quickchart:hover {\n",
              "    background-color: var(--hover-bg-color);\n",
              "    box-shadow: 0 1px 2px rgba(60, 64, 67, 0.3), 0 1px 3px 1px rgba(60, 64, 67, 0.15);\n",
              "    fill: var(--button-hover-fill-color);\n",
              "  }\n",
              "\n",
              "  .colab-df-quickchart-complete:disabled,\n",
              "  .colab-df-quickchart-complete:disabled:hover {\n",
              "    background-color: var(--disabled-bg-color);\n",
              "    fill: var(--disabled-fill-color);\n",
              "    box-shadow: none;\n",
              "  }\n",
              "\n",
              "  .colab-df-spinner {\n",
              "    border: 2px solid var(--fill-color);\n",
              "    border-color: transparent;\n",
              "    border-bottom-color: var(--fill-color);\n",
              "    animation:\n",
              "      spin 1s steps(1) infinite;\n",
              "  }\n",
              "\n",
              "  @keyframes spin {\n",
              "    0% {\n",
              "      border-color: transparent;\n",
              "      border-bottom-color: var(--fill-color);\n",
              "      border-left-color: var(--fill-color);\n",
              "    }\n",
              "    20% {\n",
              "      border-color: transparent;\n",
              "      border-left-color: var(--fill-color);\n",
              "      border-top-color: var(--fill-color);\n",
              "    }\n",
              "    30% {\n",
              "      border-color: transparent;\n",
              "      border-left-color: var(--fill-color);\n",
              "      border-top-color: var(--fill-color);\n",
              "      border-right-color: var(--fill-color);\n",
              "    }\n",
              "    40% {\n",
              "      border-color: transparent;\n",
              "      border-right-color: var(--fill-color);\n",
              "      border-top-color: var(--fill-color);\n",
              "    }\n",
              "    60% {\n",
              "      border-color: transparent;\n",
              "      border-right-color: var(--fill-color);\n",
              "    }\n",
              "    80% {\n",
              "      border-color: transparent;\n",
              "      border-right-color: var(--fill-color);\n",
              "      border-bottom-color: var(--fill-color);\n",
              "    }\n",
              "    90% {\n",
              "      border-color: transparent;\n",
              "      border-bottom-color: var(--fill-color);\n",
              "    }\n",
              "  }\n",
              "</style>\n",
              "\n",
              "  <script>\n",
              "    async function quickchart(key) {\n",
              "      const quickchartButtonEl =\n",
              "        document.querySelector('#' + key + ' button');\n",
              "      quickchartButtonEl.disabled = true;  // To prevent multiple clicks.\n",
              "      quickchartButtonEl.classList.add('colab-df-spinner');\n",
              "      try {\n",
              "        const charts = await google.colab.kernel.invokeFunction(\n",
              "            'suggestCharts', [key], {});\n",
              "      } catch (error) {\n",
              "        console.error('Error during call to suggestCharts:', error);\n",
              "      }\n",
              "      quickchartButtonEl.classList.remove('colab-df-spinner');\n",
              "      quickchartButtonEl.classList.add('colab-df-quickchart-complete');\n",
              "    }\n",
              "    (() => {\n",
              "      let quickchartButtonEl =\n",
              "        document.querySelector('#df-5bf0229f-688f-4a91-8f56-4be114f8b556 button');\n",
              "      quickchartButtonEl.style.display =\n",
              "        google.colab.kernel.accessAllowed ? 'block' : 'none';\n",
              "    })();\n",
              "  </script>\n",
              "</div>\n",
              "    </div>\n",
              "  </div>\n"
            ],
            "application/vnd.google.colaboratory.intrinsic+json": {
              "type": "dataframe",
              "summary": "{\n  \"name\": \"raw_df\",\n  \"rows\": 4,\n  \"fields\": [\n    {\n      \"column\": \"text\",\n      \"properties\": {\n        \"dtype\": \"string\",\n        \"num_unique_values\": 3,\n        \"samples\": [\n          \"27480\",\n          \" I`d have responded, if I were going\",\n          \"1\"\n        ],\n        \"semantic_type\": \"\",\n        \"description\": \"\"\n      }\n    },\n    {\n      \"column\": \"selected_text\",\n      \"properties\": {\n        \"dtype\": \"string\",\n        \"num_unique_values\": 4,\n        \"samples\": [\n          22463,\n          \"199\",\n          \"27480\"\n        ],\n        \"semantic_type\": \"\",\n        \"description\": \"\"\n      }\n    },\n    {\n      \"column\": \"sentiment\",\n      \"properties\": {\n        \"dtype\": \"string\",\n        \"num_unique_values\": 4,\n        \"samples\": [\n          3,\n          \"11118\",\n          \"27481\"\n        ],\n        \"semantic_type\": \"\",\n        \"description\": \"\"\n      }\n    }\n  ]\n}"
            }
          },
          "metadata": {},
          "execution_count": 5
        }
      ]
    },
    {
      "cell_type": "code",
      "source": [
        "raw_df.head()"
      ],
      "metadata": {
        "colab": {
          "base_uri": "https://localhost:8080/",
          "height": 237
        },
        "id": "Eyp4co9PFaMG",
        "outputId": "22d09141-2fa7-44c2-a85f-8af41942bebf"
      },
      "execution_count": 6,
      "outputs": [
        {
          "output_type": "execute_result",
          "data": {
            "text/plain": [
              "                                                         text  \\\n",
              "textID                                                          \n",
              "cb774db0d1                I`d have responded, if I were going   \n",
              "549e992a42      Sooo SAD I will miss you here in San Diego!!!   \n",
              "088c60f138                          my boss is bullying me...   \n",
              "9642c003ef                     what interview! leave me alone   \n",
              "358bd9e861   Sons of ****, why couldn`t they put them on t...   \n",
              "\n",
              "                                  selected_text sentiment  \n",
              "textID                                                     \n",
              "cb774db0d1  I`d have responded, if I were going   neutral  \n",
              "549e992a42                             Sooo SAD  negative  \n",
              "088c60f138                          bullying me  negative  \n",
              "9642c003ef                       leave me alone  negative  \n",
              "358bd9e861                        Sons of ****,  negative  "
            ],
            "text/html": [
              "\n",
              "  <div id=\"df-e1e85aab-6e4e-4790-943d-e3b495334a33\" class=\"colab-df-container\">\n",
              "    <div>\n",
              "<style scoped>\n",
              "    .dataframe tbody tr th:only-of-type {\n",
              "        vertical-align: middle;\n",
              "    }\n",
              "\n",
              "    .dataframe tbody tr th {\n",
              "        vertical-align: top;\n",
              "    }\n",
              "\n",
              "    .dataframe thead th {\n",
              "        text-align: right;\n",
              "    }\n",
              "</style>\n",
              "<table border=\"1\" class=\"dataframe\">\n",
              "  <thead>\n",
              "    <tr style=\"text-align: right;\">\n",
              "      <th></th>\n",
              "      <th>text</th>\n",
              "      <th>selected_text</th>\n",
              "      <th>sentiment</th>\n",
              "    </tr>\n",
              "    <tr>\n",
              "      <th>textID</th>\n",
              "      <th></th>\n",
              "      <th></th>\n",
              "      <th></th>\n",
              "    </tr>\n",
              "  </thead>\n",
              "  <tbody>\n",
              "    <tr>\n",
              "      <th>cb774db0d1</th>\n",
              "      <td>I`d have responded, if I were going</td>\n",
              "      <td>I`d have responded, if I were going</td>\n",
              "      <td>neutral</td>\n",
              "    </tr>\n",
              "    <tr>\n",
              "      <th>549e992a42</th>\n",
              "      <td>Sooo SAD I will miss you here in San Diego!!!</td>\n",
              "      <td>Sooo SAD</td>\n",
              "      <td>negative</td>\n",
              "    </tr>\n",
              "    <tr>\n",
              "      <th>088c60f138</th>\n",
              "      <td>my boss is bullying me...</td>\n",
              "      <td>bullying me</td>\n",
              "      <td>negative</td>\n",
              "    </tr>\n",
              "    <tr>\n",
              "      <th>9642c003ef</th>\n",
              "      <td>what interview! leave me alone</td>\n",
              "      <td>leave me alone</td>\n",
              "      <td>negative</td>\n",
              "    </tr>\n",
              "    <tr>\n",
              "      <th>358bd9e861</th>\n",
              "      <td>Sons of ****, why couldn`t they put them on t...</td>\n",
              "      <td>Sons of ****,</td>\n",
              "      <td>negative</td>\n",
              "    </tr>\n",
              "  </tbody>\n",
              "</table>\n",
              "</div>\n",
              "    <div class=\"colab-df-buttons\">\n",
              "\n",
              "  <div class=\"colab-df-container\">\n",
              "    <button class=\"colab-df-convert\" onclick=\"convertToInteractive('df-e1e85aab-6e4e-4790-943d-e3b495334a33')\"\n",
              "            title=\"Convert this dataframe to an interactive table.\"\n",
              "            style=\"display:none;\">\n",
              "\n",
              "  <svg xmlns=\"http://www.w3.org/2000/svg\" height=\"24px\" viewBox=\"0 -960 960 960\">\n",
              "    <path d=\"M120-120v-720h720v720H120Zm60-500h600v-160H180v160Zm220 220h160v-160H400v160Zm0 220h160v-160H400v160ZM180-400h160v-160H180v160Zm440 0h160v-160H620v160ZM180-180h160v-160H180v160Zm440 0h160v-160H620v160Z\"/>\n",
              "  </svg>\n",
              "    </button>\n",
              "\n",
              "  <style>\n",
              "    .colab-df-container {\n",
              "      display:flex;\n",
              "      gap: 12px;\n",
              "    }\n",
              "\n",
              "    .colab-df-convert {\n",
              "      background-color: #E8F0FE;\n",
              "      border: none;\n",
              "      border-radius: 50%;\n",
              "      cursor: pointer;\n",
              "      display: none;\n",
              "      fill: #1967D2;\n",
              "      height: 32px;\n",
              "      padding: 0 0 0 0;\n",
              "      width: 32px;\n",
              "    }\n",
              "\n",
              "    .colab-df-convert:hover {\n",
              "      background-color: #E2EBFA;\n",
              "      box-shadow: 0px 1px 2px rgba(60, 64, 67, 0.3), 0px 1px 3px 1px rgba(60, 64, 67, 0.15);\n",
              "      fill: #174EA6;\n",
              "    }\n",
              "\n",
              "    .colab-df-buttons div {\n",
              "      margin-bottom: 4px;\n",
              "    }\n",
              "\n",
              "    [theme=dark] .colab-df-convert {\n",
              "      background-color: #3B4455;\n",
              "      fill: #D2E3FC;\n",
              "    }\n",
              "\n",
              "    [theme=dark] .colab-df-convert:hover {\n",
              "      background-color: #434B5C;\n",
              "      box-shadow: 0px 1px 3px 1px rgba(0, 0, 0, 0.15);\n",
              "      filter: drop-shadow(0px 1px 2px rgba(0, 0, 0, 0.3));\n",
              "      fill: #FFFFFF;\n",
              "    }\n",
              "  </style>\n",
              "\n",
              "    <script>\n",
              "      const buttonEl =\n",
              "        document.querySelector('#df-e1e85aab-6e4e-4790-943d-e3b495334a33 button.colab-df-convert');\n",
              "      buttonEl.style.display =\n",
              "        google.colab.kernel.accessAllowed ? 'block' : 'none';\n",
              "\n",
              "      async function convertToInteractive(key) {\n",
              "        const element = document.querySelector('#df-e1e85aab-6e4e-4790-943d-e3b495334a33');\n",
              "        const dataTable =\n",
              "          await google.colab.kernel.invokeFunction('convertToInteractive',\n",
              "                                                    [key], {});\n",
              "        if (!dataTable) return;\n",
              "\n",
              "        const docLinkHtml = 'Like what you see? Visit the ' +\n",
              "          '<a target=\"_blank\" href=https://colab.research.google.com/notebooks/data_table.ipynb>data table notebook</a>'\n",
              "          + ' to learn more about interactive tables.';\n",
              "        element.innerHTML = '';\n",
              "        dataTable['output_type'] = 'display_data';\n",
              "        await google.colab.output.renderOutput(dataTable, element);\n",
              "        const docLink = document.createElement('div');\n",
              "        docLink.innerHTML = docLinkHtml;\n",
              "        element.appendChild(docLink);\n",
              "      }\n",
              "    </script>\n",
              "  </div>\n",
              "\n",
              "\n",
              "<div id=\"df-6ea5a51b-71c0-4c21-90cc-43803bc2bc4f\">\n",
              "  <button class=\"colab-df-quickchart\" onclick=\"quickchart('df-6ea5a51b-71c0-4c21-90cc-43803bc2bc4f')\"\n",
              "            title=\"Suggest charts\"\n",
              "            style=\"display:none;\">\n",
              "\n",
              "<svg xmlns=\"http://www.w3.org/2000/svg\" height=\"24px\"viewBox=\"0 0 24 24\"\n",
              "     width=\"24px\">\n",
              "    <g>\n",
              "        <path d=\"M19 3H5c-1.1 0-2 .9-2 2v14c0 1.1.9 2 2 2h14c1.1 0 2-.9 2-2V5c0-1.1-.9-2-2-2zM9 17H7v-7h2v7zm4 0h-2V7h2v10zm4 0h-2v-4h2v4z\"/>\n",
              "    </g>\n",
              "</svg>\n",
              "  </button>\n",
              "\n",
              "<style>\n",
              "  .colab-df-quickchart {\n",
              "      --bg-color: #E8F0FE;\n",
              "      --fill-color: #1967D2;\n",
              "      --hover-bg-color: #E2EBFA;\n",
              "      --hover-fill-color: #174EA6;\n",
              "      --disabled-fill-color: #AAA;\n",
              "      --disabled-bg-color: #DDD;\n",
              "  }\n",
              "\n",
              "  [theme=dark] .colab-df-quickchart {\n",
              "      --bg-color: #3B4455;\n",
              "      --fill-color: #D2E3FC;\n",
              "      --hover-bg-color: #434B5C;\n",
              "      --hover-fill-color: #FFFFFF;\n",
              "      --disabled-bg-color: #3B4455;\n",
              "      --disabled-fill-color: #666;\n",
              "  }\n",
              "\n",
              "  .colab-df-quickchart {\n",
              "    background-color: var(--bg-color);\n",
              "    border: none;\n",
              "    border-radius: 50%;\n",
              "    cursor: pointer;\n",
              "    display: none;\n",
              "    fill: var(--fill-color);\n",
              "    height: 32px;\n",
              "    padding: 0;\n",
              "    width: 32px;\n",
              "  }\n",
              "\n",
              "  .colab-df-quickchart:hover {\n",
              "    background-color: var(--hover-bg-color);\n",
              "    box-shadow: 0 1px 2px rgba(60, 64, 67, 0.3), 0 1px 3px 1px rgba(60, 64, 67, 0.15);\n",
              "    fill: var(--button-hover-fill-color);\n",
              "  }\n",
              "\n",
              "  .colab-df-quickchart-complete:disabled,\n",
              "  .colab-df-quickchart-complete:disabled:hover {\n",
              "    background-color: var(--disabled-bg-color);\n",
              "    fill: var(--disabled-fill-color);\n",
              "    box-shadow: none;\n",
              "  }\n",
              "\n",
              "  .colab-df-spinner {\n",
              "    border: 2px solid var(--fill-color);\n",
              "    border-color: transparent;\n",
              "    border-bottom-color: var(--fill-color);\n",
              "    animation:\n",
              "      spin 1s steps(1) infinite;\n",
              "  }\n",
              "\n",
              "  @keyframes spin {\n",
              "    0% {\n",
              "      border-color: transparent;\n",
              "      border-bottom-color: var(--fill-color);\n",
              "      border-left-color: var(--fill-color);\n",
              "    }\n",
              "    20% {\n",
              "      border-color: transparent;\n",
              "      border-left-color: var(--fill-color);\n",
              "      border-top-color: var(--fill-color);\n",
              "    }\n",
              "    30% {\n",
              "      border-color: transparent;\n",
              "      border-left-color: var(--fill-color);\n",
              "      border-top-color: var(--fill-color);\n",
              "      border-right-color: var(--fill-color);\n",
              "    }\n",
              "    40% {\n",
              "      border-color: transparent;\n",
              "      border-right-color: var(--fill-color);\n",
              "      border-top-color: var(--fill-color);\n",
              "    }\n",
              "    60% {\n",
              "      border-color: transparent;\n",
              "      border-right-color: var(--fill-color);\n",
              "    }\n",
              "    80% {\n",
              "      border-color: transparent;\n",
              "      border-right-color: var(--fill-color);\n",
              "      border-bottom-color: var(--fill-color);\n",
              "    }\n",
              "    90% {\n",
              "      border-color: transparent;\n",
              "      border-bottom-color: var(--fill-color);\n",
              "    }\n",
              "  }\n",
              "</style>\n",
              "\n",
              "  <script>\n",
              "    async function quickchart(key) {\n",
              "      const quickchartButtonEl =\n",
              "        document.querySelector('#' + key + ' button');\n",
              "      quickchartButtonEl.disabled = true;  // To prevent multiple clicks.\n",
              "      quickchartButtonEl.classList.add('colab-df-spinner');\n",
              "      try {\n",
              "        const charts = await google.colab.kernel.invokeFunction(\n",
              "            'suggestCharts', [key], {});\n",
              "      } catch (error) {\n",
              "        console.error('Error during call to suggestCharts:', error);\n",
              "      }\n",
              "      quickchartButtonEl.classList.remove('colab-df-spinner');\n",
              "      quickchartButtonEl.classList.add('colab-df-quickchart-complete');\n",
              "    }\n",
              "    (() => {\n",
              "      let quickchartButtonEl =\n",
              "        document.querySelector('#df-6ea5a51b-71c0-4c21-90cc-43803bc2bc4f button');\n",
              "      quickchartButtonEl.style.display =\n",
              "        google.colab.kernel.accessAllowed ? 'block' : 'none';\n",
              "    })();\n",
              "  </script>\n",
              "</div>\n",
              "    </div>\n",
              "  </div>\n"
            ],
            "application/vnd.google.colaboratory.intrinsic+json": {
              "type": "dataframe",
              "variable_name": "raw_df",
              "summary": "{\n  \"name\": \"raw_df\",\n  \"rows\": 27481,\n  \"fields\": [\n    {\n      \"column\": \"textID\",\n      \"properties\": {\n        \"dtype\": \"string\",\n        \"num_unique_values\": 27481,\n        \"samples\": [\n          \"a7f72a928a\",\n          \"ef42dee96c\",\n          \"07d17131b1\"\n        ],\n        \"semantic_type\": \"\",\n        \"description\": \"\"\n      }\n    },\n    {\n      \"column\": \"text\",\n      \"properties\": {\n        \"dtype\": \"string\",\n        \"num_unique_values\": 27480,\n        \"samples\": [\n          \" Enjoy! Family trumps everything\",\n          \" --of them kinda turns me off of it all.  And then I buy more of them and dig a deeper hole, etc. ;;\",\n          \"Clive it`s my birthday pat me  http://apps.facebook.com/dogbook/profile/view/6386106\"\n        ],\n        \"semantic_type\": \"\",\n        \"description\": \"\"\n      }\n    },\n    {\n      \"column\": \"selected_text\",\n      \"properties\": {\n        \"dtype\": \"string\",\n        \"num_unique_values\": 22463,\n        \"samples\": [\n          \"we win\",\n          \"YES!!! haahaaa.! break out the jellybeaniesss!\",\n          \"hay wats ur AIM? we should chat\"\n        ],\n        \"semantic_type\": \"\",\n        \"description\": \"\"\n      }\n    },\n    {\n      \"column\": \"sentiment\",\n      \"properties\": {\n        \"dtype\": \"category\",\n        \"num_unique_values\": 3,\n        \"samples\": [\n          \"neutral\",\n          \"negative\",\n          \"positive\"\n        ],\n        \"semantic_type\": \"\",\n        \"description\": \"\"\n      }\n    }\n  ]\n}"
            }
          },
          "metadata": {},
          "execution_count": 6
        }
      ]
    },
    {
      "cell_type": "code",
      "source": [
        "raw_df.isna().sum()"
      ],
      "metadata": {
        "colab": {
          "base_uri": "https://localhost:8080/",
          "height": 178
        },
        "id": "fcrF73k4Fm1E",
        "outputId": "c2ce26d9-277d-43bb-a5bf-f1e28fc03e7e"
      },
      "execution_count": 7,
      "outputs": [
        {
          "output_type": "execute_result",
          "data": {
            "text/plain": [
              "text             1\n",
              "selected_text    1\n",
              "sentiment        0\n",
              "dtype: int64"
            ],
            "text/html": [
              "<div>\n",
              "<style scoped>\n",
              "    .dataframe tbody tr th:only-of-type {\n",
              "        vertical-align: middle;\n",
              "    }\n",
              "\n",
              "    .dataframe tbody tr th {\n",
              "        vertical-align: top;\n",
              "    }\n",
              "\n",
              "    .dataframe thead th {\n",
              "        text-align: right;\n",
              "    }\n",
              "</style>\n",
              "<table border=\"1\" class=\"dataframe\">\n",
              "  <thead>\n",
              "    <tr style=\"text-align: right;\">\n",
              "      <th></th>\n",
              "      <th>0</th>\n",
              "    </tr>\n",
              "  </thead>\n",
              "  <tbody>\n",
              "    <tr>\n",
              "      <th>text</th>\n",
              "      <td>1</td>\n",
              "    </tr>\n",
              "    <tr>\n",
              "      <th>selected_text</th>\n",
              "      <td>1</td>\n",
              "    </tr>\n",
              "    <tr>\n",
              "      <th>sentiment</th>\n",
              "      <td>0</td>\n",
              "    </tr>\n",
              "  </tbody>\n",
              "</table>\n",
              "</div><br><label><b>dtype:</b> int64</label>"
            ]
          },
          "metadata": {},
          "execution_count": 7
        }
      ]
    },
    {
      "cell_type": "code",
      "source": [
        "raw_df = raw_df.dropna()"
      ],
      "metadata": {
        "id": "z5eBIEvZGXB9"
      },
      "execution_count": 8,
      "outputs": []
    },
    {
      "cell_type": "markdown",
      "source": [
        "### Завдання 2. Exploratory Data Analysis\n",
        "\n",
        "- Проведіть аналіз кількості класів та розподілу міток. Класи знаходяться в колонці `sentiment`.\n",
        "- Візуалізуйте розподіл довжин текстів в символах та зробіть висновок про довжини постів: якої довжини постів найбільше, що бачите з розподілу?\n",
        "\n"
      ],
      "metadata": {
        "id": "BXox7UCZUU5J"
      }
    },
    {
      "cell_type": "code",
      "source": [
        "raw_df.sentiment.unique()"
      ],
      "metadata": {
        "id": "aPm_wCjpde0s",
        "colab": {
          "base_uri": "https://localhost:8080/"
        },
        "outputId": "13c4e628-59eb-424f-f0fd-e4405eaf89fd"
      },
      "execution_count": 9,
      "outputs": [
        {
          "output_type": "execute_result",
          "data": {
            "text/plain": [
              "array(['neutral', 'negative', 'positive'], dtype=object)"
            ]
          },
          "metadata": {},
          "execution_count": 9
        }
      ]
    },
    {
      "cell_type": "code",
      "source": [
        "sns.countplot(x='sentiment', data=raw_df)\n",
        "plt.title('Розподіл міток у колонці sentiment')\n",
        "plt.show()"
      ],
      "metadata": {
        "colab": {
          "base_uri": "https://localhost:8080/",
          "height": 472
        },
        "id": "z6kKW14AH1Wj",
        "outputId": "e8102974-b3fd-4479-b29b-ce33c8e17d2c"
      },
      "execution_count": 10,
      "outputs": [
        {
          "output_type": "display_data",
          "data": {
            "text/plain": [
              "<Figure size 640x480 with 1 Axes>"
            ],
            "image/png": "[encoded data removed]"
          },
          "metadata": {}
        }
      ]
    },
    {
      "cell_type": "code",
      "source": [
        "# Обрахунок довжини кожного тексту\n",
        "raw_df['text_length'] = raw_df['text'].apply(len)\n",
        "\n",
        "# Візуалізація розподілу довжин текстів\n",
        "plt.figure(figsize=(10, 6))\n",
        "sns.histplot(raw_df['text_length'], bins=50, kde=True)\n",
        "plt.title('Розподіл довжин текстів у символах')\n",
        "plt.xlabel('Довжина тексту')\n",
        "plt.ylabel('Кількість постів')\n",
        "plt.show()\n",
        "\n",
        "# Виведення описових статистик\n",
        "print(\"\\nОписові статистики довжини текстів:\")\n",
        "print(raw_df['text_length'].describe())"
      ],
      "metadata": {
        "colab": {
          "base_uri": "https://localhost:8080/",
          "height": 755
        },
        "id": "oAVT9EAEH_9i",
        "outputId": "320a0d70-8e6f-400d-f033-2c8d5202f51d"
      },
      "execution_count": 11,
      "outputs": [
        {
          "output_type": "display_data",
          "data": {
            "text/plain": [
              "<Figure size 1000x600 with 1 Axes>"
            ],
            "image/png": "[encoded data removed]"
          },
          "metadata": {}
        },
        {
          "output_type": "stream",
          "name": "stdout",
          "text": [
            "\n",
            "Описові статистики довжини текстів:\n",
            "count    27480.000000\n",
            "mean        68.330022\n",
            "std         35.603870\n",
            "min          3.000000\n",
            "25%         39.000000\n",
            "50%         64.000000\n",
            "75%         97.000000\n",
            "max        141.000000\n",
            "Name: text_length, dtype: float64\n"
          ]
        }
      ]
    },
    {
      "cell_type": "markdown",
      "source": [
        "**Висновок**: Найбільше постів\n",
        "мають довжину близько\n",
        "60-70 символів. Середня довжина постів\n",
        "становить\n",
        "68 символів\n",
        ".\n",
        "Медіана\n",
        "(50-й процентиль) довжини постів —\n",
        "64 символи. Більшість постів знаходяться в діапазоні\n",
        "від 39 до 97 символів\n",
        "(25-й і 75-й процентилі)"
      ],
      "metadata": {
        "id": "QeKiMJYPIkIm"
      }
    },
    {
      "cell_type": "markdown",
      "source": [
        "### Завдання 3. Попередня обробка текстових даних та векторизація з bag of words\n",
        "\n",
        "\n",
        "Наша задача тут отримати вектори методом bag of words колонки `text`, виконавши попередню обробку тексту.\n",
        "Попередня обробка має включати\n",
        "- видалення stopwords необхідної мови\n",
        "- токенізація (розбиття текстів на фрагменти по 1 слову)\n",
        "- стеммінг слів зі `SnowballStemmer`.\n",
        "- самостійно задайте кількість слів в словнику для `sklearn.feature_extraction.text.CountVectorizer`. Можливо для цього доведеться виконати додатковий аналіз.\n",
        "\n",
        "Ви також можете додати сюди додаткові методи очистки текстів, наприклад, видалення деяких символів чи груп символів, якщо в процесі роботи побачите, що хочете щось видалити.\n",
        "\n",
        "Напишіть код аби виконати це завдання. Перед цим рекомендую детально ознайомитись з тим, що робить обʼєкт `sklearn.feature_extraction.text.CountVectorizer` за замовченням.\n",
        "\n",
        "Це завдання можна виконати двома способами - один - максимально подібно до того, як ми це робили в лекції, другий - дещо інакше перегрупувавши етапи обробки тексту.\n",
        "\n",
        "\n"
      ],
      "metadata": {
        "id": "KfiU4hNDWncB"
      }
    },
    {
      "cell_type": "code",
      "source": [
        "stop_words = set(stopwords.words('english'))\n",
        "stemmer = SnowballStemmer('english')\n",
        "\n",
        "def preprocess_text(text):\n",
        "    text = text.translate(str.maketrans('', '', string.punctuation))\n",
        "    tokens = word_tokenize(text.lower())\n",
        "    filtered_words = [stemmer.stem(word) for word in tokens if word not in stop_words and word.isalpha()]\n",
        "    return ' '.join(filtered_words)"
      ],
      "metadata": {
        "id": "BRUG111tdhB0"
      },
      "execution_count": 12,
      "outputs": []
    },
    {
      "cell_type": "code",
      "source": [
        "raw_df['processed_text'] = raw_df['text'].apply(preprocess_text)"
      ],
      "metadata": {
        "id": "EEuJtZ7kLUZH"
      },
      "execution_count": 13,
      "outputs": []
    },
    {
      "cell_type": "code",
      "source": [
        "vectorizer = CountVectorizer(max_features=1000)\n",
        "X = vectorizer.fit_transform(raw_df['processed_text'])"
      ],
      "metadata": {
        "id": "3Nlp0IS1NlME"
      },
      "execution_count": 14,
      "outputs": []
    },
    {
      "cell_type": "code",
      "source": [
        "print(X.shape)\n",
        "print(vectorizer.get_feature_names_out())"
      ],
      "metadata": {
        "colab": {
          "base_uri": "https://localhost:8080/"
        },
        "id": "jL4WQfocN5Wb",
        "outputId": "811c5454-3e7f-4b3b-e88d-b9953e66f603"
      },
      "execution_count": 15,
      "outputs": [
        {
          "output_type": "stream",
          "name": "stdout",
          "text": [
            "(27480, 1000)\n",
            "['abl' 'absolut' 'access' 'account' 'ach' 'act' 'actual' 'ad' 'add'\n",
            " 'addict' 'afraid' 'afternoon' 'age' 'ago' 'agre' 'ah' 'ahh' 'ahhh' 'aint'\n",
            " 'air' 'airport' 'album' 'almost' 'alon' 'along' 'alot' 'alreadi'\n",
            " 'alright' 'also' 'although' 'alway' 'amaz' 'american' 'anim' 'annoy'\n",
            " 'anoth' 'answer' 'anymor' 'anyon' 'anyth' 'anytim' 'anyway' 'apart' 'app'\n",
            " 'appar' 'appl' 'appreci' 'arent' 'arm' 'around' 'arriv' 'art' 'ask'\n",
            " 'asleep' 'ate' 'attempt' 'avail' 'aw' 'awak' 'away' 'awesom' 'aww' 'awww'\n",
            " 'babe' 'babi' 'back' 'bad' 'bag' 'ball' 'band' 'bank' 'bar' 'bare' 'bbq'\n",
            " 'bc' 'bday' 'beach' 'beat' 'beauti' 'becom' 'bed' 'beer' 'behind'\n",
            " 'believ' 'best' 'bet' 'better' 'bgt' 'big' 'bike' 'bill' 'bird'\n",
            " 'birthday' 'bit' 'black' 'blackberri' 'bless' 'block' 'blog' 'blood'\n",
            " 'bloodi' 'blue' 'bodi' 'boo' 'book' 'bore' 'bottl' 'bought' 'bout' 'box'\n",
            " 'boy' 'boyfriend' 'brain' 'break' 'breakfast' 'bring' 'bro' 'broke'\n",
            " 'broken' 'brother' 'btw' 'bug' 'bum' 'burn' 'bus' 'busi' 'buy' 'bye'\n",
            " 'cake' 'call' 'came' 'camera' 'cancel' 'cant' 'car' 'card' 'care' 'case'\n",
            " 'cat' 'catch' 'caught' 'caus' 'cd' 'celebr' 'chanc' 'chang' 'charg'\n",
            " 'chat' 'check' 'cheer' 'chees' 'chicken' 'children' 'chill' 'chillin'\n",
            " 'chocol' 'church' 'citi' 'class' 'clean' 'clear' 'close' 'cloth' 'club'\n",
            " 'code' 'coffe' 'cold' 'colleg' 'come' 'comment' 'compani' 'complet'\n",
            " 'comput' 'concert' 'confus' 'congrat' 'congratul' 'connect' 'contact'\n",
            " 'convers' 'cook' 'cooki' 'cool' 'copi' 'cos' 'cost' 'could' 'couldnt'\n",
            " 'count' 'coupl' 'cours' 'cousin' 'cover' 'coz' 'crash' 'crazi' 'cream'\n",
            " 'cri' 'cross' 'cup' 'current' 'cut' 'cute' 'cuz' 'da' 'dad' 'daddi'\n",
            " 'danc' 'dang' 'dark' 'date' 'daughter' 'david' 'day' 'dead' 'deal' 'dear'\n",
            " 'decid' 'definit' 'degre' 'delici' 'depress' 'deserv' 'design' 'didnt'\n",
            " 'die' 'differ' 'dinner' 'direct' 'disappoint' 'dm' 'doctor' 'doesnt'\n",
            " 'dog' 'done' 'dont' 'door' 'doubl' 'download' 'drag' 'dream' 'dress'\n",
            " 'drink' 'drive' 'drop' 'drunk' 'dude' 'due' 'dvd' 'ear' 'earli' 'earlier'\n",
            " 'easi' 'eat' 'edit' 'egg' 'eh' 'either' 'els' 'em' 'email' 'end'\n",
            " 'english' 'enjoy' 'enough' 'entir' 'episod' 'especi' 'etc' 'even' 'event'\n",
            " 'ever' 'everi' 'everybodi' 'everyday' 'everyon' 'everyth' 'exact' 'exam'\n",
            " 'except' 'excit' 'exhaust' 'expect' 'expens' 'experi' 'extra' 'eye'\n",
            " 'face' 'facebook' 'fact' 'fail' 'fair' 'fall' 'fam' 'famili' 'fan'\n",
            " 'fantast' 'far' 'fast' 'fav' 'favorit' 'favourit' 'fb' 'feel' 'feelin'\n",
            " 'feet' 'fell' 'felt' 'fever' 'ff' 'fight' 'figur' 'fill' 'film' 'final'\n",
            " 'find' 'fine' 'finger' 'finish' 'fire' 'first' 'fish' 'fit' 'five' 'fix'\n",
            " 'fli' 'flight' 'flower' 'flu' 'follow' 'followfriday' 'food' 'foot'\n",
            " 'forev' 'forget' 'forgot' 'forward' 'found' 'freak' 'free' 'french' 'fri'\n",
            " 'friday' 'friend' 'front' 'full' 'fun' 'funni' 'futur' 'game' 'garden'\n",
            " 'gave' 'get' 'gettin' 'gift' 'gig' 'girl' 'give' 'glad' 'glass' 'go'\n",
            " 'god' 'goe' 'goin' 'gon' 'gone' 'good' 'goodby' 'goodnight' 'googl'\n",
            " 'gorgeous' 'got' 'graduat' 'great' 'green' 'group' 'grow' 'guess'\n",
            " 'guitar' 'gut' 'guy' 'gym' 'ha' 'haha' 'hahah' 'hahaha' 'hair' 'half'\n",
            " 'hand' 'hang' 'hannah' 'happen' 'happi' 'hard' 'hate' 'havent' 'head'\n",
            " 'headach' 'hear' 'heard' 'heart' 'heat' 'hehe' 'hell' 'hello' 'help'\n",
            " 'hes' 'hey' 'hi' 'high' 'hilari' 'histori' 'hit' 'hmm' 'hold' 'holiday'\n",
            " 'home' 'homework' 'hope' 'horribl' 'hospit' 'hot' 'hour' 'hous' 'how'\n",
            " 'hubbi' 'hug' 'huge' 'huh' 'hun' 'hungri' 'hurt' 'ice' 'id' 'idea' 'idk'\n",
            " 'ignor' 'ill' 'im' 'ima' 'imagin' 'impress' 'includ' 'inde' 'insid'\n",
            " 'instead' 'interest' 'internet' 'interview' 'invit' 'iphon' 'ipod' 'isnt'\n",
            " 'issu' 'itll' 'itun' 'ive' 'jack' 'jay' 'jealous' 'job' 'joe' 'john'\n",
            " 'join' 'joke' 'jona' 'juli' 'jump' 'june' 'jus' 'justin' 'keep' 'key'\n",
            " 'kick' 'kid' 'kill' 'kind' 'kinda' 'kiss' 'knee' 'knew' 'know' 'la'\n",
            " 'ladi' 'lame' 'laptop' 'last' 'late' 'later' 'laugh' 'lay' 'lazi' 'learn'\n",
            " 'least' 'leav' 'left' 'leg' 'less' 'lesson' 'let' 'lie' 'life' 'light'\n",
            " 'like' 'lil' 'line' 'link' 'list' 'listen' 'littl' 'live' 'lmao' 'load'\n",
            " 'lol' 'london' 'lone' 'long' 'longer' 'look' 'lose' 'lost' 'lot' 'love'\n",
            " 'low' 'luck' 'lucki' 'lunch' 'luv' 'mac' 'machin' 'mad' 'made' 'mail'\n",
            " 'make' 'mama' 'man' 'manag' 'mani' 'marri' 'match' 'mate' 'math' 'matter'\n",
            " 'may' 'mayb' 'mean' 'meant' 'meet' 'memori' 'men' 'mention' 'mess'\n",
            " 'messag' 'met' 'middl' 'might' 'mile' 'miley' 'milk' 'min' 'mind' 'mine'\n",
            " 'minut' 'miss' 'mix' 'mobil' 'mom' 'moment' 'momma' 'mommi' 'monday'\n",
            " 'money' 'month' 'mood' 'moon' 'morn' 'mother' 'move' 'movi' 'mr' 'much'\n",
            " 'mum' 'music' 'must' 'myspac' 'na' 'nail' 'name' 'nap' 'near' 'need'\n",
            " 'never' 'new' 'news' 'next' 'nice' 'nick' 'night' 'nite' 'nobodi' 'none'\n",
            " 'nope' 'normal' 'note' 'noth' 'notic' 'number' 'nyc' 'offic' 'offici'\n",
            " 'oh' 'ohh' 'ok' 'okay' 'old' 'omg' 'one' 'onlin' 'ooh' 'open' 'order'\n",
            " 'other' 'ouch' 'outsid' 'pack' 'page' 'paid' 'pain' 'paint' 'paper'\n",
            " 'parent' 'park' 'part' 'parti' 'pass' 'past' 'pay' 'pc' 'peac' 'peep'\n",
            " 'peopl' 'perfect' 'perform' 'person' 'phone' 'photo' 'pic' 'pick'\n",
            " 'pictur' 'piss' 'pizza' 'place' 'plan' 'play' 'pleas' 'plus' 'point'\n",
            " 'pool' 'poor' 'pop' 'possibl' 'post' 'power' 'ppl' 'pray' 'present'\n",
            " 'pretti' 'prob' 'probabl' 'problem' 'product' 'profil' 'project' 'prom'\n",
            " 'promis' 'proper' 'proud' 'ps' 'public' 'pull' 'puppi' 'put' 'question'\n",
            " 'quick' 'quiet' 'quit' 'quot' 'race' 'radio' 'rain' 'raini' 'ran'\n",
            " 'random' 'rather' 'read' 'readi' 'real' 'realiz' 'realli' 'reason'\n",
            " 'recommend' 'record' 'red' 'relax' 'releas' 'rememb' 'remind' 'repli'\n",
            " 'rest' 'return' 'review' 'revis' 'ride' 'right' 'ring' 'rip' 'road'\n",
            " 'rock' 'roll' 'room' 'round' 'run' 'sad' 'safe' 'said' 'sale' 'sat'\n",
            " 'saturday' 'save' 'saw' 'say' 'scare' 'scari' 'school' 'screen' 'screw'\n",
            " 'season' 'second' 'see' 'seem' 'seen' 'send' 'sent' 'serious' 'servic'\n",
            " 'session' 'set' 'sexi' 'shall' 'shame' 'share' 'shes' 'shift' 'shirt'\n",
            " 'shoe' 'shoot' 'shop' 'short' 'shot' 'show' 'shower' 'shut' 'sick' 'side'\n",
            " 'sigh' 'sign' 'sinc' 'sing' 'singl' 'sister' 'sit' 'site' 'sky' 'sleep'\n",
            " 'sleepi' 'slept' 'slow' 'small' 'smile' 'snl' 'sold' 'someon' 'someth'\n",
            " 'sometim' 'somewher' 'son' 'song' 'soo' 'soon' 'sooo' 'soooo' 'sore'\n",
            " 'sorri' 'sort' 'sound' 'space' 'speak' 'special' 'spend' 'spent' 'stand'\n",
            " 'star' 'starbuck' 'start' 'state' 'stay' 'stick' 'still' 'stomach' 'stop'\n",
            " 'store' 'stori' 'street' 'stress' 'stuck' 'studi' 'stuff' 'stupid' 'suck'\n",
            " 'suggest' 'summer' 'sun' 'sunday' 'sunni' 'sunshin' 'super' 'support'\n",
            " 'suppos' 'sure' 'surpris' 'sweet' 'sweeti' 'swim' 'swine' 'ta' 'take'\n",
            " 'taken' 'talent' 'talk' 'tan' 'tast' 'taylor' 'tea' 'teach' 'team' 'tear'\n",
            " 'tell' 'terribl' 'test' 'text' 'thank' 'that' 'there' 'theyr' 'thing'\n",
            " 'think' 'tho' 'though' 'thought' 'three' 'throat' 'thursday' 'thx'\n",
            " 'ticket' 'til' 'till' 'time' 'tip' 'tire' 'today' 'togeth' 'told' 'tom'\n",
            " 'tomorrow' 'ton' 'tonight' 'tonit' 'took' 'top' 'topic' 'total' 'touch'\n",
            " 'tour' 'town' 'track' 'traffic' 'train' 'travel' 'trek' 'tri' 'trip'\n",
            " 'true' 'tuesday' 'tummi' 'turn' 'tv' 'tweet' 'twilight' 'twit' 'twitter'\n",
            " 'two' 'type' 'ugh' 'uk' 'understand' 'unfortun' 'updat' 'upload' 'upset'\n",
            " 'ur' 'us' 'use' 'usual' 'vacat' 'vega' 'version' 'via' 'vid' 'video'\n",
            " 'visit' 'voic' 'vote' 'wait' 'wake' 'walk' 'wan' 'want' 'war' 'warm'\n",
            " 'wash' 'wasnt' 'wast' 'wat' 'watch' 'water' 'way' 'wear' 'weather' 'web'\n",
            " 'websit' 'wed' 'wednesday' 'week' 'weekend' 'weird' 'welcom' 'well'\n",
            " 'went' 'what' 'whatev' 'where' 'white' 'whole' 'wife' 'win' 'window'\n",
            " 'wine' 'wish' 'wit' 'without' 'woke' 'wolverin' 'wonder' 'wont' 'woo'\n",
            " 'word' 'work' 'world' 'worri' 'wors' 'worst' 'worth' 'would' 'wouldnt'\n",
            " 'wow' 'write' 'wrong' 'wtf' 'xd' 'xoxo' 'ya' 'yall' 'yay' 'yea' 'yeah'\n",
            " 'year' 'yep' 'yes' 'yesterday' 'yet' 'yo' 'youll' 'young' 'your' 'youtub'\n",
            " 'youv' 'yr' 'yum' 'yummi' 'yup']\n"
          ]
        }
      ]
    },
    {
      "cell_type": "markdown",
      "source": [
        "### Завдання 4. Побудова класифікатора\n",
        "\n",
        "- Розділіть індекси даних на навчальний та тестовий набори в обраному співвівдношенні. Використовуючи отримані індекси сфомуйте набори для тренування класифікатора `X_train_bow, X_test_bow, y_train, y_test`.\n",
        "- Навчіть класифікатор (наприклад, Logistic Regression, Decision Tree або один з алгоритмів бустингу) на даних, векторизованих методом bag-of-words. Спробуйте кілька моделей і оберіть найбільш точну :)\n",
        "- Виведіть інформацію, яка дає можливість оцінити якість класифікації.\n",
        "- Оцініть якість фінальної класифікації: вона хороша чи не дуже?\n",
        "\n"
      ],
      "metadata": {
        "id": "v0RHDwO7OBIJ"
      }
    },
    {
      "cell_type": "code",
      "source": [
        "y = raw_df['sentiment']\n",
        "\n",
        "X_train_bow, X_test_bow, y_train, y_test = train_test_split(X, y, test_size=0.25, random_state=42, stratify=y)"
      ],
      "metadata": {
        "id": "NVdpanFFdkyo"
      },
      "execution_count": 16,
      "outputs": []
    },
    {
      "cell_type": "code",
      "source": [
        "# Logistic Regression\n",
        "lr_model = LogisticRegression(max_iter=1000)\n",
        "lr_model.fit(X_train_bow, y_train)\n",
        "y_pred_lr = lr_model.predict(X_test_bow)\n",
        "\n",
        "# Decision Tree\n",
        "dt_model = DecisionTreeClassifier()\n",
        "dt_model.fit(X_train_bow, y_train)\n",
        "y_pred_dt = dt_model.predict(X_test_bow)\n",
        "\n",
        "# Gradient Boosting\n",
        "gb_model = GradientBoostingClassifier()\n",
        "gb_model.fit(X_train_bow, y_train)\n",
        "y_pred_gb = gb_model.predict(X_test_bow)\n",
        "\n",
        "\n",
        "def print_report(y_test, y_pred, model_name):\n",
        "    print(f\"Results for {model_name}:\")\n",
        "    print(classification_report(y_test, y_pred))\n",
        "    print(\"Accuracy:\", accuracy_score(y_test, y_pred))\n",
        "\n",
        "print_report(y_test, y_pred_lr, \"Logistic Regression\")\n",
        "print_report(y_test, y_pred_dt, \"Decision Tree\")\n",
        "print_report(y_test, y_pred_gb, \"Gradient Boosting\")"
      ],
      "metadata": {
        "colab": {
          "base_uri": "https://localhost:8080/"
        },
        "id": "pI26stAePUQB",
        "outputId": "404eb7fb-a4e3-4cf0-f50b-6c1260be5eb3"
      },
      "execution_count": 17,
      "outputs": [
        {
          "output_type": "stream",
          "name": "stdout",
          "text": [
            "Results for Logistic Regression:\n",
            "              precision    recall  f1-score   support\n",
            "\n",
            "    negative       0.70      0.59      0.64      1945\n",
            "     neutral       0.62      0.74      0.68      2779\n",
            "    positive       0.77      0.70      0.73      2146\n",
            "\n",
            "    accuracy                           0.68      6870\n",
            "   macro avg       0.70      0.68      0.68      6870\n",
            "weighted avg       0.69      0.68      0.68      6870\n",
            "\n",
            "Accuracy: 0.6831149927219796\n",
            "Results for Decision Tree:\n",
            "              precision    recall  f1-score   support\n",
            "\n",
            "    negative       0.57      0.61      0.59      1945\n",
            "     neutral       0.59      0.58      0.58      2779\n",
            "    positive       0.68      0.66      0.67      2146\n",
            "\n",
            "    accuracy                           0.61      6870\n",
            "   macro avg       0.61      0.62      0.61      6870\n",
            "weighted avg       0.61      0.61      0.61      6870\n",
            "\n",
            "Accuracy: 0.6120815138282387\n",
            "Results for Gradient Boosting:\n",
            "              precision    recall  f1-score   support\n",
            "\n",
            "    negative       0.77      0.44      0.56      1945\n",
            "     neutral       0.57      0.83      0.68      2779\n",
            "    positive       0.78      0.62      0.69      2146\n",
            "\n",
            "    accuracy                           0.65      6870\n",
            "   macro avg       0.71      0.63      0.64      6870\n",
            "weighted avg       0.69      0.65      0.65      6870\n",
            "\n",
            "Accuracy: 0.654585152838428\n"
          ]
        }
      ]
    },
    {
      "cell_type": "markdown",
      "source": [
        "**Висновок** : Logistic Regression класифікатор забезпечив найкращу загальну точність і збалансованість метрик серед трьох розглянутих моделей.Метрика Precision є високою для класу positive, що вказує на надійність моделі у визначенні позитивних відгуків, але для neutral і особливо для negative є місце для покращення.\n",
        "Recall для negative різко нижчий за інші класи, що означає, що багато негативних відгуків модель пропускає або неправильно класифікує.Для neutral і positive класів F1-бали досить хороші (~0.68 і 0.73 відповідно), але для negative класу досі є простір для покращення.Модель Logistic Regression, загалом, робить свою роботу задовільно, але її точність і здатність правильно ідентифікувати всі класи потребують вдосконалення."
      ],
      "metadata": {
        "id": "k4JoSzu-QveY"
      }
    },
    {
      "cell_type": "markdown",
      "source": [
        "### Завдання 5. Аналіз впливовості слів в отриманого класифікатора\n",
        "\n",
        "- Для обраної вами моделі проведіть аналіз важливості слів (ознак): які слова (токени) найбільше впливають для визначення сентименту? Чи це логічно на ваш погляд, що саме ці символи впливають найбільше/найменще?\n"
      ],
      "metadata": {
        "id": "53hZa4bKP5Cx"
      }
    },
    {
      "cell_type": "code",
      "source": [
        "feature_names = vectorizer.get_feature_names_out()\n",
        "coefficients = lr_model.coef_"
      ],
      "metadata": {
        "id": "p7Q_PIZkSnyk"
      },
      "execution_count": 18,
      "outputs": []
    },
    {
      "cell_type": "code",
      "source": [
        "class_labels = ['negative', 'neutral', 'positive']\n",
        "\n",
        "\n",
        "feature_importances = pd.DataFrame(coefficients.T, index=feature_names, columns=class_labels)\n",
        "\n",
        "# найбільш значимі слова для кожного класу\n",
        "top_positive_features = feature_importances['positive'].sort_values(ascending=False).head()\n",
        "top_neutral_features = feature_importances['neutral'].sort_values(ascending=False).head()\n",
        "top_negative_features = feature_importances['negative'].sort_values(ascending=False).head()\n",
        "\n",
        "print(\"Top positive features:\", top_positive_features)\n",
        "print(\"Top neutral features:\", top_neutral_features)\n",
        "print(\"Top negative features:\", top_negative_features)"
      ],
      "metadata": {
        "id": "z0YBHvG4dmKb",
        "colab": {
          "base_uri": "https://localhost:8080/"
        },
        "outputId": "7723cd49-7396-4e5e-f5e8-819cfa08851d"
      },
      "execution_count": 19,
      "outputs": [
        {
          "output_type": "stream",
          "name": "stdout",
          "text": [
            "Top positive features: awesom    2.532401\n",
            "amaz      2.421188\n",
            "cute      2.361508\n",
            "thank     2.346794\n",
            "love      2.287183\n",
            "Name: positive, dtype: float64\n",
            "Top neutral features: how         1.246518\n",
            "wolverin    0.839913\n",
            "guitar      0.787897\n",
            "lesson      0.755502\n",
            "jus         0.742172\n",
            "Name: neutral, dtype: float64\n",
            "Top negative features: sad      2.477658\n",
            "suck     2.334764\n",
            "sorri    2.174116\n",
            "hate     2.172401\n",
            "worst    2.102624\n",
            "Name: negative, dtype: float64\n"
          ]
        }
      ]
    },
    {
      "cell_type": "markdown",
      "source": [
        "**Висновок**\n",
        "\n",
        "Позитивні ознаки:\n",
        "awesom, thank, cute, amaz, love\n",
        "Ці слова класично асоціюються з позитивними емоціями та враженнями.\n",
        "\n",
        "Нейтральні слова : цей набір слів менш очевидний, але можна висунути гіпотезу, що ці слова використовуються у контекстах, які зазвичай є описовими чи розповідають про процес, що не несе явно вираженого емоційного забарвлення.\n",
        "\n",
        "Негативні слова: ці слова зазвичай використовуються, коли висловлюється розчарування, невдоволення, антипатія чи інші негативні емоції\n"
      ],
      "metadata": {
        "id": "jKjyf5HaTi0E"
      }
    },
    {
      "cell_type": "markdown",
      "source": [
        "### Завдання 6. Векторизація текстів з допомогою TF-IDF. Тренування класифікатора, аналіз точності і впливовості слів.\n",
        "\n",
        "- Проведіть векторизацію текстів з векторизатором TfidfVectorizer. Реалізуйте векторизацію так, аби препроцесинг включав всі ті самі кроки, що і в випадку використання векторизації Bag of Words.\n",
        "\n",
        "- Натренуйте той самий класифікатор на TF-IDF векторах, виконавши розбивку набору даних на train, test так, аби в трейні були всі ті самі записи, що і були в попередньому завданні (це важливо для порівняння результатів).\n",
        "\n",
        "- Проаналізуйте якість класифікації вивівши потрібні для цього метрики. Чи стала якість класифікації кращою?\n",
        "\n",
        "- Які токени найбільше впливають на результат при тренуваннні класифікатора з TF-IDF векторами? Порівняйте з найважливішими токенами при Bag of Words векторизації. Яку векторизацію ви б обрали для фінальної імплементації рішення? Обґрунтуйте свій вибір.\n",
        "\n"
      ],
      "metadata": {
        "id": "FvJlvr9JRhzq"
      }
    },
    {
      "cell_type": "code",
      "source": [
        "text_data=raw_df['text']\n",
        "y = raw_df['sentiment']\n",
        "\n",
        "tfidf_vectorizer = TfidfVectorizer(preprocessor=preprocess_text)\n",
        "X_tfidf = tfidf_vectorizer.fit_transform(text_data)\n",
        "\n",
        "\n",
        "X_train_tfidf, X_test_tfidf, y_train, y_test = train_test_split(X_tfidf, y, test_size=0.25, random_state=42, stratify=y)"
      ],
      "metadata": {
        "id": "huUPpVhMdodx"
      },
      "execution_count": 20,
      "outputs": []
    },
    {
      "cell_type": "code",
      "source": [
        "lr_model_tfidf = LogisticRegression(random_state=42, max_iter=1000)\n",
        "lr_model_tfidf.fit(X_train_tfidf, y_train)\n",
        "\n",
        "\n",
        "predictions_tfidf = lr_model_tfidf.predict(X_test_tfidf)\n",
        "print(classification_report(y_test, predictions_tfidf))\n",
        "print(\"Accuracy:\", accuracy_score(y_test, predictions_tfidf))"
      ],
      "metadata": {
        "colab": {
          "base_uri": "https://localhost:8080/"
        },
        "id": "WCGiQeOWZFSj",
        "outputId": "6a7e60e8-36d0-47a8-9f21-e7c74ad23da0"
      },
      "execution_count": 21,
      "outputs": [
        {
          "output_type": "stream",
          "name": "stdout",
          "text": [
            "              precision    recall  f1-score   support\n",
            "\n",
            "    negative       0.73      0.58      0.65      1945\n",
            "     neutral       0.61      0.77      0.68      2779\n",
            "    positive       0.78      0.67      0.72      2146\n",
            "\n",
            "    accuracy                           0.68      6870\n",
            "   macro avg       0.71      0.67      0.68      6870\n",
            "weighted avg       0.70      0.68      0.68      6870\n",
            "\n",
            "Accuracy: 0.6835516739446871\n"
          ]
        }
      ]
    },
    {
      "cell_type": "code",
      "source": [
        "feature_names_tfidf = tfidf_vectorizer.get_feature_names_out()\n",
        "coefficients_tfidf = lr_model_tfidf.coef_\n",
        "feature_importances_tfidf = pd.DataFrame(coefficients_tfidf.T, index=feature_names_tfidf, columns=['negative', 'neutral', 'positive'])\n",
        "\n",
        "\n",
        "top_features_tfidf = {\n",
        "    'positive': feature_importances_tfidf['positive'].sort_values(ascending=False).head(),\n",
        "    'neutral': feature_importances_tfidf['neutral'].sort_values(ascending=False).head(),\n",
        "    'negative': feature_importances_tfidf['negative'].sort_values(ascending=False).head()\n",
        "}\n",
        "print(\"Top TF-IDF Features:\", top_features_tfidf)"
      ],
      "metadata": {
        "colab": {
          "base_uri": "https://localhost:8080/"
        },
        "id": "Jt-UrV_uZLRo",
        "outputId": "b2c28f46-e998-40e7-fb6a-8f4129a04462"
      },
      "execution_count": 22,
      "outputs": [
        {
          "output_type": "stream",
          "name": "stdout",
          "text": [
            "Top TF-IDF Features: {'positive': love      7.023877\n",
            "thank     6.081792\n",
            "great     4.857101\n",
            "awesom    4.848969\n",
            "good      4.727564\n",
            "Name: positive, dtype: float64, 'neutral': how       1.646357\n",
            "guitar    1.249808\n",
            "indoor    1.170832\n",
            "relat     1.150836\n",
            "differ    1.089598\n",
            "Name: neutral, dtype: float64, 'negative': sad      5.401216\n",
            "miss     5.255678\n",
            "sorri    4.637224\n",
            "hate     4.479750\n",
            "suck     4.245232\n",
            "Name: negative, dtype: float64}\n"
          ]
        }
      ]
    },
    {
      "cell_type": "markdown",
      "source": [
        "**Висновок**:\n",
        " - Моделі демонструють досить схожі результати.\n",
        " - ця модель має вищу precision над негативними твітами\n",
        " - при порівнянні впливу токенів з попередньою моделлю можна зробити висновок що обидва набори характеристик досить добре відображають емоційний забарвлення,однак  остання модель, можливо, забезпечує більш виражену емоційну відмінність,оскільки має вищі показники TF-IDF\n",
        " - я б вибрала останню модель,оскільки вона має дещо краще показники, і виведення найвпливовіших слів мені здається більш влучне в порівнянні з попереднім.\n",
        "\n",
        "\n",
        "\n",
        "\n",
        "\n"
      ],
      "metadata": {
        "id": "x0kYOhbqdAVq"
      }
    },
    {
      "cell_type": "markdown",
      "source": [
        "### Завдання 7. Аналіз помилок класифікації з векторизацією TF-IDF.\n",
        "\n",
        "- Проаналізуйте, на яких екземплярах помиляється класифікатор при векторизації TF-IDF.\n",
        "- На основі аналізу запропонуйте 3 шляхи поліпшення якості класифікації."
      ],
      "metadata": {
        "id": "3zsp9KftOqyS"
      }
    },
    {
      "cell_type": "code",
      "source": [
        "raw_df['prediction'] = lr_model_tfidf.predict(X_tfidf)"
      ],
      "metadata": {
        "id": "RbnvtiL8Y-D-"
      },
      "execution_count": 23,
      "outputs": []
    },
    {
      "cell_type": "code",
      "source": [
        "raw_df['prediction_proba'] = lr_model_tfidf.predict_proba(X_tfidf)[:, 1]"
      ],
      "metadata": {
        "id": "5INJ02tZjgZ2"
      },
      "execution_count": 24,
      "outputs": []
    },
    {
      "cell_type": "code",
      "source": [
        "y.value_counts()"
      ],
      "metadata": {
        "colab": {
          "base_uri": "https://localhost:8080/",
          "height": 209
        },
        "id": "xyzEaEQbiyiS",
        "outputId": "8d529719-7730-48c6-9268-896d94d3119d"
      },
      "execution_count": 25,
      "outputs": [
        {
          "output_type": "execute_result",
          "data": {
            "text/plain": [
              "sentiment\n",
              "neutral     11117\n",
              "positive     8582\n",
              "negative     7781\n",
              "Name: count, dtype: int64"
            ],
            "text/html": [
              "<div>\n",
              "<style scoped>\n",
              "    .dataframe tbody tr th:only-of-type {\n",
              "        vertical-align: middle;\n",
              "    }\n",
              "\n",
              "    .dataframe tbody tr th {\n",
              "        vertical-align: top;\n",
              "    }\n",
              "\n",
              "    .dataframe thead th {\n",
              "        text-align: right;\n",
              "    }\n",
              "</style>\n",
              "<table border=\"1\" class=\"dataframe\">\n",
              "  <thead>\n",
              "    <tr style=\"text-align: right;\">\n",
              "      <th></th>\n",
              "      <th>count</th>\n",
              "    </tr>\n",
              "    <tr>\n",
              "      <th>sentiment</th>\n",
              "      <th></th>\n",
              "    </tr>\n",
              "  </thead>\n",
              "  <tbody>\n",
              "    <tr>\n",
              "      <th>neutral</th>\n",
              "      <td>11117</td>\n",
              "    </tr>\n",
              "    <tr>\n",
              "      <th>positive</th>\n",
              "      <td>8582</td>\n",
              "    </tr>\n",
              "    <tr>\n",
              "      <th>negative</th>\n",
              "      <td>7781</td>\n",
              "    </tr>\n",
              "  </tbody>\n",
              "</table>\n",
              "</div><br><label><b>dtype:</b> int64</label>"
            ]
          },
          "metadata": {},
          "execution_count": 25
        }
      ]
    },
    {
      "cell_type": "code",
      "source": [
        "raw_df.prediction_proba.hist(bins=100)"
      ],
      "metadata": {
        "colab": {
          "base_uri": "https://localhost:8080/",
          "height": 447
        },
        "id": "74G-vWqbjVn1",
        "outputId": "e226bc15-3c16-4f79-a4af-0e03ab53453b"
      },
      "execution_count": 26,
      "outputs": [
        {
          "output_type": "execute_result",
          "data": {
            "text/plain": [
              "<Axes: >"
            ]
          },
          "metadata": {},
          "execution_count": 26
        },
        {
          "output_type": "display_data",
          "data": {
            "text/plain": [
              "<Figure size 640x480 with 1 Axes>"
            ],
            "image/png": "[encoded data removed]"
          },
          "metadata": {}
        }
      ]
    },
    {
      "cell_type": "code",
      "source": [
        "from sklearn.metrics import accuracy_score, f1_score"
      ],
      "metadata": {
        "id": "nLyE4QNpkh2G"
      },
      "execution_count": 27,
      "outputs": []
    },
    {
      "cell_type": "code",
      "source": [
        "raw_df['error'] = y != raw_df['prediction']"
      ],
      "metadata": {
        "id": "UjN5WQlcllO9"
      },
      "execution_count": 28,
      "outputs": []
    },
    {
      "cell_type": "code",
      "source": [
        "raw_df[raw_df.error & y==1]"
      ],
      "metadata": {
        "colab": {
          "base_uri": "https://localhost:8080/",
          "height": 663
        },
        "id": "A_gHspG6mN-y",
        "outputId": "cb91f632-3bbc-4d54-ce20-206490463269"
      },
      "execution_count": 29,
      "outputs": [
        {
          "output_type": "execute_result",
          "data": {
            "text/plain": [
              "                                                         text  \\\n",
              "textID                                                          \n",
              "9642c003ef                     what interview! leave me alone   \n",
              "358bd9e861   Sons of ****, why couldn`t they put them on t...   \n",
              "50e14c0bb8                                         Soooo high   \n",
              "2339a9b08b   as much as i love to be hopeful, i reckon the...   \n",
              "74a76f6e0a       My Sharpie is running DANGERously low on ink   \n",
              "...                                                       ...   \n",
              "7fd422900b      I GET IT.  YOU ESPLAINED IT TO ME AWHILE AGO.   \n",
              "8f5adc47ec  http://twitpic.com/663vr - Wanted to visit the...   \n",
              "8f14bb2715  So I get up early and I feel good about the da...   \n",
              "4f4c4fc327   I`ve wondered about rake to.  The client has ...   \n",
              "6f7127d9d7     All this flirting going on - The ATG smiles...   \n",
              "\n",
              "                                                selected_text sentiment  \\\n",
              "textID                                                                    \n",
              "9642c003ef                                     leave me alone  negative   \n",
              "358bd9e861                                      Sons of ****,  negative   \n",
              "50e14c0bb8                                         Soooo high   neutral   \n",
              "2339a9b08b  as much as i love to be hopeful, i reckon the ...   neutral   \n",
              "74a76f6e0a                                        DANGERously  negative   \n",
              "...                                                       ...       ...   \n",
              "7fd422900b                                          I GET IT.  negative   \n",
              "8f5adc47ec                                      were too late  negative   \n",
              "8f14bb2715                                     I feel good ab  positive   \n",
              "4f4c4fc327                                      , don`t force  negative   \n",
              "6f7127d9d7  All this flirting going on - The ATG smiles. Y...   neutral   \n",
              "\n",
              "            text_length                                     processed_text  \\\n",
              "textID                                                                       \n",
              "9642c003ef           31                                interview leav alon   \n",
              "358bd9e861           75              son couldnt put releas alreadi bought   \n",
              "50e14c0bb8           10                                         soooo high   \n",
              "2339a9b08b          107  much love hope reckon chanc minim p im never g...   \n",
              "74a76f6e0a           44                          sharpi run danger low ink   \n",
              "...                 ...                                                ...   \n",
              "7fd422900b           46                              get esplain awhil ago   \n",
              "8f5adc47ec           75                               want visit anim late   \n",
              "8f14bb2715          126  get earli feel good day walk work im feel alri...   \n",
              "4f4c4fc327          122  ive wonder rake client made clear net dont for...   \n",
              "6f7127d9d7           62                         flirt go atg smile yay hug   \n",
              "\n",
              "           prediction  prediction_proba  error  \n",
              "textID                                          \n",
              "9642c003ef    neutral          0.390670   True  \n",
              "358bd9e861    neutral          0.457445   True  \n",
              "50e14c0bb8   negative          0.279667   True  \n",
              "2339a9b08b   positive          0.318896   True  \n",
              "74a76f6e0a    neutral          0.618916   True  \n",
              "...               ...               ...    ...  \n",
              "7fd422900b    neutral          0.508459   True  \n",
              "8f5adc47ec    neutral          0.493177   True  \n",
              "8f14bb2715   negative          0.329075   True  \n",
              "4f4c4fc327    neutral          0.546748   True  \n",
              "6f7127d9d7   positive          0.336575   True  \n",
              "\n",
              "[6060 rows x 8 columns]"
            ],
            "text/html": [
              "\n",
              "  <div id=\"df-43948737-84c5-47c2-bc99-27a84f18c569\" class=\"colab-df-container\">\n",
              "    <div>\n",
              "<style scoped>\n",
              "    .dataframe tbody tr th:only-of-type {\n",
              "        vertical-align: middle;\n",
              "    }\n",
              "\n",
              "    .dataframe tbody tr th {\n",
              "        vertical-align: top;\n",
              "    }\n",
              "\n",
              "    .dataframe thead th {\n",
              "        text-align: right;\n",
              "    }\n",
              "</style>\n",
              "<table border=\"1\" class=\"dataframe\">\n",
              "  <thead>\n",
              "    <tr style=\"text-align: right;\">\n",
              "      <th></th>\n",
              "      <th>text</th>\n",
              "      <th>selected_text</th>\n",
              "      <th>sentiment</th>\n",
              "      <th>text_length</th>\n",
              "      <th>processed_text</th>\n",
              "      <th>prediction</th>\n",
              "      <th>prediction_proba</th>\n",
              "      <th>error</th>\n",
              "    </tr>\n",
              "    <tr>\n",
              "      <th>textID</th>\n",
              "      <th></th>\n",
              "      <th></th>\n",
              "      <th></th>\n",
              "      <th></th>\n",
              "      <th></th>\n",
              "      <th></th>\n",
              "      <th></th>\n",
              "      <th></th>\n",
              "    </tr>\n",
              "  </thead>\n",
              "  <tbody>\n",
              "    <tr>\n",
              "      <th>9642c003ef</th>\n",
              "      <td>what interview! leave me alone</td>\n",
              "      <td>leave me alone</td>\n",
              "      <td>negative</td>\n",
              "      <td>31</td>\n",
              "      <td>interview leav alon</td>\n",
              "      <td>neutral</td>\n",
              "      <td>0.390670</td>\n",
              "      <td>True</td>\n",
              "    </tr>\n",
              "    <tr>\n",
              "      <th>358bd9e861</th>\n",
              "      <td>Sons of ****, why couldn`t they put them on t...</td>\n",
              "      <td>Sons of ****,</td>\n",
              "      <td>negative</td>\n",
              "      <td>75</td>\n",
              "      <td>son couldnt put releas alreadi bought</td>\n",
              "      <td>neutral</td>\n",
              "      <td>0.457445</td>\n",
              "      <td>True</td>\n",
              "    </tr>\n",
              "    <tr>\n",
              "      <th>50e14c0bb8</th>\n",
              "      <td>Soooo high</td>\n",
              "      <td>Soooo high</td>\n",
              "      <td>neutral</td>\n",
              "      <td>10</td>\n",
              "      <td>soooo high</td>\n",
              "      <td>negative</td>\n",
              "      <td>0.279667</td>\n",
              "      <td>True</td>\n",
              "    </tr>\n",
              "    <tr>\n",
              "      <th>2339a9b08b</th>\n",
              "      <td>as much as i love to be hopeful, i reckon the...</td>\n",
              "      <td>as much as i love to be hopeful, i reckon the ...</td>\n",
              "      <td>neutral</td>\n",
              "      <td>107</td>\n",
              "      <td>much love hope reckon chanc minim p im never g...</td>\n",
              "      <td>positive</td>\n",
              "      <td>0.318896</td>\n",
              "      <td>True</td>\n",
              "    </tr>\n",
              "    <tr>\n",
              "      <th>74a76f6e0a</th>\n",
              "      <td>My Sharpie is running DANGERously low on ink</td>\n",
              "      <td>DANGERously</td>\n",
              "      <td>negative</td>\n",
              "      <td>44</td>\n",
              "      <td>sharpi run danger low ink</td>\n",
              "      <td>neutral</td>\n",
              "      <td>0.618916</td>\n",
              "      <td>True</td>\n",
              "    </tr>\n",
              "    <tr>\n",
              "      <th>...</th>\n",
              "      <td>...</td>\n",
              "      <td>...</td>\n",
              "      <td>...</td>\n",
              "      <td>...</td>\n",
              "      <td>...</td>\n",
              "      <td>...</td>\n",
              "      <td>...</td>\n",
              "      <td>...</td>\n",
              "    </tr>\n",
              "    <tr>\n",
              "      <th>7fd422900b</th>\n",
              "      <td>I GET IT.  YOU ESPLAINED IT TO ME AWHILE AGO.</td>\n",
              "      <td>I GET IT.</td>\n",
              "      <td>negative</td>\n",
              "      <td>46</td>\n",
              "      <td>get esplain awhil ago</td>\n",
              "      <td>neutral</td>\n",
              "      <td>0.508459</td>\n",
              "      <td>True</td>\n",
              "    </tr>\n",
              "    <tr>\n",
              "      <th>8f5adc47ec</th>\n",
              "      <td>http://twitpic.com/663vr - Wanted to visit the...</td>\n",
              "      <td>were too late</td>\n",
              "      <td>negative</td>\n",
              "      <td>75</td>\n",
              "      <td>want visit anim late</td>\n",
              "      <td>neutral</td>\n",
              "      <td>0.493177</td>\n",
              "      <td>True</td>\n",
              "    </tr>\n",
              "    <tr>\n",
              "      <th>8f14bb2715</th>\n",
              "      <td>So I get up early and I feel good about the da...</td>\n",
              "      <td>I feel good ab</td>\n",
              "      <td>positive</td>\n",
              "      <td>126</td>\n",
              "      <td>get earli feel good day walk work im feel alri...</td>\n",
              "      <td>negative</td>\n",
              "      <td>0.329075</td>\n",
              "      <td>True</td>\n",
              "    </tr>\n",
              "    <tr>\n",
              "      <th>4f4c4fc327</th>\n",
              "      <td>I`ve wondered about rake to.  The client has ...</td>\n",
              "      <td>, don`t force</td>\n",
              "      <td>negative</td>\n",
              "      <td>122</td>\n",
              "      <td>ive wonder rake client made clear net dont for...</td>\n",
              "      <td>neutral</td>\n",
              "      <td>0.546748</td>\n",
              "      <td>True</td>\n",
              "    </tr>\n",
              "    <tr>\n",
              "      <th>6f7127d9d7</th>\n",
              "      <td>All this flirting going on - The ATG smiles...</td>\n",
              "      <td>All this flirting going on - The ATG smiles. Y...</td>\n",
              "      <td>neutral</td>\n",
              "      <td>62</td>\n",
              "      <td>flirt go atg smile yay hug</td>\n",
              "      <td>positive</td>\n",
              "      <td>0.336575</td>\n",
              "      <td>True</td>\n",
              "    </tr>\n",
              "  </tbody>\n",
              "</table>\n",
              "<p>6060 rows × 8 columns</p>\n",
              "</div>\n",
              "    <div class=\"colab-df-buttons\">\n",
              "\n",
              "  <div class=\"colab-df-container\">\n",
              "    <button class=\"colab-df-convert\" onclick=\"convertToInteractive('df-43948737-84c5-47c2-bc99-27a84f18c569')\"\n",
              "            title=\"Convert this dataframe to an interactive table.\"\n",
              "            style=\"display:none;\">\n",
              "\n",
              "  <svg xmlns=\"http://www.w3.org/2000/svg\" height=\"24px\" viewBox=\"0 -960 960 960\">\n",
              "    <path d=\"M120-120v-720h720v720H120Zm60-500h600v-160H180v160Zm220 220h160v-160H400v160Zm0 220h160v-160H400v160ZM180-400h160v-160H180v160Zm440 0h160v-160H620v160ZM180-180h160v-160H180v160Zm440 0h160v-160H620v160Z\"/>\n",
              "  </svg>\n",
              "    </button>\n",
              "\n",
              "  <style>\n",
              "    .colab-df-container {\n",
              "      display:flex;\n",
              "      gap: 12px;\n",
              "    }\n",
              "\n",
              "    .colab-df-convert {\n",
              "      background-color: #E8F0FE;\n",
              "      border: none;\n",
              "      border-radius: 50%;\n",
              "      cursor: pointer;\n",
              "      display: none;\n",
              "      fill: #1967D2;\n",
              "      height: 32px;\n",
              "      padding: 0 0 0 0;\n",
              "      width: 32px;\n",
              "    }\n",
              "\n",
              "    .colab-df-convert:hover {\n",
              "      background-color: #E2EBFA;\n",
              "      box-shadow: 0px 1px 2px rgba(60, 64, 67, 0.3), 0px 1px 3px 1px rgba(60, 64, 67, 0.15);\n",
              "      fill: #174EA6;\n",
              "    }\n",
              "\n",
              "    .colab-df-buttons div {\n",
              "      margin-bottom: 4px;\n",
              "    }\n",
              "\n",
              "    [theme=dark] .colab-df-convert {\n",
              "      background-color: #3B4455;\n",
              "      fill: #D2E3FC;\n",
              "    }\n",
              "\n",
              "    [theme=dark] .colab-df-convert:hover {\n",
              "      background-color: #434B5C;\n",
              "      box-shadow: 0px 1px 3px 1px rgba(0, 0, 0, 0.15);\n",
              "      filter: drop-shadow(0px 1px 2px rgba(0, 0, 0, 0.3));\n",
              "      fill: #FFFFFF;\n",
              "    }\n",
              "  </style>\n",
              "\n",
              "    <script>\n",
              "      const buttonEl =\n",
              "        document.querySelector('#df-43948737-84c5-47c2-bc99-27a84f18c569 button.colab-df-convert');\n",
              "      buttonEl.style.display =\n",
              "        google.colab.kernel.accessAllowed ? 'block' : 'none';\n",
              "\n",
              "      async function convertToInteractive(key) {\n",
              "        const element = document.querySelector('#df-43948737-84c5-47c2-bc99-27a84f18c569');\n",
              "        const dataTable =\n",
              "          await google.colab.kernel.invokeFunction('convertToInteractive',\n",
              "                                                    [key], {});\n",
              "        if (!dataTable) return;\n",
              "\n",
              "        const docLinkHtml = 'Like what you see? Visit the ' +\n",
              "          '<a target=\"_blank\" href=https://colab.research.google.com/notebooks/data_table.ipynb>data table notebook</a>'\n",
              "          + ' to learn more about interactive tables.';\n",
              "        element.innerHTML = '';\n",
              "        dataTable['output_type'] = 'display_data';\n",
              "        await google.colab.output.renderOutput(dataTable, element);\n",
              "        const docLink = document.createElement('div');\n",
              "        docLink.innerHTML = docLinkHtml;\n",
              "        element.appendChild(docLink);\n",
              "      }\n",
              "    </script>\n",
              "  </div>\n",
              "\n",
              "\n",
              "<div id=\"df-2516fa36-6b1c-4bdb-ae7b-22a7098d3f19\">\n",
              "  <button class=\"colab-df-quickchart\" onclick=\"quickchart('df-2516fa36-6b1c-4bdb-ae7b-22a7098d3f19')\"\n",
              "            title=\"Suggest charts\"\n",
              "            style=\"display:none;\">\n",
              "\n",
              "<svg xmlns=\"http://www.w3.org/2000/svg\" height=\"24px\"viewBox=\"0 0 24 24\"\n",
              "     width=\"24px\">\n",
              "    <g>\n",
              "        <path d=\"M19 3H5c-1.1 0-2 .9-2 2v14c0 1.1.9 2 2 2h14c1.1 0 2-.9 2-2V5c0-1.1-.9-2-2-2zM9 17H7v-7h2v7zm4 0h-2V7h2v10zm4 0h-2v-4h2v4z\"/>\n",
              "    </g>\n",
              "</svg>\n",
              "  </button>\n",
              "\n",
              "<style>\n",
              "  .colab-df-quickchart {\n",
              "      --bg-color: #E8F0FE;\n",
              "      --fill-color: #1967D2;\n",
              "      --hover-bg-color: #E2EBFA;\n",
              "      --hover-fill-color: #174EA6;\n",
              "      --disabled-fill-color: #AAA;\n",
              "      --disabled-bg-color: #DDD;\n",
              "  }\n",
              "\n",
              "  [theme=dark] .colab-df-quickchart {\n",
              "      --bg-color: #3B4455;\n",
              "      --fill-color: #D2E3FC;\n",
              "      --hover-bg-color: #434B5C;\n",
              "      --hover-fill-color: #FFFFFF;\n",
              "      --disabled-bg-color: #3B4455;\n",
              "      --disabled-fill-color: #666;\n",
              "  }\n",
              "\n",
              "  .colab-df-quickchart {\n",
              "    background-color: var(--bg-color);\n",
              "    border: none;\n",
              "    border-radius: 50%;\n",
              "    cursor: pointer;\n",
              "    display: none;\n",
              "    fill: var(--fill-color);\n",
              "    height: 32px;\n",
              "    padding: 0;\n",
              "    width: 32px;\n",
              "  }\n",
              "\n",
              "  .colab-df-quickchart:hover {\n",
              "    background-color: var(--hover-bg-color);\n",
              "    box-shadow: 0 1px 2px rgba(60, 64, 67, 0.3), 0 1px 3px 1px rgba(60, 64, 67, 0.15);\n",
              "    fill: var(--button-hover-fill-color);\n",
              "  }\n",
              "\n",
              "  .colab-df-quickchart-complete:disabled,\n",
              "  .colab-df-quickchart-complete:disabled:hover {\n",
              "    background-color: var(--disabled-bg-color);\n",
              "    fill: var(--disabled-fill-color);\n",
              "    box-shadow: none;\n",
              "  }\n",
              "\n",
              "  .colab-df-spinner {\n",
              "    border: 2px solid var(--fill-color);\n",
              "    border-color: transparent;\n",
              "    border-bottom-color: var(--fill-color);\n",
              "    animation:\n",
              "      spin 1s steps(1) infinite;\n",
              "  }\n",
              "\n",
              "  @keyframes spin {\n",
              "    0% {\n",
              "      border-color: transparent;\n",
              "      border-bottom-color: var(--fill-color);\n",
              "      border-left-color: var(--fill-color);\n",
              "    }\n",
              "    20% {\n",
              "      border-color: transparent;\n",
              "      border-left-color: var(--fill-color);\n",
              "      border-top-color: var(--fill-color);\n",
              "    }\n",
              "    30% {\n",
              "      border-color: transparent;\n",
              "      border-left-color: var(--fill-color);\n",
              "      border-top-color: var(--fill-color);\n",
              "      border-right-color: var(--fill-color);\n",
              "    }\n",
              "    40% {\n",
              "      border-color: transparent;\n",
              "      border-right-color: var(--fill-color);\n",
              "      border-top-color: var(--fill-color);\n",
              "    }\n",
              "    60% {\n",
              "      border-color: transparent;\n",
              "      border-right-color: var(--fill-color);\n",
              "    }\n",
              "    80% {\n",
              "      border-color: transparent;\n",
              "      border-right-color: var(--fill-color);\n",
              "      border-bottom-color: var(--fill-color);\n",
              "    }\n",
              "    90% {\n",
              "      border-color: transparent;\n",
              "      border-bottom-color: var(--fill-color);\n",
              "    }\n",
              "  }\n",
              "</style>\n",
              "\n",
              "  <script>\n",
              "    async function quickchart(key) {\n",
              "      const quickchartButtonEl =\n",
              "        document.querySelector('#' + key + ' button');\n",
              "      quickchartButtonEl.disabled = true;  // To prevent multiple clicks.\n",
              "      quickchartButtonEl.classList.add('colab-df-spinner');\n",
              "      try {\n",
              "        const charts = await google.colab.kernel.invokeFunction(\n",
              "            'suggestCharts', [key], {});\n",
              "      } catch (error) {\n",
              "        console.error('Error during call to suggestCharts:', error);\n",
              "      }\n",
              "      quickchartButtonEl.classList.remove('colab-df-spinner');\n",
              "      quickchartButtonEl.classList.add('colab-df-quickchart-complete');\n",
              "    }\n",
              "    (() => {\n",
              "      let quickchartButtonEl =\n",
              "        document.querySelector('#df-2516fa36-6b1c-4bdb-ae7b-22a7098d3f19 button');\n",
              "      quickchartButtonEl.style.display =\n",
              "        google.colab.kernel.accessAllowed ? 'block' : 'none';\n",
              "    })();\n",
              "  </script>\n",
              "</div>\n",
              "    </div>\n",
              "  </div>\n"
            ],
            "application/vnd.google.colaboratory.intrinsic+json": {
              "type": "dataframe",
              "summary": "{\n  \"name\": \"raw_df[raw_df\",\n  \"rows\": 6060,\n  \"fields\": [\n    {\n      \"column\": \"textID\",\n      \"properties\": {\n        \"dtype\": \"string\",\n        \"num_unique_values\": 6060,\n        \"samples\": [\n          \"2e98e67d95\",\n          \"dd8b781cd9\",\n          \"13259c1890\"\n        ],\n        \"semantic_type\": \"\",\n        \"description\": \"\"\n      }\n    },\n    {\n      \"column\": \"text\",\n      \"properties\": {\n        \"dtype\": \"string\",\n        \"num_unique_values\": 6060,\n        \"samples\": [\n          \" omg yes!!!!!!! but I have to get ready for work early tonight  I have payroll distribution duty\",\n          \" Good night.  Sorry I missed you during our morning window.  See you at 5, I suspect.\",\n          \" - we wouldn`t miss it for the world!  ICCVB meetings  Mon-Wed....  the fun is just beginning\"\n        ],\n        \"semantic_type\": \"\",\n        \"description\": \"\"\n      }\n    },\n    {\n      \"column\": \"selected_text\",\n      \"properties\": {\n        \"dtype\": \"string\",\n        \"num_unique_values\": 5612,\n        \"samples\": [\n          \"there`s no food\",\n          \"I don`t wanna go to work\",\n          \"I already did..\"\n        ],\n        \"semantic_type\": \"\",\n        \"description\": \"\"\n      }\n    },\n    {\n      \"column\": \"sentiment\",\n      \"properties\": {\n        \"dtype\": \"category\",\n        \"num_unique_values\": 3,\n        \"samples\": [\n          \"negative\",\n          \"neutral\",\n          \"positive\"\n        ],\n        \"semantic_type\": \"\",\n        \"description\": \"\"\n      }\n    },\n    {\n      \"column\": \"text_length\",\n      \"properties\": {\n        \"dtype\": \"number\",\n        \"std\": 35,\n        \"min\": 4,\n        \"max\": 138,\n        \"num_unique_values\": 135,\n        \"samples\": [\n          24,\n          46,\n          98\n        ],\n        \"semantic_type\": \"\",\n        \"description\": \"\"\n      }\n    },\n    {\n      \"column\": \"processed_text\",\n      \"properties\": {\n        \"dtype\": \"string\",\n        \"num_unique_values\": 6010,\n        \"samples\": [\n          \"saw amaz heeel big\",\n          \"got call chimp buddi want join parti load prepar wow great cup tea first think erm\",\n          \"gon na arthroscopi repair knee\"\n        ],\n        \"semantic_type\": \"\",\n        \"description\": \"\"\n      }\n    },\n    {\n      \"column\": \"prediction\",\n      \"properties\": {\n        \"dtype\": \"category\",\n        \"num_unique_values\": 3,\n        \"samples\": [\n          \"neutral\",\n          \"negative\",\n          \"positive\"\n        ],\n        \"semantic_type\": \"\",\n        \"description\": \"\"\n      }\n    },\n    {\n      \"column\": \"prediction_proba\",\n      \"properties\": {\n        \"dtype\": \"number\",\n        \"std\": 0.1541068921653248,\n        \"min\": 0.0015293646457364616,\n        \"max\": 0.8553806383957272,\n        \"num_unique_values\": 5989,\n        \"samples\": [\n          0.42837480406641004,\n          0.542743455785184,\n          0.5145135657337057\n        ],\n        \"semantic_type\": \"\",\n        \"description\": \"\"\n      }\n    },\n    {\n      \"column\": \"error\",\n      \"properties\": {\n        \"dtype\": \"boolean\",\n        \"num_unique_values\": 1,\n        \"samples\": [\n          true\n        ],\n        \"semantic_type\": \"\",\n        \"description\": \"\"\n      }\n    }\n  ]\n}"
            }
          },
          "metadata": {},
          "execution_count": 29
        }
      ]
    },
    {
      "cell_type": "markdown",
      "source": [
        "- Покращити передобробку даних\n",
        "У  даних видно, що текст\"leave me alone\" було перетворено (наприклад, \"interview leav alon\"). Необхідно оцінити, чи  методи лематизації або стемінгу адекватно обробляють слова, і чи не втрачаються важливі емоційні або контекстуальні значення.\n",
        "\n",
        "- Розгляд контексту та негації\n",
        "Наявність слова \"not\" може кардинально змінювати сенс фрази. Потрібно провести детальніший огляд чи модель правильно обробляє такий текст\n",
        "\n",
        "- Експериментування з різними векторизаторами або числом фіч, які ми передаєм у модель.\n",
        "\n",
        "- Додавання додаткових фіч для моделювання\n",
        "Це може бути наявність певних ключових слів, довжина тексту, статистика вживання великих букв або інші метричні дані, що могли б поліпшити результати класифікації."
      ],
      "metadata": {
        "id": "erdNqn9Cn5cR"
      }
    },
    {
      "cell_type": "markdown",
      "source": [
        "І на фінал кернел для натхнення і ознайомлення з рішенням оригінальної задачі. Багато цікавих візуалізацій і аналізу є тут, а також тут розвʼязується саме проблема named entitty recognition і можна ознайомитись як це робиться - вона дещо складніша по своїй суті ніж класифікація, подумайте, чому:\n",
        "\n",
        "https://www.kaggle.com/code/tanulsingh077/twitter-sentiment-extaction-analysis-eda-and-model"
      ],
      "metadata": {
        "id": "lFi4VWwjRS3h"
      }
    }
  ]
}