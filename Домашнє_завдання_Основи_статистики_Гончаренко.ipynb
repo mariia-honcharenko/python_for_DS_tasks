{
 "cells": [
  {
   "cell_type": "markdown",
   "metadata": {
    "id": "SDhaTqxcWhnP"
   },
   "source": [
    "В цьому домашньому завданні відпрацюємо з вами знання, отримані в модулі зі статистики.\n",
    "\n",
    "**Завдання 1.** Ми обговорили з Вами на лекції, що велика літера Сігма грецького алфавіту позначає в математиці суму. Знайдіть з використанням Python $\\Sigma x$, $\\Sigma x^2$, та $\\Sigma (x-1)^2$ для наступного набору даних:\n",
    "`1 3 4`\n",
    "Виведіть результат кожного обчислення на екран."
   ]
  },
  {
   "cell_type": "code",
   "execution_count": null,
   "metadata": {
    "id": "B1mgx_IBT0e8"
   },
   "outputs": [],
   "source": [
    "x=[1,3,4]"
   ]
  },
  {
   "cell_type": "code",
   "execution_count": null,
   "metadata": {},
   "outputs": [],
   "source": [
    "a=sum(x)\n",
    "a"
   ]
  },
  {
   "cell_type": "code",
   "execution_count": null,
   "metadata": {},
   "outputs": [],
   "source": [
    "b = sum([i**2 for i in x])\n",
    "b"
   ]
  },
  {
   "cell_type": "code",
   "execution_count": null,
   "metadata": {},
   "outputs": [],
   "source": [
    "c=sum([(i-1)**2 for i in x])\n",
    "c"
   ]
  },
  {
   "cell_type": "markdown",
   "metadata": {
    "id": "fa78aW5lhiia"
   },
   "source": [
    "**Завдання 2.** Ми зібрали дані про суму покупок в гривнях 20ма випадково обраними клієнтами в нашому магазині (всього клієнтів у нас більше) за минулий місяць. Вони представлені в змінній `sum_purchases`. Знайдіть **вибіркове середнє** для цих даних кожним з зазначених методів:   \n",
    "\n",
    "  2.1. без використання жодних бібліотек, користуючись тільки Python.  \n",
    "  2.2. використовуючи відповідний метод бібліотеки `numpy`.\n",
    "\n",
    "  Виведіть результат обчислень в кожному з випадків на екран та порівняйте результати. Вони співпадають?"
   ]
  },
  {
   "cell_type": "code",
   "execution_count": null,
   "metadata": {
    "id": "_9kMt3rq6V5m"
   },
   "outputs": [],
   "source": [
    "sum_purchases = [ 316,  493,  367,  153,  224,  121,  322,  450,  196,  397,  281,\n",
    "  239,  484,  124,  223,  448,  432,  255, 4310, 3524]"
   ]
  },
  {
   "cell_type": "code",
   "execution_count": null,
   "metadata": {
    "id": "wPmL919HT1c0"
   },
   "outputs": [],
   "source": [
    "#2.1\n",
    "p_mean=sum(sum_purchases)/len(sum_purchases)\n",
    "p_mean"
   ]
  },
  {
   "cell_type": "code",
   "execution_count": null,
   "metadata": {},
   "outputs": [],
   "source": [
    "import numpy as np"
   ]
  },
  {
   "cell_type": "code",
   "execution_count": null,
   "metadata": {},
   "outputs": [],
   "source": [
    "#2.2\n",
    "np.mean(sum_purchases)"
   ]
  },
  {
   "cell_type": "markdown",
   "metadata": {
    "id": "FMdoxZd0kZdW"
   },
   "source": [
    "**Завдання 3.** Для того ж набору даних в змінній `sum_purchases` обчисліть **медіану** кожним з зазначених методів:  \n",
    "\n",
    "  3.1. без використання жодних бібліотек, користуючись тільки Python.  \n",
    "  3.2. використовуючи відповідний метод бібліотеки numpy.  \n",
    "\n",
    "Виведіть результат обчислень в кожному з випадків на екран. Порівняйте результати зі значенням вибіркового середнього. Напишіть коментар, для яких задач ви б використовували вибіркове середнє, а для яких - медіану?"
   ]
  },
  {
   "cell_type": "code",
   "execution_count": null,
   "metadata": {
    "id": "x58BumvuT2nl"
   },
   "outputs": [],
   "source": [
    "#3.1\n",
    "sorted(sum_purchases)"
   ]
  },
  {
   "cell_type": "code",
   "execution_count": null,
   "metadata": {},
   "outputs": [],
   "source": [
    "len(sum_purchases)"
   ]
  },
  {
   "cell_type": "code",
   "execution_count": null,
   "metadata": {},
   "outputs": [],
   "source": [
    "median=(sorted(sum_purchases)[len(sum_purchases)//2-1]+sorted(sum_purchases)[len(sum_purchases)//2])/2\n",
    "median                                                                            "
   ]
  },
  {
   "cell_type": "code",
   "execution_count": null,
   "metadata": {},
   "outputs": [],
   "source": [
    "#3.2\n",
    "np.median(sum_purchases)"
   ]
  },
  {
   "cell_type": "markdown",
   "metadata": {},
   "source": [
    "Медіану краще використовувати для датасетів у яких наявно багато аутлаєрів, дані розподілені асиметрично,а середнє значення краще використовувати при датасетах де дані розподілені ближче до нормального розподілу, вони не такі різноманітні і немає екстремальних значень."
   ]
  },
  {
   "cell_type": "markdown",
   "metadata": {
    "id": "o1Z7az2yNDQV"
   },
   "source": [
    "**Завдання 4**. Обчислість стандартне відхилення наведеної вибірки в змінній `sum_purchases` кожним з зазначених методів:  \n",
    "\n",
    "  4.1. без використання жодних бібліотек, користуючись тільки Python.  \n",
    "  4.2. використовуючи відповідний метод бібліотеки numpy.  \n",
    "\n",
    "Виведіть результат обчислень в кожному з випадків на екран."
   ]
  },
  {
   "cell_type": "code",
   "execution_count": null,
   "metadata": {
    "id": "X4ixtmL2T642"
   },
   "outputs": [],
   "source": [
    "#4.1\n",
    "x_minus_mean = [(i - p_mean)**2 for i in sum_purchases]\n",
    "x_minus_mean"
   ]
  },
  {
   "cell_type": "code",
   "execution_count": null,
   "metadata": {},
   "outputs": [],
   "source": [
    "std_x = np.sqrt(sum(x_minus_mean)/(len(sum_purchases)-1))\n",
    "std_x"
   ]
  },
  {
   "cell_type": "code",
   "execution_count": null,
   "metadata": {},
   "outputs": [],
   "source": [
    "#4.2\n",
    "np.std(sum_purchases, ddof=1)\n"
   ]
  },
  {
   "cell_type": "markdown",
   "metadata": {
    "id": "M1ntKTjXLVlH"
   },
   "source": [
    "**Завдання 5**. Ми провели дослідження віку студентів-першокурсників. Виявилось, що\n",
    "- 10 студентів мають вік 16 років\n",
    "- 25 студентів - 17 років\n",
    "- 20 студентів - 18 років\n",
    "- 2 студенти - 20 років\n",
    "\n",
    "Обчислість середнє значення для цієї вибірки будь-яким способом - на чистому Python або з numpy - та виведіть результат на екран."
   ]
  },
  {
   "cell_type": "code",
   "execution_count": null,
   "metadata": {
    "id": "RdIU4M-7T8R4"
   },
   "outputs": [],
   "source": [
    "student_age=[16]*10+[17]*25+[18]*20+[20]*2"
   ]
  },
  {
   "cell_type": "code",
   "execution_count": null,
   "metadata": {},
   "outputs": [],
   "source": [
    "np.mean(student_age)"
   ]
  },
  {
   "cell_type": "markdown",
   "metadata": {
    "id": "Xx8MFkkVM53z"
   },
   "source": [
    "**Завдання 6**. Крім даних про суму покупок, ми зібрали ще дані про кількість відвідувань кожного з кожного покупця, які знаходяться в змінній `visits`. Обчисліть коефіцієнт кореляції Пірсона для суми покупок і кількості відвідувань кожним з зазначених методів:  \n",
    "\n",
    "  6.1. без використання жодних бібліотек, користуючись тільки Python.  \n",
    "  6.2. використовуючи відповідний метод бібліотеки numpy.  \n",
    "  \n",
    "Виведіть результат на екран. Проаналізуйте результат.\n",
    "\n",
    "Виведіть додатково графік розсіювання викликавши код нижче і зробіть заключення, чи варто щось змінити при підрахунку кореляції, аби коефіцієнт Пірсона показував коректну оцінку лінійної залежності?"
   ]
  },
  {
   "cell_type": "code",
   "execution_count": null,
   "metadata": {
    "id": "4OIGBT7UOWhO"
   },
   "outputs": [],
   "source": [
    "visits = [ 6,  2, 10,  3,  9,  9,  2,  3,  6,  6, 10,  2,  5, 10,  3,  5,  4,\n",
    "        7,  4,  2]"
   ]
  },
  {
   "cell_type": "code",
   "execution_count": null,
   "metadata": {},
   "outputs": [],
   "source": [
    "v_mean=sum(visits)/len(visits)\n",
    "v_mean"
   ]
  },
  {
   "cell_type": "code",
   "execution_count": null,
   "metadata": {},
   "outputs": [],
   "source": [
    "y_minus_mean=[(i - v_mean)**2 for i in visits]"
   ]
  },
  {
   "cell_type": "code",
   "execution_count": null,
   "metadata": {},
   "outputs": [],
   "source": [
    "std_y = np.sqrt(sum(y_minus_mean)/(len(visits)-1))\n",
    "std_y"
   ]
  },
  {
   "cell_type": "code",
   "execution_count": null,
   "metadata": {
    "id": "YLNF7VbeT97Q"
   },
   "outputs": [],
   "source": [
    "#6.1\n",
    "xy = [ (sum_purchases[i] - p_mean)*(visits[i] - v_mean) for i in range(len(sum_purchases))]\n",
    "\n",
    "cov_xy = sum(xy)/(len(sum_purchases)-1)\n",
    "cov_xy"
   ]
  },
  {
   "cell_type": "code",
   "execution_count": null,
   "metadata": {},
   "outputs": [],
   "source": [
    "corr=cov_xy / (std_x*std_y)\n",
    "corr"
   ]
  },
  {
   "cell_type": "code",
   "execution_count": null,
   "metadata": {},
   "outputs": [],
   "source": [
    "#6.2\n",
    "np.corrcoef(sum_purchases,visits)"
   ]
  },
  {
   "cell_type": "code",
   "execution_count": null,
   "metadata": {
    "colab": {
     "base_uri": "https://localhost:8080/",
     "height": 472
    },
    "id": "gaeoGA-5Prr1",
    "outputId": "0c910a7f-0e96-449a-881d-1efa453b3c8d"
   },
   "outputs": [],
   "source": [
    "import matplotlib.pyplot as plt\n",
    "\n",
    "plt.scatter(sum_purchases, visits)\n",
    "plt.title('Scatter Plot of Purchases vs. Visits')\n",
    "plt.xlabel('Sum of Purchases')\n",
    "plt.ylabel('Number of Visits');"
   ]
  },
  {
   "cell_type": "markdown",
   "metadata": {
    "id": "4pEg0KzSQ6KA"
   },
   "source": [
    "**Завдання 7**. В попередньому завданні ми помітили, що викиди нам заважають отримати \"правдиве\" значення кореляції. Давайте вилучимо записи, які відповідають значенням з викидами в сумі покупок і обчисліть коеф. кореляції. Для цього поставте `threshold`, який дорінює середньому значенню + 2 стандартних вдіхилля суми покупок і всі значення, які більше за нього, будемо вважати викидами (є і інші правила для визначення викидів - з ним и познайомимось пізніше).\n",
    "\n",
    "Вилучіть значення з обох масивів і обчисліть коеф. кореляції Пірсона з допомогою `numpy` для кількості візитів і суми покупок без записів-викидів. Виведіть результат на екран, побудуйте діаграму розсіювання і проаналізуйте результат: що можемо сказати про залежність в даних?"
   ]
  },
  {
   "cell_type": "code",
   "execution_count": null,
   "metadata": {},
   "outputs": [],
   "source": [
    "import pandas as pd"
   ]
  },
  {
   "cell_type": "code",
   "execution_count": null,
   "metadata": {},
   "outputs": [],
   "source": [
    "threshold_p=p_mean+2*(std_x)\n",
    "threshold_p"
   ]
  },
  {
   "cell_type": "code",
   "execution_count": null,
   "metadata": {},
   "outputs": [],
   "source": [
    "threshold_v=v_mean+2*(std_y)\n",
    "threshold_v"
   ]
  },
  {
   "cell_type": "code",
   "execution_count": null,
   "metadata": {},
   "outputs": [],
   "source": [
    "df = pd.DataFrame({'Purchases': sum_purchases, 'Visits': visits})\n",
    "df"
   ]
  },
  {
   "cell_type": "code",
   "execution_count": null,
   "metadata": {
    "id": "Yj3Yfaf7UBbc"
   },
   "outputs": [],
   "source": [
    "df_final = df[(df['Purchases'] < threshold_p) & (df['Visits'] < threshold_v)]\n",
    "df_final"
   ]
  },
  {
   "cell_type": "code",
   "execution_count": null,
   "metadata": {},
   "outputs": [],
   "source": [
    "df_final.corr()"
   ]
  },
  {
   "cell_type": "code",
   "execution_count": null,
   "metadata": {},
   "outputs": [],
   "source": [
    "import matplotlib.pyplot as plt\n",
    "\n",
    "plt.scatter(df_final['Purchases'], df_final['Visits'])\n",
    "plt.title('Scatter Plot of Purchases vs. Visits')\n",
    "plt.xlabel('Sum of Purchases')\n",
    "plt.ylabel('Number of Visits')\n",
    "plt.show()\n"
   ]
  },
  {
   "cell_type": "markdown",
   "metadata": {},
   "source": [
    "Висновки: між сумою покупок та кількістю візитів відсутня сильна кореляція, вона слабка негативна, що також підтверджує графік."
   ]
  }
 ],
 "metadata": {
  "colab": {
   "provenance": []
  },
  "kernelspec": {
   "display_name": "Python 3 (ipykernel)",
   "language": "python",
   "name": "python3"
  },
  "language_info": {
   "codemirror_mode": {
    "name": "ipython",
    "version": 3
   },
   "file_extension": ".py",
   "mimetype": "text/x-python",
   "name": "python",
   "nbconvert_exporter": "python",
   "pygments_lexer": "ipython3",
   "version": "3.11.7"
  }
 },
 "nbformat": 4,
 "nbformat_minor": 1
}
