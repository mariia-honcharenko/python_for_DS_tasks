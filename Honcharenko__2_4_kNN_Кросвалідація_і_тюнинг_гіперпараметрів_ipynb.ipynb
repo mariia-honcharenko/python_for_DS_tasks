{
  "nbformat": 4,
  "nbformat_minor": 0,
  "metadata": {
    "colab": {
      "provenance": []
    },
    "kernelspec": {
      "name": "python3",
      "display_name": "Python 3"
    },
    "language_info": {
      "name": "python"
    }
  },
  "cells": [
    {
      "cell_type": "markdown",
      "source": [
        "В цьому домашньому завданні ми знову працюємо з даними з нашого змагання [\"Bank Customer Churn Prediction (DLU Course)\"](https://www.kaggle.com/t/7c080c5d8ec64364a93cf4e8f880b6a0).\n",
        "\n",
        "Тут ми побудуємо рішення задачі класифікації з використанням kNearestNeighboors, знайдемо оптимальні гіперпараметри для цього методу і зробимо базові ансамблі. Це дасть змогу порівняти перформанс моделі з попередніми вивченими методами."
      ],
      "metadata": {
        "id": "fDefDHQt8LXC"
      }
    },
    {
      "cell_type": "markdown",
      "source": [
        "0. Зчитайте дані `train.csv` та зробіть препроцесинг використовуючи написаний Вами скрипт `process_bank_churn.py` так, аби в результаті отримати дані в розбитті X_train, train_targets, X_val, val_targets для експериментів.\n",
        "\n",
        "  Якщо Вам не вдалось реалізувати в завданні `2.3. Дерева прийняття рішень` скрипт `process_bank_churn.py` - можна скористатись готовим скриптом з запропонованого рішення того завдання."
      ],
      "metadata": {
        "id": "LhivzW9W8-Dz"
      }
    },
    {
      "cell_type": "code",
      "source": [
        "from google.colab import drive\n",
        "drive.mount('/content/drive')"
      ],
      "metadata": {
        "id": "Z-mntPMAH-rv",
        "colab": {
          "base_uri": "https://localhost:8080/"
        },
        "outputId": "fcb31d7b-0317-45ce-9189-a0a935680f52"
      },
      "execution_count": 1,
      "outputs": [
        {
          "output_type": "stream",
          "name": "stdout",
          "text": [
            "Mounted at /content/drive\n"
          ]
        }
      ]
    },
    {
      "cell_type": "code",
      "source": [
        "!git clone https://github.com/mariia-honcharenko/python_for_DS_tasks.git"
      ],
      "metadata": {
        "id": "8tu-nKGtBbNG",
        "colab": {
          "base_uri": "https://localhost:8080/"
        },
        "outputId": "7af0d57b-c0ba-4a6a-9a35-31b50c1dc370"
      },
      "execution_count": 2,
      "outputs": [
        {
          "output_type": "stream",
          "name": "stdout",
          "text": [
            "Cloning into 'python_for_DS_tasks'...\n",
            "remote: Enumerating objects: 108, done.\u001b[K\n",
            "remote: Counting objects: 100% (108/108), done.\u001b[K\n",
            "remote: Compressing objects: 100% (108/108), done.\u001b[K\n",
            "remote: Total 108 (delta 53), reused 0 (delta 0), pack-reused 0\u001b[K\n",
            "Receiving objects: 100% (108/108), 6.32 MiB | 5.92 MiB/s, done.\n",
            "Resolving deltas: 100% (53/53), done.\n"
          ]
        }
      ]
    },
    {
      "cell_type": "code",
      "source": [
        "import numpy as np\n",
        "import pandas as pd\n",
        "import matplotlib.pyplot as plt\n",
        "from mlxtend.plotting import plot_decision_regions\n",
        "from sklearn.metrics import classification_report\n",
        "from sklearn.model_selection import GridSearchCV, train_test_split\n",
        "from sklearn.neighbors import KNeighborsClassifier"
      ],
      "metadata": {
        "id": "HsGy5yJBBf1v"
      },
      "execution_count": 3,
      "outputs": []
    },
    {
      "cell_type": "code",
      "source": [
        "import sys\n",
        "sys.path.append('/content/python_for_DS_tasks')"
      ],
      "metadata": {
        "id": "ZqXyO38xCbg3"
      },
      "execution_count": 4,
      "outputs": []
    },
    {
      "cell_type": "code",
      "source": [
        "from process_bank_churn import preprocess_data"
      ],
      "metadata": {
        "id": "B7PtxIWuCez_"
      },
      "execution_count": 5,
      "outputs": []
    },
    {
      "cell_type": "code",
      "source": [
        "raw_df = pd.read_csv('/content/drive/MyDrive/Data Science/train.csv', index_col=0)"
      ],
      "metadata": {
        "id": "UCh1tINuCiXa"
      },
      "execution_count": 6,
      "outputs": []
    },
    {
      "cell_type": "code",
      "source": [
        "X_train, train_targets, X_val, val_targets, input_cols, scaler, encoder = preprocess_data(raw_df, scale_numeric=True)\n"
      ],
      "metadata": {
        "id": "FuFqwvZuCwBl",
        "colab": {
          "base_uri": "https://localhost:8080/"
        },
        "outputId": "3ea85fb2-1ad7-4c6d-d6d9-7f2bed2d26a3"
      },
      "execution_count": 7,
      "outputs": [
        {
          "output_type": "stream",
          "name": "stderr",
          "text": [
            "/usr/local/lib/python3.10/dist-packages/sklearn/preprocessing/_encoders.py:975: FutureWarning: `sparse` was renamed to `sparse_output` in version 1.2 and will be removed in 1.4. `sparse_output` is ignored unless you leave `sparse` to its default value.\n",
            "  warnings.warn(\n"
          ]
        }
      ]
    },
    {
      "cell_type": "code",
      "source": [
        "X_train.head()"
      ],
      "metadata": {
        "id": "H1Q5ZH9JDaok",
        "colab": {
          "base_uri": "https://localhost:8080/",
          "height": 237
        },
        "outputId": "1fdb1d71-25b4-41b1-9e03-e006a3c811f8"
      },
      "execution_count": 8,
      "outputs": [
        {
          "output_type": "execute_result",
          "data": {
            "text/plain": [
              "       CreditScore       Age  Tenure   Balance  NumOfProducts  HasCrCard  \\\n",
              "id                                                                         \n",
              "7180      0.599045  0.214286     0.1  0.626382       0.000000        1.0   \n",
              "10393     0.603819  0.375000     0.2  0.848836       0.000000        1.0   \n",
              "80        0.653938  0.303571     0.6  0.554522       0.333333        1.0   \n",
              "3365      0.568019  0.714286     0.0  0.000000       0.333333        0.0   \n",
              "12236     0.658711  0.053571     0.3  0.000000       0.333333        1.0   \n",
              "\n",
              "       IsActiveMember  EstimatedSalary  Geography_France  Geography_Germany  \\\n",
              "id                                                                            \n",
              "7180              1.0         0.719772               1.0                0.0   \n",
              "10393             0.0         0.727603               1.0                0.0   \n",
              "80                0.0         0.872180               0.0                1.0   \n",
              "3365              1.0         0.257797               0.0                0.0   \n",
              "12236             1.0         0.742837               1.0                0.0   \n",
              "\n",
              "       Geography_Spain  Gender_Female  Gender_Male  \n",
              "id                                                  \n",
              "7180               0.0            0.0          1.0  \n",
              "10393              0.0            1.0          0.0  \n",
              "80                 0.0            0.0          1.0  \n",
              "3365               1.0            0.0          1.0  \n",
              "12236              0.0            0.0          1.0  "
            ],
            "text/html": [
              "\n",
              "  <div id=\"df-564d83f9-d449-46e9-a09b-c75f6e657fcb\" class=\"colab-df-container\">\n",
              "    <div>\n",
              "<style scoped>\n",
              "    .dataframe tbody tr th:only-of-type {\n",
              "        vertical-align: middle;\n",
              "    }\n",
              "\n",
              "    .dataframe tbody tr th {\n",
              "        vertical-align: top;\n",
              "    }\n",
              "\n",
              "    .dataframe thead th {\n",
              "        text-align: right;\n",
              "    }\n",
              "</style>\n",
              "<table border=\"1\" class=\"dataframe\">\n",
              "  <thead>\n",
              "    <tr style=\"text-align: right;\">\n",
              "      <th></th>\n",
              "      <th>CreditScore</th>\n",
              "      <th>Age</th>\n",
              "      <th>Tenure</th>\n",
              "      <th>Balance</th>\n",
              "      <th>NumOfProducts</th>\n",
              "      <th>HasCrCard</th>\n",
              "      <th>IsActiveMember</th>\n",
              "      <th>EstimatedSalary</th>\n",
              "      <th>Geography_France</th>\n",
              "      <th>Geography_Germany</th>\n",
              "      <th>Geography_Spain</th>\n",
              "      <th>Gender_Female</th>\n",
              "      <th>Gender_Male</th>\n",
              "    </tr>\n",
              "    <tr>\n",
              "      <th>id</th>\n",
              "      <th></th>\n",
              "      <th></th>\n",
              "      <th></th>\n",
              "      <th></th>\n",
              "      <th></th>\n",
              "      <th></th>\n",
              "      <th></th>\n",
              "      <th></th>\n",
              "      <th></th>\n",
              "      <th></th>\n",
              "      <th></th>\n",
              "      <th></th>\n",
              "      <th></th>\n",
              "    </tr>\n",
              "  </thead>\n",
              "  <tbody>\n",
              "    <tr>\n",
              "      <th>7180</th>\n",
              "      <td>0.599045</td>\n",
              "      <td>0.214286</td>\n",
              "      <td>0.1</td>\n",
              "      <td>0.626382</td>\n",
              "      <td>0.000000</td>\n",
              "      <td>1.0</td>\n",
              "      <td>1.0</td>\n",
              "      <td>0.719772</td>\n",
              "      <td>1.0</td>\n",
              "      <td>0.0</td>\n",
              "      <td>0.0</td>\n",
              "      <td>0.0</td>\n",
              "      <td>1.0</td>\n",
              "    </tr>\n",
              "    <tr>\n",
              "      <th>10393</th>\n",
              "      <td>0.603819</td>\n",
              "      <td>0.375000</td>\n",
              "      <td>0.2</td>\n",
              "      <td>0.848836</td>\n",
              "      <td>0.000000</td>\n",
              "      <td>1.0</td>\n",
              "      <td>0.0</td>\n",
              "      <td>0.727603</td>\n",
              "      <td>1.0</td>\n",
              "      <td>0.0</td>\n",
              "      <td>0.0</td>\n",
              "      <td>1.0</td>\n",
              "      <td>0.0</td>\n",
              "    </tr>\n",
              "    <tr>\n",
              "      <th>80</th>\n",
              "      <td>0.653938</td>\n",
              "      <td>0.303571</td>\n",
              "      <td>0.6</td>\n",
              "      <td>0.554522</td>\n",
              "      <td>0.333333</td>\n",
              "      <td>1.0</td>\n",
              "      <td>0.0</td>\n",
              "      <td>0.872180</td>\n",
              "      <td>0.0</td>\n",
              "      <td>1.0</td>\n",
              "      <td>0.0</td>\n",
              "      <td>0.0</td>\n",
              "      <td>1.0</td>\n",
              "    </tr>\n",
              "    <tr>\n",
              "      <th>3365</th>\n",
              "      <td>0.568019</td>\n",
              "      <td>0.714286</td>\n",
              "      <td>0.0</td>\n",
              "      <td>0.000000</td>\n",
              "      <td>0.333333</td>\n",
              "      <td>0.0</td>\n",
              "      <td>1.0</td>\n",
              "      <td>0.257797</td>\n",
              "      <td>0.0</td>\n",
              "      <td>0.0</td>\n",
              "      <td>1.0</td>\n",
              "      <td>0.0</td>\n",
              "      <td>1.0</td>\n",
              "    </tr>\n",
              "    <tr>\n",
              "      <th>12236</th>\n",
              "      <td>0.658711</td>\n",
              "      <td>0.053571</td>\n",
              "      <td>0.3</td>\n",
              "      <td>0.000000</td>\n",
              "      <td>0.333333</td>\n",
              "      <td>1.0</td>\n",
              "      <td>1.0</td>\n",
              "      <td>0.742837</td>\n",
              "      <td>1.0</td>\n",
              "      <td>0.0</td>\n",
              "      <td>0.0</td>\n",
              "      <td>0.0</td>\n",
              "      <td>1.0</td>\n",
              "    </tr>\n",
              "  </tbody>\n",
              "</table>\n",
              "</div>\n",
              "    <div class=\"colab-df-buttons\">\n",
              "\n",
              "  <div class=\"colab-df-container\">\n",
              "    <button class=\"colab-df-convert\" onclick=\"convertToInteractive('df-564d83f9-d449-46e9-a09b-c75f6e657fcb')\"\n",
              "            title=\"Convert this dataframe to an interactive table.\"\n",
              "            style=\"display:none;\">\n",
              "\n",
              "  <svg xmlns=\"http://www.w3.org/2000/svg\" height=\"24px\" viewBox=\"0 -960 960 960\">\n",
              "    <path d=\"M120-120v-720h720v720H120Zm60-500h600v-160H180v160Zm220 220h160v-160H400v160Zm0 220h160v-160H400v160ZM180-400h160v-160H180v160Zm440 0h160v-160H620v160ZM180-180h160v-160H180v160Zm440 0h160v-160H620v160Z\"/>\n",
              "  </svg>\n",
              "    </button>\n",
              "\n",
              "  <style>\n",
              "    .colab-df-container {\n",
              "      display:flex;\n",
              "      gap: 12px;\n",
              "    }\n",
              "\n",
              "    .colab-df-convert {\n",
              "      background-color: #E8F0FE;\n",
              "      border: none;\n",
              "      border-radius: 50%;\n",
              "      cursor: pointer;\n",
              "      display: none;\n",
              "      fill: #1967D2;\n",
              "      height: 32px;\n",
              "      padding: 0 0 0 0;\n",
              "      width: 32px;\n",
              "    }\n",
              "\n",
              "    .colab-df-convert:hover {\n",
              "      background-color: #E2EBFA;\n",
              "      box-shadow: 0px 1px 2px rgba(60, 64, 67, 0.3), 0px 1px 3px 1px rgba(60, 64, 67, 0.15);\n",
              "      fill: #174EA6;\n",
              "    }\n",
              "\n",
              "    .colab-df-buttons div {\n",
              "      margin-bottom: 4px;\n",
              "    }\n",
              "\n",
              "    [theme=dark] .colab-df-convert {\n",
              "      background-color: #3B4455;\n",
              "      fill: #D2E3FC;\n",
              "    }\n",
              "\n",
              "    [theme=dark] .colab-df-convert:hover {\n",
              "      background-color: #434B5C;\n",
              "      box-shadow: 0px 1px 3px 1px rgba(0, 0, 0, 0.15);\n",
              "      filter: drop-shadow(0px 1px 2px rgba(0, 0, 0, 0.3));\n",
              "      fill: #FFFFFF;\n",
              "    }\n",
              "  </style>\n",
              "\n",
              "    <script>\n",
              "      const buttonEl =\n",
              "        document.querySelector('#df-564d83f9-d449-46e9-a09b-c75f6e657fcb button.colab-df-convert');\n",
              "      buttonEl.style.display =\n",
              "        google.colab.kernel.accessAllowed ? 'block' : 'none';\n",
              "\n",
              "      async function convertToInteractive(key) {\n",
              "        const element = document.querySelector('#df-564d83f9-d449-46e9-a09b-c75f6e657fcb');\n",
              "        const dataTable =\n",
              "          await google.colab.kernel.invokeFunction('convertToInteractive',\n",
              "                                                    [key], {});\n",
              "        if (!dataTable) return;\n",
              "\n",
              "        const docLinkHtml = 'Like what you see? Visit the ' +\n",
              "          '<a target=\"_blank\" href=https://colab.research.google.com/notebooks/data_table.ipynb>data table notebook</a>'\n",
              "          + ' to learn more about interactive tables.';\n",
              "        element.innerHTML = '';\n",
              "        dataTable['output_type'] = 'display_data';\n",
              "        await google.colab.output.renderOutput(dataTable, element);\n",
              "        const docLink = document.createElement('div');\n",
              "        docLink.innerHTML = docLinkHtml;\n",
              "        element.appendChild(docLink);\n",
              "      }\n",
              "    </script>\n",
              "  </div>\n",
              "\n",
              "\n",
              "<div id=\"df-9bc8f2db-0da9-4bef-b9f8-eff70d967300\">\n",
              "  <button class=\"colab-df-quickchart\" onclick=\"quickchart('df-9bc8f2db-0da9-4bef-b9f8-eff70d967300')\"\n",
              "            title=\"Suggest charts\"\n",
              "            style=\"display:none;\">\n",
              "\n",
              "<svg xmlns=\"http://www.w3.org/2000/svg\" height=\"24px\"viewBox=\"0 0 24 24\"\n",
              "     width=\"24px\">\n",
              "    <g>\n",
              "        <path d=\"M19 3H5c-1.1 0-2 .9-2 2v14c0 1.1.9 2 2 2h14c1.1 0 2-.9 2-2V5c0-1.1-.9-2-2-2zM9 17H7v-7h2v7zm4 0h-2V7h2v10zm4 0h-2v-4h2v4z\"/>\n",
              "    </g>\n",
              "</svg>\n",
              "  </button>\n",
              "\n",
              "<style>\n",
              "  .colab-df-quickchart {\n",
              "      --bg-color: #E8F0FE;\n",
              "      --fill-color: #1967D2;\n",
              "      --hover-bg-color: #E2EBFA;\n",
              "      --hover-fill-color: #174EA6;\n",
              "      --disabled-fill-color: #AAA;\n",
              "      --disabled-bg-color: #DDD;\n",
              "  }\n",
              "\n",
              "  [theme=dark] .colab-df-quickchart {\n",
              "      --bg-color: #3B4455;\n",
              "      --fill-color: #D2E3FC;\n",
              "      --hover-bg-color: #434B5C;\n",
              "      --hover-fill-color: #FFFFFF;\n",
              "      --disabled-bg-color: #3B4455;\n",
              "      --disabled-fill-color: #666;\n",
              "  }\n",
              "\n",
              "  .colab-df-quickchart {\n",
              "    background-color: var(--bg-color);\n",
              "    border: none;\n",
              "    border-radius: 50%;\n",
              "    cursor: pointer;\n",
              "    display: none;\n",
              "    fill: var(--fill-color);\n",
              "    height: 32px;\n",
              "    padding: 0;\n",
              "    width: 32px;\n",
              "  }\n",
              "\n",
              "  .colab-df-quickchart:hover {\n",
              "    background-color: var(--hover-bg-color);\n",
              "    box-shadow: 0 1px 2px rgba(60, 64, 67, 0.3), 0 1px 3px 1px rgba(60, 64, 67, 0.15);\n",
              "    fill: var(--button-hover-fill-color);\n",
              "  }\n",
              "\n",
              "  .colab-df-quickchart-complete:disabled,\n",
              "  .colab-df-quickchart-complete:disabled:hover {\n",
              "    background-color: var(--disabled-bg-color);\n",
              "    fill: var(--disabled-fill-color);\n",
              "    box-shadow: none;\n",
              "  }\n",
              "\n",
              "  .colab-df-spinner {\n",
              "    border: 2px solid var(--fill-color);\n",
              "    border-color: transparent;\n",
              "    border-bottom-color: var(--fill-color);\n",
              "    animation:\n",
              "      spin 1s steps(1) infinite;\n",
              "  }\n",
              "\n",
              "  @keyframes spin {\n",
              "    0% {\n",
              "      border-color: transparent;\n",
              "      border-bottom-color: var(--fill-color);\n",
              "      border-left-color: var(--fill-color);\n",
              "    }\n",
              "    20% {\n",
              "      border-color: transparent;\n",
              "      border-left-color: var(--fill-color);\n",
              "      border-top-color: var(--fill-color);\n",
              "    }\n",
              "    30% {\n",
              "      border-color: transparent;\n",
              "      border-left-color: var(--fill-color);\n",
              "      border-top-color: var(--fill-color);\n",
              "      border-right-color: var(--fill-color);\n",
              "    }\n",
              "    40% {\n",
              "      border-color: transparent;\n",
              "      border-right-color: var(--fill-color);\n",
              "      border-top-color: var(--fill-color);\n",
              "    }\n",
              "    60% {\n",
              "      border-color: transparent;\n",
              "      border-right-color: var(--fill-color);\n",
              "    }\n",
              "    80% {\n",
              "      border-color: transparent;\n",
              "      border-right-color: var(--fill-color);\n",
              "      border-bottom-color: var(--fill-color);\n",
              "    }\n",
              "    90% {\n",
              "      border-color: transparent;\n",
              "      border-bottom-color: var(--fill-color);\n",
              "    }\n",
              "  }\n",
              "</style>\n",
              "\n",
              "  <script>\n",
              "    async function quickchart(key) {\n",
              "      const quickchartButtonEl =\n",
              "        document.querySelector('#' + key + ' button');\n",
              "      quickchartButtonEl.disabled = true;  // To prevent multiple clicks.\n",
              "      quickchartButtonEl.classList.add('colab-df-spinner');\n",
              "      try {\n",
              "        const charts = await google.colab.kernel.invokeFunction(\n",
              "            'suggestCharts', [key], {});\n",
              "      } catch (error) {\n",
              "        console.error('Error during call to suggestCharts:', error);\n",
              "      }\n",
              "      quickchartButtonEl.classList.remove('colab-df-spinner');\n",
              "      quickchartButtonEl.classList.add('colab-df-quickchart-complete');\n",
              "    }\n",
              "    (() => {\n",
              "      let quickchartButtonEl =\n",
              "        document.querySelector('#df-9bc8f2db-0da9-4bef-b9f8-eff70d967300 button');\n",
              "      quickchartButtonEl.style.display =\n",
              "        google.colab.kernel.accessAllowed ? 'block' : 'none';\n",
              "    })();\n",
              "  </script>\n",
              "</div>\n",
              "    </div>\n",
              "  </div>\n"
            ],
            "application/vnd.google.colaboratory.intrinsic+json": {
              "type": "dataframe",
              "variable_name": "X_train",
              "summary": "{\n  \"name\": \"X_train\",\n  \"rows\": 12000,\n  \"fields\": [\n    {\n      \"column\": \"id\",\n      \"properties\": {\n        \"dtype\": \"number\",\n        \"std\": 4334,\n        \"min\": 0,\n        \"max\": 14999,\n        \"num_unique_values\": 12000,\n        \"samples\": [\n          5316,\n          2832,\n          2640\n        ],\n        \"semantic_type\": \"\",\n        \"description\": \"\"\n      }\n    },\n    {\n      \"column\": \"CreditScore\",\n      \"properties\": {\n        \"dtype\": \"number\",\n        \"std\": 0.17263701483930624,\n        \"min\": 0.0,\n        \"max\": 1.0,\n        \"num_unique_values\": 373,\n        \"samples\": [\n          0.7828162291169452,\n          0.3174224343675416,\n          0.5894988066825775\n        ],\n        \"semantic_type\": \"\",\n        \"description\": \"\"\n      }\n    },\n    {\n      \"column\": \"Age\",\n      \"properties\": {\n        \"dtype\": \"number\",\n        \"std\": 0.14532928704178855,\n        \"min\": 0.0,\n        \"max\": 1.0,\n        \"num_unique_values\": 56,\n        \"samples\": [\n          0.2142857142857143,\n          0.3392857142857143,\n          0.1607142857142857\n        ],\n        \"semantic_type\": \"\",\n        \"description\": \"\"\n      }\n    },\n    {\n      \"column\": \"Tenure\",\n      \"properties\": {\n        \"dtype\": \"number\",\n        \"std\": 0.27819743483412024,\n        \"min\": 0.0,\n        \"max\": 1.0,\n        \"num_unique_values\": 11,\n        \"samples\": [\n          0.9,\n          0.1,\n          0.7000000000000001\n        ],\n        \"semantic_type\": \"\",\n        \"description\": \"\"\n      }\n    },\n    {\n      \"column\": \"Balance\",\n      \"properties\": {\n        \"dtype\": \"number\",\n        \"std\": 0.2855860985215155,\n        \"min\": 0.0,\n        \"max\": 1.0,\n        \"num_unique_values\": 2895,\n        \"samples\": [\n          0.5274471985172522,\n          0.8165424345671402,\n          0.811443069942595\n        ],\n        \"semantic_type\": \"\",\n        \"description\": \"\"\n      }\n    },\n    {\n      \"column\": \"NumOfProducts\",\n      \"properties\": {\n        \"dtype\": \"number\",\n        \"std\": 0.1775487142832734,\n        \"min\": 0.0,\n        \"max\": 1.0,\n        \"num_unique_values\": 4,\n        \"samples\": [\n          0.3333333333333333,\n          1.0,\n          0.0\n        ],\n        \"semantic_type\": \"\",\n        \"description\": \"\"\n      }\n    },\n    {\n      \"column\": \"HasCrCard\",\n      \"properties\": {\n        \"dtype\": \"number\",\n        \"std\": 0.4070876632692535,\n        \"min\": 0.0,\n        \"max\": 1.0,\n        \"num_unique_values\": 2,\n        \"samples\": [\n          0.0,\n          1.0\n        ],\n        \"semantic_type\": \"\",\n        \"description\": \"\"\n      }\n    },\n    {\n      \"column\": \"IsActiveMember\",\n      \"properties\": {\n        \"dtype\": \"number\",\n        \"std\": 0.49994998638660143,\n        \"min\": 0.0,\n        \"max\": 1.0,\n        \"num_unique_values\": 2,\n        \"samples\": [\n          0.0,\n          1.0\n        ],\n        \"semantic_type\": \"\",\n        \"description\": \"\"\n      }\n    },\n    {\n      \"column\": \"EstimatedSalary\",\n      \"properties\": {\n        \"dtype\": \"number\",\n        \"std\": 0.22796919409540328,\n        \"min\": 0.0,\n        \"max\": 1.0,\n        \"num_unique_values\": 5502,\n        \"samples\": [\n          0.7036247461632585,\n          0.8977314833566605\n        ],\n        \"semantic_type\": \"\",\n        \"description\": \"\"\n      }\n    },\n    {\n      \"column\": \"Geography_France\",\n      \"properties\": {\n        \"dtype\": \"number\",\n        \"std\": 0.48973034693248735,\n        \"min\": 0.0,\n        \"max\": 1.0,\n        \"num_unique_values\": 2,\n        \"samples\": [\n          0.0,\n          1.0\n        ],\n        \"semantic_type\": \"\",\n        \"description\": \"\"\n      }\n    },\n    {\n      \"column\": \"Geography_Germany\",\n      \"properties\": {\n        \"dtype\": \"number\",\n        \"std\": 0.38357749995909934,\n        \"min\": 0.0,\n        \"max\": 1.0,\n        \"num_unique_values\": 2,\n        \"samples\": [\n          1.0,\n          0.0\n        ],\n        \"semantic_type\": \"\",\n        \"description\": \"\"\n      }\n    },\n    {\n      \"column\": \"Geography_Spain\",\n      \"properties\": {\n        \"dtype\": \"number\",\n        \"std\": 0.41415085693490233,\n        \"min\": 0.0,\n        \"max\": 1.0,\n        \"num_unique_values\": 2,\n        \"samples\": [\n          1.0,\n          0.0\n        ],\n        \"semantic_type\": \"\",\n        \"description\": \"\"\n      }\n    },\n    {\n      \"column\": \"Gender_Female\",\n      \"properties\": {\n        \"dtype\": \"number\",\n        \"std\": 0.4946629063809473,\n        \"min\": 0.0,\n        \"max\": 1.0,\n        \"num_unique_values\": 2,\n        \"samples\": [\n          1.0,\n          0.0\n        ],\n        \"semantic_type\": \"\",\n        \"description\": \"\"\n      }\n    },\n    {\n      \"column\": \"Gender_Male\",\n      \"properties\": {\n        \"dtype\": \"number\",\n        \"std\": 0.4946629063809473,\n        \"min\": 0.0,\n        \"max\": 1.0,\n        \"num_unique_values\": 2,\n        \"samples\": [\n          0.0,\n          1.0\n        ],\n        \"semantic_type\": \"\",\n        \"description\": \"\"\n      }\n    }\n  ]\n}"
            }
          },
          "metadata": {},
          "execution_count": 8
        }
      ]
    },
    {
      "cell_type": "markdown",
      "source": [
        "1. Навчіть на цих даних класифікатор kNN з параметрами за замовченням і виміряйте точність з допомогою AUROC на тренувальному та валідаційному наборах. Зробіть заключення про отриману модель: вона хороша/погана, чи є high bias/high variance?"
      ],
      "metadata": {
        "id": "_LxWkv4o-wMe"
      }
    },
    {
      "cell_type": "code",
      "source": [
        "knn = KNeighborsClassifier()\n",
        "knn.fit(X_train, train_targets)"
      ],
      "metadata": {
        "id": "1TH7H_Z9IAHD",
        "colab": {
          "base_uri": "https://localhost:8080/",
          "height": 75
        },
        "outputId": "1086ce68-8dd5-4029-a88e-f2c237ce2ea2"
      },
      "execution_count": 9,
      "outputs": [
        {
          "output_type": "execute_result",
          "data": {
            "text/plain": [
              "KNeighborsClassifier()"
            ],
            "text/html": [
              "<style>#sk-container-id-1 {color: black;}#sk-container-id-1 pre{padding: 0;}#sk-container-id-1 div.sk-toggleable {background-color: white;}#sk-container-id-1 label.sk-toggleable__label {cursor: pointer;display: block;width: 100%;margin-bottom: 0;padding: 0.3em;box-sizing: border-box;text-align: center;}#sk-container-id-1 label.sk-toggleable__label-arrow:before {content: \"▸\";float: left;margin-right: 0.25em;color: #696969;}#sk-container-id-1 label.sk-toggleable__label-arrow:hover:before {color: black;}#sk-container-id-1 div.sk-estimator:hover label.sk-toggleable__label-arrow:before {color: black;}#sk-container-id-1 div.sk-toggleable__content {max-height: 0;max-width: 0;overflow: hidden;text-align: left;background-color: #f0f8ff;}#sk-container-id-1 div.sk-toggleable__content pre {margin: 0.2em;color: black;border-radius: 0.25em;background-color: #f0f8ff;}#sk-container-id-1 input.sk-toggleable__control:checked~div.sk-toggleable__content {max-height: 200px;max-width: 100%;overflow: auto;}#sk-container-id-1 input.sk-toggleable__control:checked~label.sk-toggleable__label-arrow:before {content: \"▾\";}#sk-container-id-1 div.sk-estimator input.sk-toggleable__control:checked~label.sk-toggleable__label {background-color: #d4ebff;}#sk-container-id-1 div.sk-label input.sk-toggleable__control:checked~label.sk-toggleable__label {background-color: #d4ebff;}#sk-container-id-1 input.sk-hidden--visually {border: 0;clip: rect(1px 1px 1px 1px);clip: rect(1px, 1px, 1px, 1px);height: 1px;margin: -1px;overflow: hidden;padding: 0;position: absolute;width: 1px;}#sk-container-id-1 div.sk-estimator {font-family: monospace;background-color: #f0f8ff;border: 1px dotted black;border-radius: 0.25em;box-sizing: border-box;margin-bottom: 0.5em;}#sk-container-id-1 div.sk-estimator:hover {background-color: #d4ebff;}#sk-container-id-1 div.sk-parallel-item::after {content: \"\";width: 100%;border-bottom: 1px solid gray;flex-grow: 1;}#sk-container-id-1 div.sk-label:hover label.sk-toggleable__label {background-color: #d4ebff;}#sk-container-id-1 div.sk-serial::before {content: \"\";position: absolute;border-left: 1px solid gray;box-sizing: border-box;top: 0;bottom: 0;left: 50%;z-index: 0;}#sk-container-id-1 div.sk-serial {display: flex;flex-direction: column;align-items: center;background-color: white;padding-right: 0.2em;padding-left: 0.2em;position: relative;}#sk-container-id-1 div.sk-item {position: relative;z-index: 1;}#sk-container-id-1 div.sk-parallel {display: flex;align-items: stretch;justify-content: center;background-color: white;position: relative;}#sk-container-id-1 div.sk-item::before, #sk-container-id-1 div.sk-parallel-item::before {content: \"\";position: absolute;border-left: 1px solid gray;box-sizing: border-box;top: 0;bottom: 0;left: 50%;z-index: -1;}#sk-container-id-1 div.sk-parallel-item {display: flex;flex-direction: column;z-index: 1;position: relative;background-color: white;}#sk-container-id-1 div.sk-parallel-item:first-child::after {align-self: flex-end;width: 50%;}#sk-container-id-1 div.sk-parallel-item:last-child::after {align-self: flex-start;width: 50%;}#sk-container-id-1 div.sk-parallel-item:only-child::after {width: 0;}#sk-container-id-1 div.sk-dashed-wrapped {border: 1px dashed gray;margin: 0 0.4em 0.5em 0.4em;box-sizing: border-box;padding-bottom: 0.4em;background-color: white;}#sk-container-id-1 div.sk-label label {font-family: monospace;font-weight: bold;display: inline-block;line-height: 1.2em;}#sk-container-id-1 div.sk-label-container {text-align: center;}#sk-container-id-1 div.sk-container {/* jupyter's `normalize.less` sets `[hidden] { display: none; }` but bootstrap.min.css set `[hidden] { display: none !important; }` so we also need the `!important` here to be able to override the default hidden behavior on the sphinx rendered scikit-learn.org. See: https://github.com/scikit-learn/scikit-learn/issues/21755 */display: inline-block !important;position: relative;}#sk-container-id-1 div.sk-text-repr-fallback {display: none;}</style><div id=\"sk-container-id-1\" class=\"sk-top-container\"><div class=\"sk-text-repr-fallback\"><pre>KNeighborsClassifier()</pre><b>In a Jupyter environment, please rerun this cell to show the HTML representation or trust the notebook. <br />On GitHub, the HTML representation is unable to render, please try loading this page with nbviewer.org.</b></div><div class=\"sk-container\" hidden><div class=\"sk-item\"><div class=\"sk-estimator sk-toggleable\"><input class=\"sk-toggleable__control sk-hidden--visually\" id=\"sk-estimator-id-1\" type=\"checkbox\" checked><label for=\"sk-estimator-id-1\" class=\"sk-toggleable__label sk-toggleable__label-arrow\">KNeighborsClassifier</label><div class=\"sk-toggleable__content\"><pre>KNeighborsClassifier()</pre></div></div></div></div></div>"
            ]
          },
          "metadata": {},
          "execution_count": 9
        }
      ]
    },
    {
      "cell_type": "code",
      "source": [
        "from sklearn.metrics import roc_auc_score\n",
        "\n",
        "train_preds = knn.predict_proba(X_train)[:, 1]\n",
        "\n",
        "val_preds = knn.predict_proba(X_val)[:, 1]\n",
        "\n",
        "train_auc = roc_auc_score(train_targets, train_preds)\n",
        "val_auc = roc_auc_score(val_targets, val_preds)\n",
        "\n",
        "print(f'Train AUC: {train_auc}')\n",
        "print(f'Validation AUC: {val_auc}')\n"
      ],
      "metadata": {
        "id": "45GNWjbkFvQF",
        "colab": {
          "base_uri": "https://localhost:8080/"
        },
        "outputId": "17a7fbc5-38a2-47f7-9095-97f7684f4cc8"
      },
      "execution_count": 10,
      "outputs": [
        {
          "output_type": "stream",
          "name": "stdout",
          "text": [
            "Train AUC: 0.9559428457733543\n",
            "Validation AUC: 0.852585568283147\n"
          ]
        }
      ]
    },
    {
      "cell_type": "markdown",
      "source": [
        "**Висновок**: Результати показують, що модель добре працює на тренувальних даних (AUC = 0.955), але трохи гірше на валідаційних (AUC = 0.85). Validation AUC є достатньо високим, що свідчить про те, що модель загалом добре узагальнює на невидимих даних, але є певна різниця між Train AUC і Validation AUC, що може свідчити про те, що модель трохи перенавчилася (high variance). Однак, ця різниця не є дуже великою, тому перенавчання не є серйозним, модель хороша але є можливість покращити."
      ],
      "metadata": {
        "id": "NUQa040wHBhE"
      }
    },
    {
      "cell_type": "markdown",
      "source": [
        "2. Використовуючи `GridSearchCV` знайдіть оптимальне значення параметра `n_neighbors` для класифікатора `kNN`. Псотавте крос валідацію на 5 фолдів.\n",
        "\n",
        "  Після успішного завершення пошуку оптимального гіперпараметра\n",
        "    - виведіть найкраще значення параметра\n",
        "    - збережіть в окрему змінну `knn_best` найкращу модель, знайдену з `GridSearchCV`\n",
        "    - оцініть якість передбачень  `knn_best` на тренувальній і валідаційній вибірці з допомогою AUROC.\n",
        "    - зробіть висновок про якість моделі. Чи стала вона краще порівняно з попереднім пукнтом (2) цього завдання? Чи є вона краще за дерево прийняття рішень з попереднього ДЗ?"
      ],
      "metadata": {
        "id": "U4hm5qYs_f7x"
      }
    },
    {
      "cell_type": "code",
      "source": [
        "knn_2 = KNeighborsClassifier()\n",
        "params_knn = {'n_neighbors': np.arange(1, 25)}\n",
        "knn_gs = GridSearchCV(knn, params_knn, cv=5)\n",
        "knn_gs.fit(X_train, train_targets)"
      ],
      "metadata": {
        "id": "a50AtDZ9IDNx",
        "colab": {
          "base_uri": "https://localhost:8080/",
          "height": 118
        },
        "outputId": "27083461-28a5-46a4-fd30-b95d799ae404"
      },
      "execution_count": 11,
      "outputs": [
        {
          "output_type": "execute_result",
          "data": {
            "text/plain": [
              "GridSearchCV(cv=5, estimator=KNeighborsClassifier(),\n",
              "             param_grid={'n_neighbors': array([ 1,  2,  3,  4,  5,  6,  7,  8,  9, 10, 11, 12, 13, 14, 15, 16, 17,\n",
              "       18, 19, 20, 21, 22, 23, 24])})"
            ],
            "text/html": [
              "<style>#sk-container-id-2 {color: black;}#sk-container-id-2 pre{padding: 0;}#sk-container-id-2 div.sk-toggleable {background-color: white;}#sk-container-id-2 label.sk-toggleable__label {cursor: pointer;display: block;width: 100%;margin-bottom: 0;padding: 0.3em;box-sizing: border-box;text-align: center;}#sk-container-id-2 label.sk-toggleable__label-arrow:before {content: \"▸\";float: left;margin-right: 0.25em;color: #696969;}#sk-container-id-2 label.sk-toggleable__label-arrow:hover:before {color: black;}#sk-container-id-2 div.sk-estimator:hover label.sk-toggleable__label-arrow:before {color: black;}#sk-container-id-2 div.sk-toggleable__content {max-height: 0;max-width: 0;overflow: hidden;text-align: left;background-color: #f0f8ff;}#sk-container-id-2 div.sk-toggleable__content pre {margin: 0.2em;color: black;border-radius: 0.25em;background-color: #f0f8ff;}#sk-container-id-2 input.sk-toggleable__control:checked~div.sk-toggleable__content {max-height: 200px;max-width: 100%;overflow: auto;}#sk-container-id-2 input.sk-toggleable__control:checked~label.sk-toggleable__label-arrow:before {content: \"▾\";}#sk-container-id-2 div.sk-estimator input.sk-toggleable__control:checked~label.sk-toggleable__label {background-color: #d4ebff;}#sk-container-id-2 div.sk-label input.sk-toggleable__control:checked~label.sk-toggleable__label {background-color: #d4ebff;}#sk-container-id-2 input.sk-hidden--visually {border: 0;clip: rect(1px 1px 1px 1px);clip: rect(1px, 1px, 1px, 1px);height: 1px;margin: -1px;overflow: hidden;padding: 0;position: absolute;width: 1px;}#sk-container-id-2 div.sk-estimator {font-family: monospace;background-color: #f0f8ff;border: 1px dotted black;border-radius: 0.25em;box-sizing: border-box;margin-bottom: 0.5em;}#sk-container-id-2 div.sk-estimator:hover {background-color: #d4ebff;}#sk-container-id-2 div.sk-parallel-item::after {content: \"\";width: 100%;border-bottom: 1px solid gray;flex-grow: 1;}#sk-container-id-2 div.sk-label:hover label.sk-toggleable__label {background-color: #d4ebff;}#sk-container-id-2 div.sk-serial::before {content: \"\";position: absolute;border-left: 1px solid gray;box-sizing: border-box;top: 0;bottom: 0;left: 50%;z-index: 0;}#sk-container-id-2 div.sk-serial {display: flex;flex-direction: column;align-items: center;background-color: white;padding-right: 0.2em;padding-left: 0.2em;position: relative;}#sk-container-id-2 div.sk-item {position: relative;z-index: 1;}#sk-container-id-2 div.sk-parallel {display: flex;align-items: stretch;justify-content: center;background-color: white;position: relative;}#sk-container-id-2 div.sk-item::before, #sk-container-id-2 div.sk-parallel-item::before {content: \"\";position: absolute;border-left: 1px solid gray;box-sizing: border-box;top: 0;bottom: 0;left: 50%;z-index: -1;}#sk-container-id-2 div.sk-parallel-item {display: flex;flex-direction: column;z-index: 1;position: relative;background-color: white;}#sk-container-id-2 div.sk-parallel-item:first-child::after {align-self: flex-end;width: 50%;}#sk-container-id-2 div.sk-parallel-item:last-child::after {align-self: flex-start;width: 50%;}#sk-container-id-2 div.sk-parallel-item:only-child::after {width: 0;}#sk-container-id-2 div.sk-dashed-wrapped {border: 1px dashed gray;margin: 0 0.4em 0.5em 0.4em;box-sizing: border-box;padding-bottom: 0.4em;background-color: white;}#sk-container-id-2 div.sk-label label {font-family: monospace;font-weight: bold;display: inline-block;line-height: 1.2em;}#sk-container-id-2 div.sk-label-container {text-align: center;}#sk-container-id-2 div.sk-container {/* jupyter's `normalize.less` sets `[hidden] { display: none; }` but bootstrap.min.css set `[hidden] { display: none !important; }` so we also need the `!important` here to be able to override the default hidden behavior on the sphinx rendered scikit-learn.org. See: https://github.com/scikit-learn/scikit-learn/issues/21755 */display: inline-block !important;position: relative;}#sk-container-id-2 div.sk-text-repr-fallback {display: none;}</style><div id=\"sk-container-id-2\" class=\"sk-top-container\"><div class=\"sk-text-repr-fallback\"><pre>GridSearchCV(cv=5, estimator=KNeighborsClassifier(),\n",
              "             param_grid={&#x27;n_neighbors&#x27;: array([ 1,  2,  3,  4,  5,  6,  7,  8,  9, 10, 11, 12, 13, 14, 15, 16, 17,\n",
              "       18, 19, 20, 21, 22, 23, 24])})</pre><b>In a Jupyter environment, please rerun this cell to show the HTML representation or trust the notebook. <br />On GitHub, the HTML representation is unable to render, please try loading this page with nbviewer.org.</b></div><div class=\"sk-container\" hidden><div class=\"sk-item sk-dashed-wrapped\"><div class=\"sk-label-container\"><div class=\"sk-label sk-toggleable\"><input class=\"sk-toggleable__control sk-hidden--visually\" id=\"sk-estimator-id-2\" type=\"checkbox\" ><label for=\"sk-estimator-id-2\" class=\"sk-toggleable__label sk-toggleable__label-arrow\">GridSearchCV</label><div class=\"sk-toggleable__content\"><pre>GridSearchCV(cv=5, estimator=KNeighborsClassifier(),\n",
              "             param_grid={&#x27;n_neighbors&#x27;: array([ 1,  2,  3,  4,  5,  6,  7,  8,  9, 10, 11, 12, 13, 14, 15, 16, 17,\n",
              "       18, 19, 20, 21, 22, 23, 24])})</pre></div></div></div><div class=\"sk-parallel\"><div class=\"sk-parallel-item\"><div class=\"sk-item\"><div class=\"sk-label-container\"><div class=\"sk-label sk-toggleable\"><input class=\"sk-toggleable__control sk-hidden--visually\" id=\"sk-estimator-id-3\" type=\"checkbox\" ><label for=\"sk-estimator-id-3\" class=\"sk-toggleable__label sk-toggleable__label-arrow\">estimator: KNeighborsClassifier</label><div class=\"sk-toggleable__content\"><pre>KNeighborsClassifier()</pre></div></div></div><div class=\"sk-serial\"><div class=\"sk-item\"><div class=\"sk-estimator sk-toggleable\"><input class=\"sk-toggleable__control sk-hidden--visually\" id=\"sk-estimator-id-4\" type=\"checkbox\" ><label for=\"sk-estimator-id-4\" class=\"sk-toggleable__label sk-toggleable__label-arrow\">KNeighborsClassifier</label><div class=\"sk-toggleable__content\"><pre>KNeighborsClassifier()</pre></div></div></div></div></div></div></div></div></div></div>"
            ]
          },
          "metadata": {},
          "execution_count": 11
        }
      ]
    },
    {
      "cell_type": "code",
      "source": [
        "knn_best = knn_gs.best_estimator_\n",
        "\n",
        "print(knn_gs.best_params_, knn_gs.best_score_)"
      ],
      "metadata": {
        "id": "y1jU051ZIli7",
        "colab": {
          "base_uri": "https://localhost:8080/"
        },
        "outputId": "f6c1a421-5f6a-4d77-940f-f488ec2ac5c0"
      },
      "execution_count": 12,
      "outputs": [
        {
          "output_type": "stream",
          "name": "stdout",
          "text": [
            "{'n_neighbors': 9} 0.8671666666666666\n"
          ]
        }
      ]
    },
    {
      "cell_type": "code",
      "source": [
        "train_preds_2 = knn_best.predict_proba(X_train)[:, 1]\n",
        "\n",
        "val_preds_2 = knn_best.predict_proba(X_val)[:, 1]\n",
        "\n",
        "train_auc_2 = roc_auc_score(train_targets, train_preds_2)\n",
        "val_auc_2 = roc_auc_score(val_targets, val_preds_2)\n",
        "\n",
        "print(f'Train AUC: {train_auc_2}')\n",
        "print(f'Validation AUC: {val_auc_2}')"
      ],
      "metadata": {
        "id": "TE4AydLrJcHd",
        "colab": {
          "base_uri": "https://localhost:8080/"
        },
        "outputId": "546473e4-fb7e-429f-f1a7-ef5f6b7ad2e1"
      },
      "execution_count": 13,
      "outputs": [
        {
          "output_type": "stream",
          "name": "stdout",
          "text": [
            "Train AUC: 0.9407278147861952\n",
            "Validation AUC: 0.8808731737430551\n"
          ]
        }
      ]
    },
    {
      "cell_type": "markdown",
      "source": [
        "**Висновок:**  Val AUC дещо покращився порівняно з попереднім результатом,\n",
        "Результати при застосуванні моделі DecisionTree  були трохи кращими."
      ],
      "metadata": {
        "id": "RsyXAQSTK9gB"
      }
    },
    {
      "cell_type": "markdown",
      "source": [
        "3. Виконайте пошук оптимальних гіперпараметрів для `DecisionTreeClassifier` з `GridSearchCV` за сіткою параметрів\n",
        "  - `max_depth` від 1 до 20 з кроком 2\n",
        "  - `max_leaf_nodes` від 2 до 10 з кроком 1\n",
        "\n",
        "  Обовʼязково при цьому ініціюйте модель з фіксацією `random_seed`.\n",
        "\n",
        "  Поставте кросвалідацію на 3 фолди, `scoring='roc_auc'`, та виміряйте, скільки часу потребує пошук оптимальних гіперпараметрів.\n",
        "\n",
        "  Після успішного завершення пошуку оптимальних гіперпараметрів\n",
        "    - виведіть найкращі значення параметра\n",
        "    - збережіть в окрему змінну `dt_best` найкращу модель, знайдену з `GridSearchCV`\n",
        "    - оцініть якість передбачень  `dt_best` на тренувальній і валідаційній вибірці з допомогою AUROC.\n",
        "    - зробіть висновок про якість моделі. Чи ця модель краща за ту, що ви знайшли вручну?"
      ],
      "metadata": {
        "id": "Vg77SVWrBBmU"
      }
    },
    {
      "cell_type": "code",
      "source": [
        "import time\n",
        "from sklearn.tree import DecisionTreeClassifier"
      ],
      "metadata": {
        "id": "x5Z0TiCQPBsS"
      },
      "execution_count": 14,
      "outputs": []
    },
    {
      "cell_type": "code",
      "source": [
        "random_seed = 42\n",
        "dtc = DecisionTreeClassifier(random_state=random_seed)\n",
        "\n",
        "\n",
        "param_grid = {\n",
        "    'max_depth': np.arange(1, 21, 2),\n",
        "    'max_leaf_nodes': np.arange(2, 11, 1)\n",
        "}\n",
        "\n",
        "grid_search = GridSearchCV(dtc, param_grid, cv=3, scoring='roc_auc', n_jobs=-1)\n",
        "\n",
        "\n",
        "start_time = time.time()\n",
        "grid_search.fit(X_train, train_targets)\n",
        "end_time = time.time()\n",
        "\n",
        "execution_time = end_time - start_time\n",
        "\n",
        "best_params = grid_search.best_params_\n",
        "best_score = grid_search.best_score_\n",
        "\n",
        "print(f\"Execution Time: {execution_time} seconds\")\n",
        "print(f\"Best Parameters: {best_params}\")\n",
        "print(f\"Best ROC AUC Score: {best_score}\")"
      ],
      "metadata": {
        "id": "RVg6jX-7IEwl",
        "colab": {
          "base_uri": "https://localhost:8080/"
        },
        "outputId": "6c25de2d-f4e1-4a96-c36a-bc55621583c8"
      },
      "execution_count": 15,
      "outputs": [
        {
          "output_type": "stream",
          "name": "stdout",
          "text": [
            "Execution Time: 14.037753105163574 seconds\n",
            "Best Parameters: {'max_depth': 5, 'max_leaf_nodes': 10}\n",
            "Best ROC AUC Score: 0.9013929183420709\n"
          ]
        }
      ]
    },
    {
      "cell_type": "code",
      "source": [
        "dt_best = grid_search.best_estimator_\n",
        "\n",
        "\n",
        "train_preds = dt_best.predict_proba(X_train)[:, 1]\n",
        "val_preds = dt_best.predict_proba(X_val)[:, 1]\n",
        "\n",
        "train_auc = roc_auc_score(train_targets, train_preds)\n",
        "val_auc = roc_auc_score(val_targets, val_preds)\n",
        "\n",
        "print(f\"Train ROC AUC: {train_auc}\")\n",
        "print(f\"Validation ROC AUC: {val_auc}\")\n"
      ],
      "metadata": {
        "id": "1KxPWmWcPM9i",
        "colab": {
          "base_uri": "https://localhost:8080/"
        },
        "outputId": "c37875ee-0222-4ce5-a90d-7e3adb5d5509"
      },
      "execution_count": 16,
      "outputs": [
        {
          "output_type": "stream",
          "name": "stdout",
          "text": [
            "Train ROC AUC: 0.9014754782174744\n",
            "Validation ROC AUC: 0.9002184649152891\n"
          ]
        }
      ]
    },
    {
      "cell_type": "markdown",
      "source": [
        "**Висновок**: якість моделі достатньо висока як на тренувальних, так і на валідаційних даних. Якщо порівняти ту модель яку я отрмала в попередній дз ( 'Max Depth': 6, 'Train AUC': 0.9321867224860289, 'Validation AUC': 0.9199790479150028) то отримані значення трошки нижче."
      ],
      "metadata": {
        "id": "8gyGtQczVB7R"
      }
    },
    {
      "cell_type": "markdown",
      "source": [
        "4. Виконайте пошук оптимальних гіперпараметрів для `DecisionTreeClassifier` з `RandomizedSearchCV` за заданою сіткою параметрів і кількість ітерацій 40.\n",
        "\n",
        "  Поставте кросвалідацію на 3 фолди, `scoring='roc_auc'`, зафіксуйте `random_seed` процедури крос валідації та виміряйте, скільки часу потребує пошук оптимальних гіперпараметрів.\n",
        "\n",
        "  Після успішного завершення пошуку оптимальних гіперпараметрів\n",
        "    - виведіть найкращі значення параметра\n",
        "    - збережіть в окрему змінну `dt_random_search_best` найкращу модель, знайдену з `RandomizedSearchCV`\n",
        "    - оцініть якість передбачень  `dt_random_search_best` на тренувальній і валідаційній вибірці з допомогою AUROC.\n",
        "    - зробіть висновок про якість моделі. Чи ця модель краща за ту, що ви знайшли з `GridSearch`?\n",
        "    - проаналізуйте параметри `dt_random_search_best` і порівняйте з параметрами `dt_best` - яку бачите відмінність? Ця вправа потрібна аби зрозуміти, як різні налаштування `DecisionTreeClassifier` впливають на якість моделі."
      ],
      "metadata": {
        "id": "nCnkGD_sEW1i"
      }
    },
    {
      "cell_type": "code",
      "source": [
        "params_dt = {\n",
        "    'criterion': ['gini', 'entropy'],\n",
        "    'splitter': ['best', 'random'],\n",
        "    'max_depth': np.arange(1, 20),\n",
        "    'max_leaf_nodes': np.arange(2, 20),\n",
        "    'min_samples_split': [2, 5, 10, 20],\n",
        "    'min_samples_leaf': [1, 2, 4, 8],\n",
        "    'max_features': [None, 'sqrt', 'log2']\n",
        "}"
      ],
      "metadata": {
        "id": "665uQ3NdIG0s"
      },
      "execution_count": 17,
      "outputs": []
    },
    {
      "cell_type": "code",
      "source": [
        "from sklearn.model_selection import RandomizedSearchCV\n",
        "from sklearn.model_selection import RandomizedSearchCV\n",
        "from sklearn.metrics import roc_auc_score\n",
        "from sklearn.tree import DecisionTreeClassifier"
      ],
      "metadata": {
        "id": "kUnMeMEc3gXb"
      },
      "execution_count": 18,
      "outputs": []
    },
    {
      "cell_type": "code",
      "source": [
        "random_seed = 42\n",
        "dtc_2 = DecisionTreeClassifier(random_state=random_seed)\n",
        "\n",
        "params_dt = {\n",
        "    'criterion': ['gini', 'entropy'],\n",
        "    'splitter': ['best', 'random'],\n",
        "    'max_depth': np.arange(1, 20),\n",
        "    'max_leaf_nodes': np.arange(2, 20),\n",
        "    'min_samples_split': [2, 5, 10, 20],\n",
        "    'min_samples_leaf': [1, 2, 4, 8],\n",
        "    'max_features': [None, 'sqrt', 'log2']\n",
        "}\n",
        "\n",
        "random_search = RandomizedSearchCV(\n",
        "    dtc_2,\n",
        "    params_dt,\n",
        "    cv=3,\n",
        "    scoring='roc_auc',\n",
        "    n_jobs=-1,\n",
        "    random_state=random_seed,\n",
        "    n_iter=40,\n",
        "    verbose=1\n",
        ")\n",
        "\n",
        "random_search.fit(X_train, train_targets)\n",
        "print(random_search.best_estimator_)\n",
        "\n"
      ],
      "metadata": {
        "id": "MyHVD-R0IXqv",
        "colab": {
          "base_uri": "https://localhost:8080/"
        },
        "outputId": "e92b9ebf-7348-49b3-bd41-e2adf27f3b12"
      },
      "execution_count": 19,
      "outputs": [
        {
          "output_type": "stream",
          "name": "stdout",
          "text": [
            "Fitting 3 folds for each of 40 candidates, totalling 120 fits\n",
            "DecisionTreeClassifier(criterion='entropy', max_depth=16, max_leaf_nodes=14,\n",
            "                       min_samples_leaf=2, min_samples_split=20,\n",
            "                       random_state=42)\n"
          ]
        }
      ]
    },
    {
      "cell_type": "code",
      "source": [
        "dt_random_search_best = random_search.best_estimator_\n",
        "\n",
        "train_preds = dt_random_search_best.predict_proba(X_train)[:, 1]\n",
        "val_preds = dt_random_search_best.predict_proba(X_val)[:, 1]\n",
        "\n",
        "train_auc = roc_auc_score(train_targets, train_preds)\n",
        "val_auc = roc_auc_score(val_targets, val_preds)\n",
        "\n",
        "\n",
        "best_params = random_search.best_params_\n",
        "best_score = random_search.best_score_\n",
        "\n",
        "print(f\"Best Parameters: {best_params}\")\n",
        "print(f\"Best ROC AUC Score (cross-validated): {best_score}\")\n",
        "print(f\"Train ROC AUC: {train_auc}\")\n",
        "print(f\"Validation ROC AUC: {val_auc}\")"
      ],
      "metadata": {
        "colab": {
          "base_uri": "https://localhost:8080/"
        },
        "id": "46NvXPwi6Sed",
        "outputId": "a2224209-60a4-4226-92e3-da681d3087de"
      },
      "execution_count": 20,
      "outputs": [
        {
          "output_type": "stream",
          "name": "stdout",
          "text": [
            "Best Parameters: {'splitter': 'best', 'min_samples_split': 20, 'min_samples_leaf': 2, 'max_leaf_nodes': 14, 'max_features': None, 'max_depth': 16, 'criterion': 'entropy'}\n",
            "Best ROC AUC Score (cross-validated): 0.910864318350194\n",
            "Train ROC AUC: 0.9169275635848141\n",
            "Validation ROC AUC: 0.9166204815145071\n"
          ]
        }
      ]
    },
    {
      "cell_type": "markdown",
      "source": [
        "**Висновок:**  Якість моделі покращилась як на тренувальних так і на валідаційних даних. Найкращі параметри відрізняються в *попередній модел*і ( Best Parameters: {'max_depth': 5, 'max_leaf_nodes': 10}) та *теперішній*: Best Parameters: {'splitter': 'best', 'min_samples_split': 20, 'min_samples_leaf': 2, 'max_leaf_nodes': 14, 'max_features': None, 'max_depth': 16, 'criterion': 'entropy'}"
      ],
      "metadata": {
        "id": "BKPfVqWt7GE8"
      }
    },
    {
      "cell_type": "markdown",
      "source": [
        "5. Якщо у Вас вийшла метрика `AUROC` в цій серії експериментів - зробіть ще один `submission` на Kaggle і додайте код для цього і скріншот скора на публічному лідерборді нижче.\n",
        "\n",
        "  Сподіваюсь на цьому етапі ви вже відчули себе справжнім дослідником 😉"
      ],
      "metadata": {
        "id": "XArADR2CG8VK"
      }
    },
    {
      "cell_type": "code",
      "source": [
        "from process_bank_churn import preprocess_new_data"
      ],
      "metadata": {
        "id": "vadJfLlMF_V3"
      },
      "execution_count": 21,
      "outputs": []
    },
    {
      "cell_type": "code",
      "source": [
        "test_raw_df = pd.read_csv('/content/drive/MyDrive/Data Science/test.csv')\n",
        "test_raw_df = test_raw_df.drop(columns=['id'])\n"
      ],
      "metadata": {
        "id": "v55XoxjE79Ww"
      },
      "execution_count": 22,
      "outputs": []
    },
    {
      "cell_type": "code",
      "source": [
        "X_test = preprocess_new_data(test_raw_df, input_cols, scaler, encoder, scale_numeric=False)"
      ],
      "metadata": {
        "id": "wHppYRGl8ApR"
      },
      "execution_count": 23,
      "outputs": []
    },
    {
      "cell_type": "code",
      "source": [
        "test_preds = dt_random_search_best.predict_proba(X_test)[:, 1]"
      ],
      "metadata": {
        "id": "-tJ8f8RE8Qeg"
      },
      "execution_count": 24,
      "outputs": []
    },
    {
      "cell_type": "code",
      "source": [
        "submission_df = pd.DataFrame({'Id': test_raw_df.index, 'Exited': test_preds})"
      ],
      "metadata": {
        "id": "6FP_qscw8jiR"
      },
      "execution_count": 25,
      "outputs": []
    },
    {
      "cell_type": "code",
      "source": [
        "sample_submission_df=pd.read_csv('/content/drive/MyDrive/Data Science/sample_submission.csv')"
      ],
      "metadata": {
        "id": "JiZEcPsm8ngP"
      },
      "execution_count": 26,
      "outputs": []
    },
    {
      "cell_type": "code",
      "source": [
        "sample_submission_df['Exited']=submission_df['Exited']"
      ],
      "metadata": {
        "id": "0NvtAx5i8sys"
      },
      "execution_count": 27,
      "outputs": []
    },
    {
      "cell_type": "code",
      "source": [
        "sample_submission_df.to_csv('submission_trees_search.csv', index=False)"
      ],
      "metadata": {
        "id": "T-SxgjNr8t_9"
      },
      "execution_count": 28,
      "outputs": []
    },
    {
      "cell_type": "markdown",
      "source": [
        "![image.png](data:image/png;base64,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)"
      ],
      "metadata": {
        "id": "MY4dy2uL9epa"
      }
    }
  ]
}